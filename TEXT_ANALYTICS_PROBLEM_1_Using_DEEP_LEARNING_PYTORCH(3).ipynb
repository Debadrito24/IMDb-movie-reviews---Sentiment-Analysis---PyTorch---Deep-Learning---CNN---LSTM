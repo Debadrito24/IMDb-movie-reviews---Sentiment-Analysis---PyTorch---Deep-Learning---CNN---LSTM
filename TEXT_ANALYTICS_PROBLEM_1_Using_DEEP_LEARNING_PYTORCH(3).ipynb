{
 "cells": [
  {
   "cell_type": "markdown",
   "metadata": {
    "id": "Hg7PZmIo2re3"
   },
   "source": [
    "# Libraries"
   ]
  },
  {
   "cell_type": "code",
   "execution_count": 240,
   "metadata": {
    "id": "dqZiNv6QoeDT"
   },
   "outputs": [],
   "source": [
    "import numpy as np\n",
    "import pandas as pd\n",
    "import matplotlib.pyplot as plt\n",
    "import torch\n",
    "from torchtext import data\n",
    "from torchtext import datasets\n",
    "from torchtext.legacy import data\n",
    "from torchtext.legacy import datasets\n",
    "\n",
    "#Load english tokenizer,tagger,parser and nera(named entity recognizer)\n",
    "\n",
    "import spacy\n",
    "nlp = spacy.load('en_core_web_sm')"
   ]
  },
  {
   "cell_type": "markdown",
   "metadata": {
    "id": "7G-E_aKMWb6T"
   },
   "source": [
    "# DOWNLOAD AND READING DATA"
   ]
  },
  {
   "cell_type": "code",
   "execution_count": 241,
   "metadata": {
    "id": "6u_F8_mtU0PR"
   },
   "outputs": [],
   "source": [
    "data_f = pd.read_csv('/content/drive/MyDrive/TXTA PROJ/IMDb-sample.csv',header=0)"
   ]
  },
  {
   "cell_type": "code",
   "execution_count": 242,
   "metadata": {
    "id": "SkjYCycxU0So"
   },
   "outputs": [],
   "source": [
    "data_f.drop(columns=['Index','URL'],axis=1,inplace=True)"
   ]
  },
  {
   "cell_type": "code",
   "execution_count": 243,
   "metadata": {
    "colab": {
     "base_uri": "https://localhost:8080/",
     "height": 195
    },
    "id": "AjsuVub0U0Vy",
    "outputId": "23ba2200-381a-4b90-d202-a7cc065ce635"
   },
   "outputs": [
    {
     "data": {
      "text/html": [
       "<div>\n",
       "<style scoped>\n",
       "    .dataframe tbody tr th:only-of-type {\n",
       "        vertical-align: middle;\n",
       "    }\n",
       "\n",
       "    .dataframe tbody tr th {\n",
       "        vertical-align: top;\n",
       "    }\n",
       "\n",
       "    .dataframe thead th {\n",
       "        text-align: right;\n",
       "    }\n",
       "</style>\n",
       "<table border=\"1\" class=\"dataframe\">\n",
       "  <thead>\n",
       "    <tr style=\"text-align: right;\">\n",
       "      <th></th>\n",
       "      <th>Text</th>\n",
       "      <th>Sentiment</th>\n",
       "    </tr>\n",
       "  </thead>\n",
       "  <tbody>\n",
       "    <tr>\n",
       "      <th>0</th>\n",
       "      <td>Girlfight follows a project dwelling New York ...</td>\n",
       "      <td>POS</td>\n",
       "    </tr>\n",
       "    <tr>\n",
       "      <th>1</th>\n",
       "      <td>Hollywood North is an euphemism from the movie...</td>\n",
       "      <td>POS</td>\n",
       "    </tr>\n",
       "    <tr>\n",
       "      <th>2</th>\n",
       "      <td>That '70s Show is definitely the funniest show...</td>\n",
       "      <td>POS</td>\n",
       "    </tr>\n",
       "    <tr>\n",
       "      <th>3</th>\n",
       "      <td>9/10- 30 minutes of pure holiday terror. Okay,...</td>\n",
       "      <td>POS</td>\n",
       "    </tr>\n",
       "    <tr>\n",
       "      <th>4</th>\n",
       "      <td>A series of random, seemingly insignificant th...</td>\n",
       "      <td>POS</td>\n",
       "    </tr>\n",
       "  </tbody>\n",
       "</table>\n",
       "</div>"
      ],
      "text/plain": [
       "                                                Text Sentiment\n",
       "0  Girlfight follows a project dwelling New York ...       POS\n",
       "1  Hollywood North is an euphemism from the movie...       POS\n",
       "2  That '70s Show is definitely the funniest show...       POS\n",
       "3  9/10- 30 minutes of pure holiday terror. Okay,...       POS\n",
       "4  A series of random, seemingly insignificant th...       POS"
      ]
     },
     "execution_count": 243,
     "metadata": {
      "tags": []
     },
     "output_type": "execute_result"
    }
   ],
   "source": [
    "data_f.head(5)"
   ]
  },
  {
   "cell_type": "code",
   "execution_count": 244,
   "metadata": {
    "id": "_ASrNHYeU03C"
   },
   "outputs": [],
   "source": [
    "# Assign column names\n",
    "columan_name = ['text', 'label']\n",
    "data_f.columns = columan_name"
   ]
  },
  {
   "cell_type": "code",
   "execution_count": 245,
   "metadata": {
    "colab": {
     "base_uri": "https://localhost:8080/",
     "height": 195
    },
    "id": "t2cjk5DaU06K",
    "outputId": "6a6cab6a-a217-420d-bc4f-ab54bfbbe593"
   },
   "outputs": [
    {
     "data": {
      "text/html": [
       "<div>\n",
       "<style scoped>\n",
       "    .dataframe tbody tr th:only-of-type {\n",
       "        vertical-align: middle;\n",
       "    }\n",
       "\n",
       "    .dataframe tbody tr th {\n",
       "        vertical-align: top;\n",
       "    }\n",
       "\n",
       "    .dataframe thead th {\n",
       "        text-align: right;\n",
       "    }\n",
       "</style>\n",
       "<table border=\"1\" class=\"dataframe\">\n",
       "  <thead>\n",
       "    <tr style=\"text-align: right;\">\n",
       "      <th></th>\n",
       "      <th>text</th>\n",
       "      <th>label</th>\n",
       "    </tr>\n",
       "  </thead>\n",
       "  <tbody>\n",
       "    <tr>\n",
       "      <th>0</th>\n",
       "      <td>Girlfight follows a project dwelling New York ...</td>\n",
       "      <td>POS</td>\n",
       "    </tr>\n",
       "    <tr>\n",
       "      <th>1</th>\n",
       "      <td>Hollywood North is an euphemism from the movie...</td>\n",
       "      <td>POS</td>\n",
       "    </tr>\n",
       "    <tr>\n",
       "      <th>2</th>\n",
       "      <td>That '70s Show is definitely the funniest show...</td>\n",
       "      <td>POS</td>\n",
       "    </tr>\n",
       "    <tr>\n",
       "      <th>3</th>\n",
       "      <td>9/10- 30 minutes of pure holiday terror. Okay,...</td>\n",
       "      <td>POS</td>\n",
       "    </tr>\n",
       "    <tr>\n",
       "      <th>4</th>\n",
       "      <td>A series of random, seemingly insignificant th...</td>\n",
       "      <td>POS</td>\n",
       "    </tr>\n",
       "  </tbody>\n",
       "</table>\n",
       "</div>"
      ],
      "text/plain": [
       "                                                text label\n",
       "0  Girlfight follows a project dwelling New York ...   POS\n",
       "1  Hollywood North is an euphemism from the movie...   POS\n",
       "2  That '70s Show is definitely the funniest show...   POS\n",
       "3  9/10- 30 minutes of pure holiday terror. Okay,...   POS\n",
       "4  A series of random, seemingly insignificant th...   POS"
      ]
     },
     "execution_count": 245,
     "metadata": {
      "tags": []
     },
     "output_type": "execute_result"
    }
   ],
   "source": [
    "data_f.head()"
   ]
  },
  {
   "cell_type": "code",
   "execution_count": 246,
   "metadata": {
    "colab": {
     "base_uri": "https://localhost:8080/"
    },
    "id": "_-TNoiJ3U09Y",
    "outputId": "4edbf770-0420-464d-a1d8-2d8d2577043e"
   },
   "outputs": [
    {
     "data": {
      "text/plain": [
       "(2000, 2)"
      ]
     },
     "execution_count": 246,
     "metadata": {
      "tags": []
     },
     "output_type": "execute_result"
    }
   ],
   "source": [
    "data_f.shape\n",
    "# 2000 rows (reviews), 2 columns (Sentiments)"
   ]
  },
  {
   "cell_type": "code",
   "execution_count": 247,
   "metadata": {
    "id": "u0-mJKfgU1AR"
   },
   "outputs": [],
   "source": [
    "data_f['label']=data_f['label'].apply(lambda x: 1 if x == 'POS' else 0)"
   ]
  },
  {
   "cell_type": "code",
   "execution_count": 248,
   "metadata": {
    "colab": {
     "base_uri": "https://localhost:8080/",
     "height": 195
    },
    "id": "9KPJsDppU1DT",
    "outputId": "58d89cd8-415b-4c54-c45e-7ba3608ab4fc"
   },
   "outputs": [
    {
     "data": {
      "text/html": [
       "<div>\n",
       "<style scoped>\n",
       "    .dataframe tbody tr th:only-of-type {\n",
       "        vertical-align: middle;\n",
       "    }\n",
       "\n",
       "    .dataframe tbody tr th {\n",
       "        vertical-align: top;\n",
       "    }\n",
       "\n",
       "    .dataframe thead th {\n",
       "        text-align: right;\n",
       "    }\n",
       "</style>\n",
       "<table border=\"1\" class=\"dataframe\">\n",
       "  <thead>\n",
       "    <tr style=\"text-align: right;\">\n",
       "      <th></th>\n",
       "      <th>text</th>\n",
       "      <th>label</th>\n",
       "    </tr>\n",
       "  </thead>\n",
       "  <tbody>\n",
       "    <tr>\n",
       "      <th>0</th>\n",
       "      <td>Girlfight follows a project dwelling New York ...</td>\n",
       "      <td>1</td>\n",
       "    </tr>\n",
       "    <tr>\n",
       "      <th>1</th>\n",
       "      <td>Hollywood North is an euphemism from the movie...</td>\n",
       "      <td>1</td>\n",
       "    </tr>\n",
       "    <tr>\n",
       "      <th>2</th>\n",
       "      <td>That '70s Show is definitely the funniest show...</td>\n",
       "      <td>1</td>\n",
       "    </tr>\n",
       "    <tr>\n",
       "      <th>3</th>\n",
       "      <td>9/10- 30 minutes of pure holiday terror. Okay,...</td>\n",
       "      <td>1</td>\n",
       "    </tr>\n",
       "    <tr>\n",
       "      <th>4</th>\n",
       "      <td>A series of random, seemingly insignificant th...</td>\n",
       "      <td>1</td>\n",
       "    </tr>\n",
       "  </tbody>\n",
       "</table>\n",
       "</div>"
      ],
      "text/plain": [
       "                                                text  label\n",
       "0  Girlfight follows a project dwelling New York ...      1\n",
       "1  Hollywood North is an euphemism from the movie...      1\n",
       "2  That '70s Show is definitely the funniest show...      1\n",
       "3  9/10- 30 minutes of pure holiday terror. Okay,...      1\n",
       "4  A series of random, seemingly insignificant th...      1"
      ]
     },
     "execution_count": 248,
     "metadata": {
      "tags": []
     },
     "output_type": "execute_result"
    }
   ],
   "source": [
    "data_f.head(5)"
   ]
  },
  {
   "cell_type": "code",
   "execution_count": 249,
   "metadata": {
    "colab": {
     "base_uri": "https://localhost:8080/"
    },
    "id": "bJid1MBGU1Gx",
    "outputId": "73e4283d-7e54-4629-ed85-08c1b2a142a3"
   },
   "outputs": [
    {
     "data": {
      "text/plain": [
       "text     0\n",
       "label    0\n",
       "dtype: int64"
      ]
     },
     "execution_count": 249,
     "metadata": {
      "tags": []
     },
     "output_type": "execute_result"
    }
   ],
   "source": [
    "# check for null values\n",
    "data_f.isnull().sum()\n",
    "\n",
    "# no null values in the data"
   ]
  },
  {
   "cell_type": "code",
   "execution_count": 250,
   "metadata": {
    "colab": {
     "base_uri": "https://localhost:8080/"
    },
    "id": "bJMxmmU1TsFc",
    "outputId": "b6a6a5fb-0f11-4072-af39-c7b161017843"
   },
   "outputs": [
    {
     "name": "stdout",
     "output_type": "stream",
     "text": [
      "<class 'pandas.core.frame.DataFrame'>\n",
      "RangeIndex: 2000 entries, 0 to 1999\n",
      "Data columns (total 2 columns):\n",
      " #   Column  Non-Null Count  Dtype \n",
      "---  ------  --------------  ----- \n",
      " 0   text    2000 non-null   object\n",
      " 1   label   2000 non-null   int64 \n",
      "dtypes: int64(1), object(1)\n",
      "memory usage: 31.4+ KB\n"
     ]
    }
   ],
   "source": [
    "data_f.info()"
   ]
  },
  {
   "cell_type": "code",
   "execution_count": 233,
   "metadata": {
    "id": "aK35WfGoUMeC"
   },
   "outputs": [],
   "source": [
    "''''from sklearn.model_selection import train_test_split\n",
    "\n",
    "train,test=train_test_split(data_f,test_size=0.2,random_state=0)''''"
   ]
  },
  {
   "cell_type": "code",
   "execution_count": 251,
   "metadata": {
    "id": "_6UH1JBSwkM5"
   },
   "outputs": [],
   "source": [
    "# saving this clean data set as csv file and will upload in drive to be used directly\n",
    "\n",
    "data_f.to_csv('IMDb_cleaned.csv')\n",
    "\n"
   ]
  },
  {
   "cell_type": "markdown",
   "metadata": {
    "id": "YndTq8o_WhJD"
   },
   "source": [
    "# PREPARING DATA"
   ]
  },
  {
   "cell_type": "code",
   "execution_count": 252,
   "metadata": {
    "id": "RL6wAJtqU1x7"
   },
   "outputs": [],
   "source": [
    "#Reproducing same results\n",
    "SEED = 2019\n",
    "\n",
    "#Torch\n",
    "torch.manual_seed(SEED)\n",
    "\n",
    "#Cuda algorithms\n",
    "torch.backends.cudnn.deterministic = True  "
   ]
  },
  {
   "cell_type": "code",
   "execution_count": 253,
   "metadata": {
    "id": "38NnVQVZU105"
   },
   "outputs": [],
   "source": [
    "TEXT = data.Field(tokenize='spacy',batch_first=True,include_lengths=True)\n",
    "LABEL = data.LabelField(dtype = torch.float,batch_first=True)"
   ]
  },
  {
   "cell_type": "code",
   "execution_count": 254,
   "metadata": {
    "id": "aRepo5MLU13_"
   },
   "outputs": [],
   "source": [
    "fields = [(None, None), ('text',TEXT),('label', LABEL)]"
   ]
  },
  {
   "cell_type": "code",
   "execution_count": 255,
   "metadata": {
    "colab": {
     "base_uri": "https://localhost:8080/"
    },
    "id": "yfOqIcCfU16q",
    "outputId": "d25bcd52-0c9d-4e73-c24f-5a4b6754b282"
   },
   "outputs": [
    {
     "name": "stdout",
     "output_type": "stream",
     "text": [
      "{'text': ['text'], 'label': 'label'}\n"
     ]
    }
   ],
   "source": [
    "#loading custom dataset\n",
    "training_data=data.TabularDataset(path = '/content/IMDb_cleaned.csv',format = 'csv',fields = fields)\n",
    "#print preprocessed text\n",
    "print(vars(training_data.examples[0]))"
   ]
  },
  {
   "cell_type": "code",
   "execution_count": 256,
   "metadata": {
    "id": "o7ycrAfvU19s"
   },
   "outputs": [],
   "source": [
    "import random\n",
    "train_data, valid_data = training_data.split(split_ratio=0.7, random_state = random.seed(SEED))"
   ]
  },
  {
   "cell_type": "markdown",
   "metadata": {
    "id": "2hsDivJy21XM"
   },
   "source": [
    "# Preparing input and output sequences:\n",
    "\n",
    "The next step is to build the vocabulary for the text and convert them into integer sequences. Vocabulary contains the unique words in the entire text. Each unique word is assigned an index. Below are the parameters listed for the same\n",
    "\n",
    "Parameters:\n",
    "\n",
    "1. min_freq: Ignores the words in vocabulary which has frequency less than specified one and map it to unknown token.\n",
    "2. Two special tokens known as unknown and padding will be added to the vocabulary\n",
    "Unknown token is used to handle Out Of Vocabulary words\n",
    "Padding token is used to make input sequences of same length.\n",
    "Build vocabulary and initialize the words with the pretrained embeddings."
   ]
  },
  {
   "cell_type": "code",
   "execution_count": 257,
   "metadata": {
    "colab": {
     "base_uri": "https://localhost:8080/"
    },
    "id": "Yu8MPCCgU2Ah",
    "outputId": "c7c1df69-dacd-4c7b-e7c8-aef96fc9ee36"
   },
   "outputs": [
    {
     "name": "stderr",
     "output_type": "stream",
     "text": [
      ".vector_cache/glove.6B.zip: 862MB [02:39, 5.40MB/s]                           \n",
      "100%|█████████▉| 399016/400000 [00:18<00:00, 20613.52it/s]"
     ]
    },
    {
     "name": "stdout",
     "output_type": "stream",
     "text": [
      "Size of TEXT vocabulary: 10033\n",
      "Size of LABEL vocabulary: 3\n",
      "[('the', 18701), (',', 17847), ('.', 17138), ('a', 10110), ('and', 10073), ('of', 9318), ('to', 8765), ('is', 6918), ('in', 5667), ('I', 5268)]\n",
      "defaultdict(<bound method Vocab._default_unk_index of <torchtext.vocab.Vocab object at 0x7fd64ca93a50>>, {'<unk>': 0, '<pad>': 1, 'the': 2, ',': 3, '.': 4, 'a': 5, 'and': 6, 'of': 7, 'to': 8, 'is': 9, 'in': 10, 'I': 11, 'it': 12, 'that': 13, 'this': 14, \"'s\": 15, '-': 16, 'was': 17, 'movie': 18, 'film': 19, 'as': 20, 'with': 21, 'The': 22, 'for': 23, 'but': 24, 'on': 25, '(': 26, ')': 27, \"n't\": 28, 'you': 29, 'have': 30, 'are': 31, 'not': 32, 'his': 33, 'one': 34, 'be': 35, 'he': 36, 'at': 37, 'by': 38, 'all': 39, 'from': 40, 'who': 41, 'an': 42, 'like': 43, 'has': 44, 'so': 45, 'they': 46, '!': 47, 'about': 48, 'or': 49, 'It': 50, \"'\": 51, 'just': 52, 'do': 53, 'out': 54, 'her': 55, 'This': 56, 'very': 57, 'some': 58, 'good': 59, 'which': 60, 'more': 61, 'what': 62, '?': 63, 'time': 64, 'would': 65, 'really': 66, 'up': 67, 'story': 68, 'there': 69, 'their': 70, 'when': 71, 'if': 72, 'my': 73, 'were': 74, 'see': 75, 'only': 76, 'had': 77, 'can': 78, 'no': 79, 'me': 80, 'even': 81, 'she': 82, 'much': 83, 'been': 84, 'does': 85, 'could': 86, 'than': 87, 'did': 88, '...': 89, 'get': 90, 'people': 91, 'into': 92, 'we': 93, ':': 94, 'other': 95, 'will': 96, 'well': 97, 'great': 98, 'made': 99, 'first': 100, 'bad': 101, 'him': 102, 'most': 103, 'make': 104, 'how': 105, 'way': 106, 'them': 107, 'because': 108, 'also': 109, 'seen': 110, 'movies': 111, 'characters': 112, '*': 113, 'its': 114, ';': 115, 'films': 116, 'any': 117, 'too': 118, 'over': 119, 'character': 120, 'then': 121, 'A': 122, 'think': 123, 'ever': 124, 'watch': 125, 'your': 126, 'best': 127, 'many': 128, 'little': 129, 'love': 130, 'plot': 131, 'two': 132, 'But': 133, 'And': 134, 'There': 135, 'being': 136, 'off': 137, 'know': 138, 'where': 139, 'acting': 140, 'after': 141, 'i': 142, 'life': 143, 'In': 144, 'never': 145, 'show': 146, 'here': 147, 'say': 148, 'should': 149, 'these': 150, 'better': 151, 'scene': 152, 'end': 153, 'man': 154, 'such': 155, 'work': 156, \"'ve\": 157, 'something': 158, 'through': 159, 'If': 160, 'scenes': 161, 'still': 162, 'He': 163, 'go': 164, 'back': 165, 'actors': 166, 'makes': 167, 'years': 168, \"'m\": 169, 'thing': 170, 'watching': 171, 'find': 172, 'director': 173, 'real': 174, 'funny': 175, 'same': 176, 'thought': 177, 'look': 178, 'though': 179, 'those': 180, 'why': 181, 'few': 182, 'old': 183, 'enough': 184, 'lot': 185, 'quite': 186, 'again': 187, 'nothing': 188, 'before': 189, 'while': 190, 'horror': 191, 'want': 192, 'original': 193, 'around': 194, 'got': 195, 'another': 196, 'cast': 197, 'going': 198, 'now': 199, '--': 200, 'fact': 201, 'comedy': 202, \"'re\": 203, 'saw': 204, 'seems': 205, 'As': 206, 'actually': 207, 'new': 208, 'us': 209, 'every': 210, 'own': 211, 'down': 212, 'pretty': 213, 'ca': 214, 'times': 215, 'done': 216, '&': 217, 'point': 218, 'excellent': 219, 'series': 220, '/': 221, 'always': 222, 'performance': 223, 'far': 224, 'long': 225, 'music': 226, 'right': 227, 'role': 228, 'world': 229, 'between': 230, 'give': 231, 'part': 232, 'whole': 233, 'action': 234, 'things': 235, 'You': 236, 'big': 237, 'interesting': 238, 'young': 239, 'What': 240, 'least': 241, 'must': 242, 'might': 243, 'probably': 244, 'come': 245, 'bit': 246, 'script': 247, 'gets': 248, 'making': 249, 'am': 250, 'woman': 251, 'She': 252, 'almost': 253, 'since': 254, 'feel': 255, 'They': 256, 'take': 257, 'guy': 258, 'may': 259, 'without': 260, 'played': 261, 'TV': 262, 'actor': 263, \"'ll\": 264, 'found': 265, 'both': 266, 'each': 267, 'away': 268, 'believe': 269, 'fan': 270, 'kind': 271, 'looking': 272, 'trying': 273, 'play': 274, 'DVD': 275, 'anything': 276, 'So': 277, 'screen': 278, 'minutes': 279, 'fun': 280, 'anyone': 281, 'family': 282, 'worst': 283, 'goes': 284, 'hard': 285, 'put': 286, 'watched': 287, 'comes': 288, 'audience': 289, 'looks': 290, 'day': 291, 'perfect': 292, 'last': 293, 'rather': 294, 'seeing': 295, 'set': 296, 'When': 297, 'That': 298, 'especially': 299, 'job': 300, 'version': 301, \"'d\": 302, 'reason': 303, 'yet': 304, 'All': 305, 'having': 306, 'kids': 307, 'production': 308, 'sure': 309, 'true': 310, 'different': 311, 'everyone': 312, 'John': 313, 'sense': 314, 'shows': 315, 'sex': 316, 'American': 317, 'One': 318, 'classic': 319, 'plays': 320, '2': 321, 'effects': 322, 'place': 323, 'year': 324, 'course': 325, 'seem': 326, 'someone': 327, 'Hollywood': 328, 'book': 329, 'girl': 330, 'line': 331, 'money': 332, 'left': 333, 'mind': 334, 'our': 335, 'shot': 336, 'together': 337, 'My': 338, 'himself': 339, 'poor': 340, 'truly': 341, 'given': 342, 'worth': 343, 'camera': 344, 'idea': 345, 'said': 346, '..': 347, 'although': 348, 'special': 349, 'waste': 350, 'everything': 351, 'once': 352, 'takes': 353, 'We': 354, 'boring': 355, 'during': 356, 'ending': 357, 'read': 358, 'video': 359, 'For': 360, 'short': 361, 'high': 362, 'nice': 363, 'budget': 364, 'performances': 365, 'wife': 366, 'wrong': 367, 'less': 368, 'let': 369, 'recommend': 370, 'else': 371, 'friends': 372, 'simply': 373, 'beautiful': 374, 'completely': 375, 'need': 376, '10': 377, 'father': 378, 'main': 379, 'doing': 380, 'until': 381, 'women': 382, 'Not': 383, 'second': 384, 'half': 385, 'three': 386, 'top': 387, 'came': 388, 'low': 389, 'wonderful': 390, 'person': 391, 'wanted': 392, 'went': 393, 'either': 394, 'help': 395, 'home': 396, 'however': 397, 'However': 398, 'loved': 399, 'rest': 400, 'use': 401, 'used': 402, 'Michael': 403, 'remember': 404, 'voice': 405, 'against': 406, 'gives': 407, 'terrible': 408, 'Even': 409, 'death': 410, 'definitely': 411, 'face': 412, 'piece': 413, 'playing': 414, 'along': 415, 'beginning': 416, 'enjoy': 417, 'head': 418, 'mean': 419, 'men': 420, 'moments': 421, 'often': 422, 'understand': 423, 'try': 424, 'After': 425, 'couple': 426, 'early': 427, 'felt': 428, 'title': 429, 'art': 430, 'case': 431, 'house': 432, 'Well': 433, 'become': 434, 'dead': 435, 'entire': 436, 'full': 437, 'name': 438, 'start': 439, 'night': 440, 'itself': 441, 'later': 442, 'problem': 443, 'fine': 444, 'stupid': 445, 'No': 446, 'based': 447, 'dialogue': 448, 'documentary': 449, 'human': 450, 'several': 451, 'small': 452, 'style': 453, 'cinema': 454, 'enjoyed': 455, 'favorite': 456, 'tries': 457, 'written': 458, 'absolutely': 459, 'already': 460, 'getting': 461, 'laugh': 462, 'Do': 463, 'called': 464, 'instead': 465, 'star': 466, 'amazing': 467, 'drama': 468, 'next': 469, 'others': 470, 'tell': 471, 'entertaining': 472, 'history': 473, 'maybe': 474, 'picture': 475, 'stuff': 476, 'direction': 477, 'group': 478, 'live': 479, 'took': 480, 'To': 481, 'awful': 482, 'Robert': 483, 'While': 484, 'genre': 485, 'hit': 486, 'killer': 487, 'quality': 488, 'sort': 489, 'care': 490, 'children': 491, 'finally': 492, 'number': 493, 'says': 494, 'supposed': 495, 'wo': 496, 'days': 497, 'involved': 498, 'keep': 499, 'lack': 500, 'THE': 501, 'becomes': 502, 'decent': 503, 'example': 504, 'final': 505, 'guys': 506, 'stars': 507, 'English': 508, 'act': 509, 'directed': 510, 'female': 511, 'level': 512, 'roles': 513, 'school': 514, 'starts': 515, 'stop': 516, 'works': 517, '3': 518, 'hand': 519, 'late': 520, 'lead': 521, 'past': 522, 'sometimes': 523, 'strong': 524, 'wants': 525, 'whose': 526, 'How': 527, 'Then': 528, 'able': 529, 'brilliant': 530, 'child': 531, 'non': 532, 'worse': 533, 'His': 534, 'behind': 535, 'fans': 536, 'feeling': 537, 'guess': 538, 'hope': 539, 'myself': 540, 'self': 541, 'turns': 542, 'war': 543, 'personal': 544, 'writer': 545, 'Although': 546, 'At': 547, 'Christmas': 548, 'attempt': 549, 'bring': 550, 'lives': 551, 'matter': 552, 'moment': 553, 'mother': 554, 'shown': 555, 'town': 556, 'friend': 557, 'lines': 558, 'obvious': 559, 'seemed': 560, 'stories': 561, 'Now': 562, 'Of': 563, 'With': 564, 'boy': 565, 'certainly': 566, 'complete': 567, 'novel': 568, 'perhaps': 569, 'release': 570, 'New': 571, 'annoying': 572, 'close': 573, 'extremely': 574, 'gave': 575, 'heart': 576, 'musical': 577, 'themselves': 578, 'today': 579, 'turned': 580, 'Mr.': 581, 'Some': 582, 'career': 583, 'humor': 584, 'sound': 585, 'under': 586, 'James': 587, 'black': 588, 'chance': 589, 'crap': 590, 'liked': 591, 'parts': 592, 'simple': 593, 'son': 594, '1': 595, 'On': 596, 'episode': 597, 'etc': 598, 'heard': 599, 'murder': 600, 'Also': 601, 'ago': 602, 'happened': 603, 'leave': 604, 'lost': 605, 'alone': 606, 'dark': 607, 'disappointed': 608, 'poorly': 609, 'sequel': 610, 'type': 611, '....': 612, 'Ben': 613, 're': 614, 'score': 615, 'television': 616, 'viewer': 617, 'From': 618, 'Why': 619, 'age': 620, 'car': 621, 'cool': 622, 'flick': 623, 'game': 624, 'knew': 625, 'reality': 626, 'released': 627, 'theater': 628, 'thinking': 629, 'turn': 630, 'blood': 631, 'expect': 632, 'form': 633, 'kid': 634, 'modern': 635, 'told': 636, 'God': 637, 'Just': 638, 'daughter': 639, 'experience': 640, 'highly': 641, 'horrible': 642, 'local': 643, 'mostly': 644, 'opening': 645, 'particularly': 646, 'sister': 647, 'soon': 648, 'straight': 649, '\\x96': 650, 'King': 651, 'eyes': 652, 'hour': 653, 'killed': 654, 'middle': 655, 'none': 656, 'ones': 657, 'single': 658, 'slow': 659, 'wonder': 660, 'call': 661, 'events': 662, 'reading': 663, 'reviews': 664, 'ridiculous': 665, 'running': 666, 'serious': 667, 'shots': 668, 'similar': 669, 'started': 670, 'throughout': 671, 'Peter': 672, 'effort': 673, 'evil': 674, 'interest': 675, 'means': 676, 'thriller': 677, 'totally': 678, 'beyond': 679, 'comments': 680, 'enjoyable': 681, 'episodes': 682, 'except': 683, 'fall': 684, 'fantastic': 685, 'girls': 686, 'opinion': 687, 'police': 688, 'predictable': 689, 'save': 690, 'words': 691, 'First': 692, 'OK': 693, 'Who': 694, 'cheap': 695, 'exactly': 696, 'expected': 697, 'fast': 698, 'huge': 699, 'including': 700, 'kept': 701, 'possible': 702, 'view': 703, 'writing': 704, '4': 705, 'animation': 706, 'body': 707, 'finds': 708, 'gore': 709, 'material': 710, 'mess': 711, 'particular': 712, 'relationship': 713, 'side': 714, 'somewhat': 715, 'above': 716, 'actress': 717, 'brother': 718, 'class': 719, 'easily': 720, 'falls': 721, 'feature': 722, 'fight': 723, 'known': 724, 'looked': 725, 'problems': 726, 'tale': 727, 'talent': 728, 'white': 729, 'actual': 730, 'change': 731, 'cinematography': 732, 'coming': 733, 'entertainment': 734, 'fails': 735, 'forward': 736, 'happens': 737, 'husband': 738, 'jokes': 739, 'named': 740, 'obviously': 741, 'power': 742, 'review': 743, 'romantic': 744, 'scary': 745, 'team': 746, 'tells': 747, 'upon': 748, 'Is': 749, 'happy': 750, 'kill': 751, 'near': 752, 'nor': 753, 'run': 754, 'showing': 755, 'song': 756, 'soundtrack': 757, 'America': 758, 'Disney': 759, 'Man': 760, 'Oh': 761, 'hell': 762, 'moving': 763, 'needs': 764, 'silly': 765, 'songs': 766, 'taking': 767, 'usual': 768, 'violence': 769, 'wish': 770, 'British': 771, 'Her': 772, 'Maybe': 773, 'despite': 774, 'due': 775, 'four': 776, 'general': 777, 'happen': 778, 'meet': 779, 'public': 780, 'realistic': 781, 'talking': 782, 'third': 783, 'typical': 784, 'using': 785, 'usually': 786, 'viewing': 787, 'write': 788, 'across': 789, 'business': 790, 'certain': 791, 'familiar': 792, 'famous': 793, 'light': 794, 'points': 795, 'room': 796, 'screenplay': 797, 'Like': 798, 'Star': 799, 'York': 800, 'add': 801, 'appears': 802, 'attention': 803, 'country': 804, 'crime': 805, 'dialog': 806, 'easy': 807, 'greatest': 808, 'knows': 809, 'leads': 810, 'minute': 811, 'powerful': 812, 'realize': 813, 'recently': 814, 'saying': 815, 'stage': 816, '5': 817, 'Another': 818, 'By': 819, 'Harry': 820, 'Jack': 821, 'dull': 822, 'feels': 823, 'lots': 824, 'monster': 825, 'order': 826, 'revenge': 827, 'sad': 828, 'Oscar': 829, 'Paul': 830, 'brought': 831, 'ends': 832, 'important': 833, 'male': 834, 'nearly': 835, 'perfectly': 836, 'possibly': 837, '$': 838, 'George': 839, 'Good': 840, 'begin': 841, 'brings': 842, 'bunch': 843, 'choice': 844, 'comment': 845, 'earlier': 846, 'failed': 847, 'hilarious': 848, 'society': 849, 'strange': 850, 'telling': 851, 'viewers': 852, 'created': 853, 'cut': 854, 'filmmakers': 855, 'follow': 856, 'hot': 857, 'hours': 858, 'message': 859, 'mystery': 860, 'rating': 861, 'rich': 862, 'sequence': 863, 'taken': 864, 'terms': 865, 'An': 866, 'NOT': 867, 'background': 868, 'copy': 869, 'deep': 870, 'forced': 871, 'future': 872, 'incredible': 873, 'inside': 874, 'interested': 875, 'list': 876, 'masterpiece': 877, 'pay': 878, 'stand': 879, 'trash': 880, 'B': 881, 'David': 882, 'city': 883, 'dance': 884, 'doubt': 885, 'filmed': 886, 'hero': 887, 'learn': 888, 'living': 889, 'note': 890, 'premise': 891, 'setting': 892, 'somehow': 893, 'surprise': 894, 'weak': 895, 'IMDb': 896, 'World': 897, 'atmosphere': 898, 'laughs': 899, 'political': 900, 'seriously': 901, 'solid': 902, 'sorry': 903, 'soul': 904, 'superb': 905, 'various': 906, '9': 907, 'Dead': 908, 'Tom': 909, 'appeal': 910, 'clever': 911, 'compared': 912, 'crew': 913, 'cute': 914, 'decides': 915, 'five': 916, 'forget': 917, 'ideas': 918, 'major': 919, 'overall': 920, 'portrayed': 921, 'social': 922, 'success': 923, 'surprised': 924, 'theme': 925, 'total': 926, 'yourself': 927, '90': 928, 'Danny': 929, 'Dr.': 930, 'Ford': 931, 'Lee': 932, 'Lincoln': 933, 'Or': 934, 'Paris': 935, 'animated': 936, 'basically': 937, 'became': 938, 'begins': 939, 'create': 940, 'decided': 941, 'directors': 942, 'era': 943, 'filled': 944, 'giving': 945, 'hate': 946, 'married': 947, 'miss': 948, 'older': 949, 'period': 950, 'shame': 951, 'subject': 952, 'villain': 953, 'wasted': 954, 'word': 955, 'Most': 956, 'Night': 957, 'Richard': 958, 'These': 959, 'Titanic': 960, 'William': 961, 'believable': 962, 'computer': 963, 'credits': 964, 'dog': 965, 'fantasy': 966, 'hear': 967, 'intelligent': 968, 'outside': 969, 'plenty': 970, 'reasons': 971, 'talk': 972, 'Christopher': 973, 'Unfortunately': 974, 'appear': 975, 'attempts': 976, 'avoid': 977, 'bought': 978, 'clearly': 979, 'fighting': 980, 'front': 981, 'joke': 982, 'needed': 983, 'present': 984, 'produced': 985, 'rape': 986, 'result': 987, 'situation': 988, 'supporting': 989, 'sweet': 990, 'talented': 991, 'trip': 992, 'ways': 993, 'working': 994, 'younger': 995, 'Black': 996, 'Sam': 997, 'badly': 998, 'bored': 999, 'casting': 1000, 'cop': 1001, 'deal': 1002, 'difficult': 1003, 'directing': 1004, 'editing': 1005, 'effective': 1006, 'emotional': 1007, 'exciting': 1008, 'expecting': 1009, 'impressive': 1010, 'lame': 1011, 'meets': 1012, 'plain': 1013, 'please': 1014, 'plus': 1015, 'season': 1016, 'sets': 1017, 'shooting': 1018, 'stay': 1019, 'Italian': 1020, 'Movie': 1021, 'Santa': 1022, 'Spirit': 1023, 'conclusion': 1024, 'die': 1025, 'elements': 1026, 'expectations': 1027, 'fit': 1028, 'herself': 1029, 'noir': 1030, 'nudity': 1031, 'sit': 1032, 'successful': 1033, 'suspense': 1034, 'tried': 1035, 'truth': 1036, 'waiting': 1037, 'whom': 1038, 'House': 1039, 'Steve': 1040, 'Tony': 1041, 'amusing': 1042, 'bank': 1043, 'common': 1044, 'cover': 1045, 'died': 1046, 'hold': 1047, 'keeps': 1048, 'killing': 1049, 'meaning': 1050, 'meant': 1051, 'memorable': 1052, 'mention': 1053, 'neither': 1054, 'normal': 1055, 'numbers': 1056, 'question': 1057, 'rent': 1058, 'sounds': 1059, 'spirit': 1060, 'worked': 1061, 'yes': 1062, 'Arthur': 1063, 'German': 1064, 'Here': 1065, 'Its': 1066, 'acted': 1067, 'apparently': 1068, 'beauty': 1069, 'biggest': 1070, 'clear': 1071, 'complex': 1072, 'dumb': 1073, 'entirely': 1074, 'features': 1075, 'gay': 1076, 'gone': 1077, 'image': 1078, 'makers': 1079, 'motion': 1080, 'nature': 1081, 'quickly': 1082, 'rate': 1083, 'sequences': 1084, 'soldier': 1085, 'themes': 1086, 'utterly': 1087, 'week': 1088, 'within': 1089, 'Allen': 1090, 'Big': 1091, 'Chris': 1092, 'City': 1093, 'Still': 1094, 'among': 1095, 'anyway': 1096, 'artist': 1097, 'ask': 1098, 'books': 1099, 'boys': 1100, 'buy': 1101, 'comic': 1102, 'concept': 1103, 'control': 1104, 'development': 1105, 'dramatic': 1106, 'fairly': 1107, 'fire': 1108, 'flat': 1109, 'focus': 1110, 'genius': 1111, 'hardly': 1112, 'odd': 1113, 'party': 1114, 'purpose': 1115, 'spent': 1116, 'towards': 1117, 'unique': 1118, 'uses': 1119, 'writers': 1120, '80': 1121, 'Director': 1122, 'London': 1123, 'Martin': 1124, 'Overall': 1125, 'Scott': 1126, 'Stewart': 1127, 'Though': 1128, 'War': 1129, 'Williams': 1130, 'adult': 1131, 'battle': 1132, 'charm': 1133, 'check': 1134, 'contains': 1135, 'crazy': 1136, 'detective': 1137, 'element': 1138, 'ended': 1139, 'equally': 1140, 'eye': 1141, 'incredibly': 1142, 'laughable': 1143, 'laughing': 1144, 'runs': 1145, 's': 1146, 'storyline': 1147, 'ten': 1148, 'whether': 1149, '20': 1150, 'Bill': 1151, 'Jackson': 1152, 'Jim': 1153, 'Kong': 1154, 'Two': 1155, 'agree': 1156, 'air': 1157, 'appreciate': 1158, 'doctor': 1159, 'escape': 1160, 'eventually': 1161, 'figure': 1162, 'free': 1163, 'honest': 1164, 'involving': 1165, 'mentioned': 1166, 'move': 1167, 'personally': 1168, 'singing': 1169, 'stunning': 1170, 'train': 1171, 'twist': 1172, 'unless': 1173, 'violent': 1174, 'win': 1175, 'Charles': 1176, 'Fred': 1177, 'Many': 1178, 'Only': 1179, 'US': 1180, 'Yes': 1181, 'ability': 1182, 'adaptation': 1183, 'animals': 1184, 'available': 1185, 'brothers': 1186, 'catch': 1187, 'cinematic': 1188, 'company': 1189, 'compelling': 1190, 'earth': 1191, 'effect': 1192, 'footage': 1193, 'girlfriend': 1194, 'hair': 1195, 'historical': 1196, 'images': 1197, 'kills': 1198, 'large': 1199, 'leading': 1200, 'longer': 1201, 'offer': 1202, 'recent': 1203, 'sexy': 1204, 'surprisingly': 1205, 'thanks': 1206, 'wrote': 1207, 'Christian': 1208, 'Elvis': 1209, 'French': 1210, 'Instead': 1211, 'Jane': 1212, 'Mary': 1213, 'Story': 1214, 'aspects': 1215, 'boyfriend': 1216, 'comedies': 1217, 'credit': 1218, 'date': 1219, 'deserves': 1220, 'desire': 1221, 'fi': 1222, 'follows': 1223, 'funniest': 1224, 'hands': 1225, 'information': 1226, 'language': 1227, 'loud': 1228, 'managed': 1229, 'manner': 1230, 'natural': 1231, 'outstanding': 1232, 'pace': 1233, 'presence': 1234, 'project': 1235, 'red': 1236, 'remake': 1237, 'rubbish': 1238, 'shoot': 1239, 'speak': 1240, 'thinks': 1241, 'touching': 1242, 'twists': 1243, 'western': 1244, 'whatever': 1245, 'Day': 1246, 'Japanese': 1247, 'Let': 1248, 'Tarzan': 1249, 'Watch': 1250, 'Young': 1251, 'audiences': 1252, 'bottom': 1253, 'box': 1254, 'central': 1255, 'creepy': 1256, 'decide': 1257, 'dream': 1258, 'flicks': 1259, 'former': 1260, 'fully': 1261, 'ground': 1262, 'hopes': 1263, 'literally': 1264, 'narrative': 1265, 'nowhere': 1266, 'open': 1267, 'pain': 1268, 'parents': 1269, 'places': 1270, 'potential': 1271, 'previous': 1272, 'sci': 1273, 'sees': 1274, 'sick': 1275, 'slightly': 1276, 'tone': 1277, 'visual': 1278, 'water': 1279, 'zombie': 1280, '15': 1281, '30': 1282, 'Andy': 1283, 'Henry': 1284, 'Indian': 1285, 'Julian': 1286, 'Nick': 1287, 'Okay': 1288, 'Since': 1289, 'amount': 1290, 'band': 1291, 'break': 1292, 'cable': 1293, 'cartoon': 1294, 'cult': 1295, 'debut': 1296, 'depth': 1297, 'disturbing': 1298, 'drug': 1299, 'fascinating': 1300, 'following': 1301, 'heavy': 1302, 'imagine': 1303, 'industry': 1304, 'military': 1305, 'mood': 1306, 'moves': 1307, 'notice': 1308, 'pieces': 1309, 'ride': 1310, 'spend': 1311, 'theatre': 1312, 'trouble': 1313, '6': 1314, '8': 1315, 'Dean': 1316, 'Everything': 1317, 'Joe': 1318, 'Love': 1319, 'VHS': 1320, '`': 1321, 'admit': 1322, 'adventure': 1323, 'anti': 1324, 'appearance': 1325, 'cold': 1326, 'consider': 1327, 'critics': 1328, 'disaster': 1329, 'drawn': 1330, 'drive': 1331, 'exception': 1332, 'fear': 1333, 'garbage': 1334, 'glad': 1335, 'keeping': 1336, 'leaves': 1337, 'likes': 1338, 'lovely': 1339, 'opera': 1340, 'paid': 1341, 'planet': 1342, 'respect': 1343, 'revolution': 1344, 'romance': 1345, 'situations': 1346, 'suddenly': 1347, 'track': 1348, 'unfortunately': 1349, 'value': 1350, 'wait': 1351, 'weird': 1352, '%': 1353, 'California': 1354, 'Despite': 1355, 'Frank': 1356, 'Great': 1357, 'Mark': 1358, 'Van': 1359, 'accent': 1360, 'adds': 1361, 'army': 1362, 'brief': 1363, 'capture': 1364, 'cheesy': 1365, 'chemistry': 1366, 'childhood': 1367, 'convincing': 1368, 'culture': 1369, 'epic': 1370, 'fake': 1371, 'followed': 1372, 'forgotten': 1373, 'gangster': 1374, 'giant': 1375, 'impossible': 1376, 'length': 1377, 'lived': 1378, 'manages': 1379, 'match': 1380, 'missing': 1381, 'mix': 1382, 'nonsense': 1383, 'painful': 1384, 'pathetic': 1385, 'personality': 1386, 'portraying': 1387, 'positive': 1388, 'pre': 1389, 'rare': 1390, 'rarely': 1391, 'responsible': 1392, 'return': 1393, 'returns': 1394, 'scenery': 1395, 'secret': 1396, 'stands': 1397, 'suppose': 1398, 'supposedly': 1399, 'terrific': 1400, 'walking': 1401, 'Cage': 1402, 'Ed': 1403, 'Film': 1404, 'Go': 1405, 'Mr': 1406, 'OF': 1407, 'Perhaps': 1408, 'Prince': 1409, 'Really': 1410, 'Sellers': 1411, 'Smith': 1412, 'Where': 1413, 'added': 1414, 'apart': 1415, 'awesome': 1416, 'barely': 1417, 'beautifully': 1418, 'bizarre': 1419, 'born': 1420, 'bother': 1421, 'caught': 1422, 'changed': 1423, 'co': 1424, 'considered': 1425, 'considering': 1426, 'constant': 1427, 'content': 1428, 'costumes': 1429, 'dry': 1430, 'government': 1431, 'gun': 1432, 'happening': 1433, 'hoping': 1434, 'includes': 1435, 'indeed': 1436, 'leaving': 1437, 'mental': 1438, 'names': 1439, 'pictures': 1440, 'plan': 1441, 'portrayal': 1442, 'rock': 1443, 'sexual': 1444, 'ship': 1445, 'slowly': 1446, 'store': 1447, 'street': 1448, 'tragedy': 1449, 'unbelievable': 1450, 'values': 1451, 'Adam': 1452, 'Best': 1453, 'Both': 1454, 'Did': 1455, 'Every': 1456, 'Gordon': 1457, 'Grinch': 1458, 'Having': 1459, 'IS': 1460, 'Lewis': 1461, 'Miss': 1462, 'Red': 1463, 'Washington': 1464, 'Woody': 1465, 'asks': 1466, 'breaks': 1467, 'charming': 1468, 'climax': 1469, 'commercial': 1470, 'fashion': 1471, 'feelings': 1472, 'fellow': 1473, 'flaws': 1474, 'further': 1475, 'gang': 1476, 'god': 1477, 'intended': 1478, 'journey': 1479, 'luck': 1480, 'magic': 1481, 'missed': 1482, 'mistake': 1483, 'naked': 1484, 'nobody': 1485, 'office': 1486, 'otherwise': 1487, 'producers': 1488, 'questions': 1489, 'random': 1490, 'remains': 1491, 'shock': 1492, 'slasher': 1493, 'standard': 1494, 'super': 1495, 'technical': 1496, 'technology': 1497, 'walk': 1498, 'whatsoever': 1499, 'won': 1500, 'youth': 1501, '.....': 1502, 'Americans': 1503, 'Douglas': 1504, 'Earth': 1505, 'European': 1506, \"I'm\": 1507, 'Nothing': 1508, 'Simon': 1509, 'Sure': 1510, 'ahead': 1511, 'apparent': 1512, 'blah': 1513, 'clichés': 1514, 'constantly': 1515, 'continue': 1516, 'demons': 1517, 'emotions': 1518, 'explain': 1519, 'faces': 1520, 'fair': 1521, 'gem': 1522, 'heroes': 1523, 'impression': 1524, 'include': 1525, 'key': 1526, 'law': 1527, 'likable': 1528, 'media': 1529, 'months': 1530, 'mouth': 1531, 'pass': 1532, 'popular': 1533, 'rated': 1534, 'relationships': 1535, 'search': 1536, 'shocking': 1537, 'sight': 1538, 'sitting': 1539, 'somewhere': 1540, 'starring': 1541, 'system': 1542, 'throw': 1543, 'thrown': 1544, 'tough': 1545, 'warm': 1546, '7': 1547, 'Broadway': 1548, 'Brown': 1549, 'Death': 1550, 'France': 1551, 'Reed': 1552, 'Shakespeare': 1553, 'acts': 1554, 'affair': 1555, 'afraid': 1556, 'alive': 1557, 'artistic': 1558, 'aspect': 1559, 'average': 1560, 'award': 1561, 'basic': 1562, 'bed': 1563, 'cause': 1564, 'century': 1565, 'channel': 1566, 'comedic': 1567, 'cops': 1568, 'dancing': 1569, 'disappointment': 1570, 'emotion': 1571, 'engaging': 1572, 'ex': 1573, 'featuring': 1574, 'filming': 1575, 'finding': 1576, 'force': 1577, 'honestly': 1578, 'hotel': 1579, 'humour': 1580, 'ill': 1581, 'imagination': 1582, 'impressed': 1583, 'intelligence': 1584, 'island': 1585, 'location': 1586, 'mediocre': 1587, 'members': 1588, 'negative': 1589, 'physical': 1590, 'professional': 1591, 'pure': 1592, 'rented': 1593, 'road': 1594, 'serial': 1595, 'smart': 1596, 'soldiers': 1597, 'spot': 1598, 'stick': 1599, 'strongly': 1600, 'stuck': 1601, 'suicide': 1602, 'suit': 1603, 'support': 1604, 'surprising': 1605, 'tension': 1606, 'tragic': 1607, 'unlike': 1608, 'victims': 1609, 'village': 1610, 'wit': 1611, '\\x85 ': 1612, '40': 1613, '50': 1614, '70': 1615, 'Being': 1616, 'Charlie': 1617, 'Morgan': 1618, 'Ms.': 1619, 'Once': 1620, 'Rock': 1621, 'Russian': 1622, 'Stephen': 1623, 'Time': 1624, 'West': 1625, 'Yet': 1626, 'accept': 1627, 'actresses': 1628, 'addition': 1629, 'anime': 1630, 'build': 1631, 'college': 1632, 'creative': 1633, 'delivers': 1634, 'describe': 1635, 'difference': 1636, 'excited': 1637, 'excuse': 1638, 'helped': 1639, 'immediately': 1640, 'impact': 1641, 'issues': 1642, 'joy': 1643, 'jump': 1644, 'justice': 1645, 'latter': 1646, 'likely': 1647, 'listen': 1648, 'lose': 1649, 'lover': 1650, 'loving': 1651, 'magnificent': 1652, 'martial': 1653, 'million': 1654, 'moved': 1655, 'onto': 1656, 'perfection': 1657, 'perspective': 1658, 'phone': 1659, 'photography': 1660, 'post': 1661, 'pretentious': 1662, 'prove': 1663, 'proved': 1664, 'redeeming': 1665, 'remarkable': 1666, 'rip': 1667, 'roll': 1668, 'sake': 1669, 'science': 1670, 'smile': 1671, 'speaking': 1672, 'state': 1673, 'studio': 1674, 'surely': 1675, 'theatrical': 1676, 'thin': 1677, 'turning': 1678, 'utter': 1679, 'victim': 1680, 'wild': 1681, 'zombies': 1682, ' ': 1683, '70s': 1684, 'Anyone': 1685, 'Anyway': 1686, 'Because': 1687, 'Brothers': 1688, 'Captain': 1689, 'Cassavetes': 1690, 'Chinese': 1691, 'Columbo': 1692, 'Don': 1693, 'Everyone': 1694, 'Howard': 1695, \"I've\": 1696, 'II': 1697, 'Little': 1698, 'Police': 1699, 'SPOILERS': 1700, 'Spanish': 1701, 'Very': 1702, 'Which': 1703, 'Zizek': 1704, 'absurd': 1705, 'accident': 1706, 'adults': 1707, 'appeared': 1708, 'artists': 1709, 'aware': 1710, 'bar': 1711, 'began': 1712, 'bits': 1713, 'cat': 1714, 'community': 1715, 'confused': 1716, 'confusing': 1717, 'cutting': 1718, 'deserve': 1719, 'executed': 1720, 'extreme': 1721, 'falling': 1722, 'finished': 1723, 'forever': 1724, 'gags': 1725, 'guessing': 1726, 'held': 1727, 'hidden': 1728, 'inspired': 1729, 'laughed': 1730, 'loves': 1731, 'marriage': 1732, 'memory': 1733, 'mine': 1734, 'murdered': 1735, 'nt': 1736, 'originally': 1737, 'parody': 1738, 'previously': 1739, 'producer': 1740, 'product': 1741, 'provide': 1742, 'realized': 1743, 'showed': 1744, 'silent': 1745, 'sing': 1746, 'six': 1747, 'space': 1748, 'touch': 1749, 'trailer': 1750, 'unfunny': 1751, 'uninteresting': 1752, 'wanting': 1753, 'wearing': 1754, 'AND': 1755, 'Bruce': 1756, 'De': 1757, 'Edmund': 1758, 'Finally': 1759, 'Hitler': 1760, 'Hong': 1761, 'Joan': 1762, 'Johnson': 1763, 'Men': 1764, 'North': 1765, 'People': 1766, 'San': 1767, 'Sinatra': 1768, 'Ted': 1769, 'Tim': 1770, 'Trek': 1771, 'approach': 1772, 'beat': 1773, 'brain': 1774, 'cameo': 1775, 'commentary': 1776, 'creature': 1777, 'criminal': 1778, 'design': 1779, 'detail': 1780, 'details': 1781, 'discovered': 1782, 'eating': 1783, 'entertained': 1784, 'event': 1785, 'exploitation': 1786, 'extra': 1787, 'faithful': 1788, 'flesh': 1789, 'folks': 1790, 'gotten': 1791, 'horse': 1792, 'humans': 1793, 'hype': 1794, 'individual': 1795, 'inner': 1796, 'intrigued': 1797, 'lacks': 1798, 'normally': 1799, 'partner': 1800, 'pick': 1801, 'picked': 1802, 'pointless': 1803, 'powers': 1804, 'putting': 1805, 'recommended': 1806, 'results': 1807, 'sat': 1808, 'scared': 1809, 'scientist': 1810, 'sea': 1811, 'seasons': 1812, 'sent': 1813, 'standing': 1814, 'tape': 1815, 'taste': 1816, 'twice': 1817, 'understanding': 1818, 'unknown': 1819, 'unusual': 1820, 'vehicle': 1821, 'wooden': 1822, 'workers': 1823, '60': 1824, 'Again': 1825, 'Alan': 1826, 'Bad': 1827, 'Before': 1828, 'Bobby': 1829, 'CGI': 1830, 'Caine': 1831, 'Chan': 1832, 'Che': 1833, 'Ellen': 1834, 'Eva': 1835, 'Excellent': 1836, 'Foxx': 1837, 'Germany': 1838, 'J': 1839, 'Jean': 1840, 'Jennifer': 1841, 'Jerry': 1842, 'Kubrick': 1843, 'Roy': 1844, 'Russell': 1845, 'Ryan': 1846, 'Take': 1847, 'Their': 1848, 'Those': 1849, 'absolute': 1850, 'accurate': 1851, 'allowed': 1852, 'arts': 1853, 'baseball': 1854, 'blonde': 1855, 'breaking': 1856, 'brutal': 1857, 'building': 1858, 'captured': 1859, 'cars': 1860, 'category': 1861, 'changes': 1862, 'circumstances': 1863, 'classics': 1864, 'club': 1865, 'combination': 1866, 'curious': 1867, 'damn': 1868, 'dangerous': 1869, 'dear': 1870, 'deliver': 1871, 'department': 1872, 'depicted': 1873, 'desert': 1874, 'dies': 1875, 'double': 1876, 'drugs': 1877, 'faith': 1878, 'fare': 1879, 'festival': 1880, 'floor': 1881, 'format': 1882, 'generally': 1883, 'gorgeous': 1884, 'grade': 1885, 'helps': 1886, 'horses': 1887, 'knife': 1888, 'lacking': 1889, 'latest': 1890, 'legend': 1891, 'losing': 1892, 'machine': 1893, 'machines': 1894, 'mad': 1895, 'manage': 1896, 'mask': 1897, 'mom': 1898, 'necessary': 1899, 'occasionally': 1900, 'officer': 1901, 'overly': 1902, 'players': 1903, 'practically': 1904, 'proves': 1905, 'pull': 1906, 'quiet': 1907, 'saved': 1908, 'seemingly': 1909, 'segment': 1910, 'sequels': 1911, 'shallow': 1912, 'sheer': 1913, 'soap': 1914, 'soft': 1915, 'talents': 1916, 'thoroughly': 1917, 'traditional': 1918, 'twisted': 1919, 'ultimately': 1920, 'viewed': 1921, 'wonderfully': 1922, '100': 1923, '12': 1924, 'Ann': 1925, 'Cube': 1926, 'Dick': 1927, 'Each': 1928, 'Girl': 1929, 'Japan': 1930, 'Jason': 1931, 'Jones': 1932, 'Killer': 1933, 'Me': 1934, 'Mexico': 1935, 'More': 1936, 'Rachel': 1937, 'Return': 1938, 'Sky': 1939, 'Streisand': 1940, 'Taylor': 1941, 'achieve': 1942, 'agent': 1943, 'anybody': 1944, 'anywhere': 1945, 'aside': 1946, 'camp': 1947, 'clean': 1948, 'compare': 1949, 'current': 1950, 'dad': 1951, 'dirty': 1952, 'discovers': 1953, 'dubbed': 1954, 'dying': 1955, 'exact': 1956, 'fell': 1957, 'field': 1958, 'fights': 1959, 'finest': 1960, 'flying': 1961, 'food': 1962, 'frankly': 1963, 'friendship': 1964, 'frightening': 1965, 'ghost': 1966, 'gold': 1967, 'growing': 1968, 'guns': 1969, 'hated': 1970, 'holding': 1971, 'holes': 1972, 'i.e.': 1973, 'identity': 1974, 'included': 1975, 'ladies': 1976, 'learns': 1977, 'led': 1978, 'lies': 1979, 'makeup': 1980, 'miserably': 1981, 'native': 1982, 'passion': 1983, 'peace': 1984, 'pilot': 1985, 'pleasure': 1986, 'porn': 1987, 'presented': 1988, 'puts': 1989, 'religion': 1990, 'reminded': 1991, 'reminds': 1992, 'reviewers': 1993, 'safe': 1994, 'satire': 1995, 'seven': 1996, 'step': 1997, 'students': 1998, 'substance': 1999, 'suffering': 2000, 'superior': 2001, 'tired': 2002, 'treated': 2003, 'types': 2004, 'unexpected': 2005, 'vampire': 2006, 'voices': 2007, 'whilst': 2008, 'window': 2009, 'wondering': 2010, 'worthy': 2011, '60s': 2012, 'ALL': 2013, 'Abraham': 2014, 'Apparently': 2015, 'Are': 2016, 'Batman': 2017, 'Bettie': 2018, 'Bollywood': 2019, 'Brosnan': 2020, 'Chiba': 2021, 'Demons': 2022, 'Dirty': 2023, 'Eastwood': 2024, 'Eddie': 2025, 'Evil': 2026, 'Hope': 2027, 'Jeremy': 2028, 'Jet': 2029, 'Li': 2030, 'Old': 2031, 'Other': 2032, 'Please': 2033, 'Powell': 2034, 'President': 2035, 'Probably': 2036, 'Sandler': 2037, 'See': 2038, 'Soderbergh': 2039, 'WWII': 2040, 'Walken': 2041, 'White': 2042, 'Will': 2043, 'Wood': 2044, 'aired': 2045, 'allows': 2046, 'angry': 2047, 'area': 2048, 'believes': 2049, 'bland': 2050, 'bloody': 2051, 'broken': 2052, 'collection': 2053, 'concerned': 2054, 'creating': 2055, 'de': 2056, 'deals': 2057, 'deeply': 2058, 'delivered': 2059, 'developed': 2060, 'disappointing': 2061, 'disbelief': 2062, 'dreadful': 2063, 'driven': 2064, 'dubbing': 2065, 'ego': 2066, 'endless': 2067, 'everyday': 2068, 'failure': 2069, 'fault': 2070, 'favourite': 2071, 'finale': 2072, 'fly': 2073, 'games': 2074, 'gory': 2075, 'gratuitous': 2076, 'insight': 2077, 'installment': 2078, 'instance': 2079, 'intense': 2080, 'kick': 2081, 'knowing': 2082, 'legendary': 2083, 'loose': 2084, 'lucky': 2085, 'mark': 2086, 'marry': 2087, 'merely': 2088, 'minded': 2089, 'mini': 2090, 'minor': 2091, 'morning': 2092, 'movement': 2093, 'nasty': 2094, 'offers': 2095, 'okay': 2096, 'opposite': 2097, 'painfully': 2098, 'pair': 2099, 'plane': 2100, 'politics': 2101, 'portrait': 2102, 'produce': 2103, 'promise': 2104, 'provided': 2105, 'qualities': 2106, 'receive': 2107, 'record': 2108, 'related': 2109, 'religious': 2110, 'repeated': 2111, 'scale': 2112, 'sheriff': 2113, 'spoil': 2114, 'starting': 2115, 'suggest': 2116, 'tears': 2117, 'unfortunate': 2118, 'unnecessary': 2119, 'variety': 2120, 'versions': 2121, 'visuals': 2122, 'walked': 2123, 'wide': 2124, 'witness': 2125, 'zero': 2126, 'Add': 2127, 'Albert': 2128, 'Anthony': 2129, 'Antonioni': 2130, 'Avoid': 2131, 'Belushi': 2132, 'Brian': 2133, 'Cinema': 2134, 'Clark': 2135, 'Does': 2136, 'Drew': 2137, 'Europe': 2138, 'Flynn': 2139, 'Full': 2140, 'Jay': 2141, 'Johnny': 2142, 'Kevin': 2143, 'Last': 2144, 'Laura': 2145, 'Living': 2146, 'Mike': 2147, 'Moon': 2148, 'Mother': 2149, 'THIS': 2150, 'Things': 2151, 'Wars': 2152, 'Welles': 2153, 'Western': 2154, 'YOU': 2155, 'ages': 2156, 'amongst': 2157, 'ancient': 2158, 'answer': 2159, 'anymore': 2160, 'appropriate': 2161, 'attractive': 2162, 'author': 2163, 'baby': 2164, 'blue': 2165, 'boat': 2166, 'boss': 2167, 'broadcast': 2168, 'campy': 2169, 'carry': 2170, 'causes': 2171, 'choices': 2172, 'church': 2173, 'clothes': 2174, 'connection': 2175, 'costume': 2176, 'crafted': 2177, 'creates': 2178, 'creatures': 2179, 'deaths': 2180, 'direct': 2181, 'directly': 2182, 'door': 2183, 'efforts': 2184, 'empty': 2185, 'entertain': 2186, 'experiences': 2187, 'fail': 2188, 'fat': 2189, 'feet': 2190, 'fiction': 2191, 'glorious': 2192, 'grand': 2193, 'hearted': 2194, 'hoped': 2195, 'horribly': 2196, 'independent': 2197, 'innocent': 2198, 'introduced': 2199, 'issue': 2200, 'land': 2201, 'leader': 2202, 'lesbian': 2203, 'levels': 2204, 'lighting': 2205, 'loses': 2206, 'matters': 2207, 'member': 2208, 'model': 2209, 'musicals': 2210, 'mysterious': 2211, 'nerd': 2212, 'noticed': 2213, 'numerous': 2214, 'owner': 2215, 'pile': 2216, 'pop': 2217, 'presents': 2218, 'provides': 2219, 'psycho': 2220, 'pulled': 2221, 'refreshing': 2222, 'ring': 2223, 'risk': 2224, 'ruined': 2225, 'sadly': 2226, 'service': 2227, 'share': 2228, 'starred': 2229, 'stomach': 2230, 'student': 2231, 'study': 2232, 'stylish': 2233, 'sub': 2234, 'subtitles': 2235, 'surprises': 2236, 'travel': 2237, 'treat': 2238, 'twenty': 2239, 'ugly': 2240, 'ups': 2241, 'villains': 2242, 'walks': 2243, 'winning': 2244, 'wise': 2245, 'woods': 2246, 'wreck': 2247, '1/2': 2248, '1980': 2249, '2006': 2250, 'Abigail': 2251, 'Acting': 2252, 'Any': 2253, 'Bugs': 2254, 'Davis': 2255, 'During': 2256, 'Falk': 2257, 'Freddy': 2258, 'Glover': 2259, 'High': 2260, 'IT': 2261, 'India': 2262, 'Island': 2263, 'Jackie': 2264, 'Jewish': 2265, 'Line': 2266, 'Muslim': 2267, 'Neither': 2268, 'Ron': 2269, 'Rose': 2270, 'Sonny': 2271, 'Stanley': 2272, 'TO': 2273, 'Top': 2274, 'Watching': 2275, 'Zorro': 2276, '_': 2277, 'accused': 2278, 'actions': 2279, 'ad': 2280, 'aged': 2281, 'allow': 2282, 'amateur': 2283, 'answers': 2284, 'apartment': 2285, 'assume': 2286, 'attacked': 2287, 'audio': 2288, 'becoming': 2289, 'blame': 2290, 'bodies': 2291, 'built': 2292, 'calls': 2293, 'castle': 2294, 'claim': 2295, 'color': 2296, 'commented': 2297, 'costs': 2298, 'dated': 2299, 'dealing': 2300, 'decade': 2301, 'described': 2302, 'deserved': 2303, 'desperate': 2304, 'destroyed': 2305, 'dimensional': 2306, 'disagree': 2307, 'dollars': 2308, 'downright': 2309, 'dozen': 2310, 'dreams': 2311, 'drop': 2312, 'eat': 2313, 'edge': 2314, 'edited': 2315, 'false': 2316, 'fancy': 2317, 'fill': 2318, 'finish': 2319, 'focuses': 2320, 'forces': 2321, 'formula': 2322, 'grow': 2323, 'headed': 2324, 'heads': 2325, 'heroine': 2326, 'hey': 2327, 'higher': 2328, 'hip': 2329, 'influence': 2330, 'initial': 2331, 'interpretation': 2332, 'interviews': 2333, 'lady': 2334, 'lets': 2335, 'locked': 2336, 'necessarily': 2337, 'news': 2338, 'opens': 2339, 'opportunity': 2340, 'personalities': 2341, 'praise': 2342, 'prepared': 2343, 'process': 2344, 'propaganda': 2345, 'psychological': 2346, 'raised': 2347, 'range': 2348, 'realism': 2349, 'received': 2350, 'references': 2351, 'regarding': 2352, 'reveals': 2353, 'rights': 2354, 'rise': 2355, 'round': 2356, 'ruin': 2357, 'satisfying': 2358, 'screening': 2359, 'section': 2360, 'served': 2361, 'sharp': 2362, 'sitcom': 2363, 'site': 2364, 'sounded': 2365, 'spectacular': 2366, 'spends': 2367, 'station': 2368, 'steal': 2369, 'steals': 2370, 'struggle': 2371, 'struggling': 2372, 'subtle': 2373, 'talks': 2374, 'tear': 2375, 'teens': 2376, 'teeth': 2377, 'titled': 2378, 'treatment': 2379, 'via': 2380, 'vision': 2381, 'vote': 2382, 'wear': 2383, 'werewolf': 2384, 'witty': 2385, '2000': 2386, '80s': 2387, 'Adams': 2388, 'Alex': 2389, 'Britain': 2390, 'Burt': 2391, 'Canadian': 2392, 'Clint': 2393, 'Come': 2394, 'England': 2395, 'Hill': 2396, 'Jang': 2397, 'Jeff': 2398, 'Joseph': 2399, 'Jr.': 2400, 'Kirk': 2401, 'Latin': 2402, 'Lloyd': 2403, 'Luke': 2404, 'Mann': 2405, 'McCarthy': 2406, 'McCoy': 2407, 'Miike': 2408, 'Movies': 2409, 'Murphy': 2410, 'Never': 2411, 'Next': 2412, 'Personally': 2413, 'Robin': 2414, 'Sadly': 2415, 'Second': 2416, 'Sidney': 2417, 'Spock': 2418, 'Up': 2419, 'Was': 2420, 'Wow': 2421, 'X': 2422, 'afternoon': 2423, 'alike': 2424, 'angel': 2425, 'animal': 2426, 'appealing': 2427, 'asked': 2428, 'attack': 2429, 'balance': 2430, 'besides': 2431, 'blown': 2432, 'board': 2433, 'charge': 2434, 'chosen': 2435, 'clichéd': 2436, 'colors': 2437, 'comical': 2438, 'confusion': 2439, 'convince': 2440, 'cowboy': 2441, 'crowd': 2442, 'cry': 2443, 'deeper': 2444, 'delightful': 2445, 'demands': 2446, 'despicable': 2447, 'draw': 2448, 'drinking': 2449, 'emotionally': 2450, 'essentially': 2451, 'explained': 2452, 'favor': 2453, 'filmmaker': 2454, 'fits': 2455, 'foot': 2456, 'fresh': 2457, 'gas': 2458, 'generation': 2459, 'grave': 2460, 'grew': 2461, 'grown': 2462, 'handsome': 2463, 'hanging': 2464, 'harsh': 2465, 'hiding': 2466, 'hired': 2467, 'holds': 2468, 'hurt': 2469, 'idiotic': 2470, 'inspiration': 2471, 'intriguing': 2472, 'irony': 2473, 'junk': 2474, 'lawyer': 2475, 'lights': 2476, 'logic': 2477, 'mainly': 2478, 'market': 2479, 'memories': 2480, 'moral': 2481, 'nicely': 2482, 'nominated': 2483, 'nude': 2484, 'obsessed': 2485, 'oh': 2486, 'pacing': 2487, 'performers': 2488, 'plans': 2489, 'primarily': 2490, 'prior': 2491, 'productions': 2492, 'protagonist': 2493, 'quick': 2494, 'radio': 2495, 'ran': 2496, 'recall': 2497, 'reveal': 2498, 'ridiculously': 2499, 'robbers': 2500, 'scare': 2501, 'searching': 2502, 'seek': 2503, 'sell': 2504, 'shines': 2505, 'skip': 2506, 'spoiler': 2507, 'sports': 2508, 'standards': 2509, 'statement': 2510, 'stunts': 2511, 'sucked': 2512, 'summary': 2513, 'suspect': 2514, 'therefore': 2515, 'toward': 2516, 'trilogy': 2517, 'versus': 2518, 'wall': 2519, 'wasting': 2520, 'watchable': 2521, 'weeks': 2522, 'willing': 2523, '1990': 2524, '2001': 2525, 'African': 2526, 'Andrews': 2527, 'Army': 2528, 'Australian': 2529, 'Back': 2530, 'Bakshi': 2531, 'Barry': 2532, 'Billy': 2533, 'Blackadder': 2534, 'Can': 2535, 'Cheech': 2536, 'Chong': 2537, 'Comedy': 2538, 'Din': 2539, 'Fonda': 2540, 'Fuqua': 2541, 'Gary': 2542, 'Get': 2543, 'Goldberg': 2544, 'Grant': 2545, 'Had': 2546, 'Hamilton': 2547, 'Hard': 2548, 'Hell': 2549, 'Hey': 2550, 'Home': 2551, 'Hughes': 2552, 'IN': 2553, 'Italy': 2554, 'Jamie': 2555, 'Jimmy': 2556, 'Kelly': 2557, 'Korean': 2558, 'Kurt': 2559, 'Long': 2560, 'Look': 2561, 'Meg': 2562, 'Much': 2563, 'Nazi': 2564, 'None': 2565, 'Oprah': 2566, 'Over': 2567, 'Part': 2568, 'R': 2569, 'Rex': 2570, 'Roger': 2571, 'Run': 2572, 'Ruth': 2573, 'Saturday': 2574, 'Saw': 2575, 'Secret': 2576, 'Sometimes': 2577, 'Stone': 2578, 'T': 2579, 'Thank': 2580, 'Three': 2581, 'True': 2582, 'U.S.': 2583, 'Walter': 2584, 'Zero': 2585, 'accents': 2586, 'amateurish': 2587, 'anger': 2588, 'angles': 2589, 'bread': 2590, 'burned': 2591, 'cash': 2592, 'chain': 2593, 'challenge': 2594, 'charismatic': 2595, 'chasing': 2596, 'choreography': 2597, 'chose': 2598, 'closing': 2599, 'continues': 2600, 'convinced': 2601, 'count': 2602, 'credibility': 2603, 'critical': 2604, 'crude': 2605, 'dancers': 2606, 'decades': 2607, 'desperation': 2608, 'dressed': 2609, 'effectively': 2610, 'established': 2611, 'everybody': 2612, 'experienced': 2613, 'explanation': 2614, 'extras': 2615, 'figured': 2616, 'flashbacks': 2617, 'foreign': 2618, 'genuine': 2619, 'guessed': 2620, 'guilty': 2621, 'handed': 2622, 'handful': 2623, 'handled': 2624, 'hospital': 2625, 'indie': 2626, 'innovative': 2627, 'involves': 2628, 'killers': 2629, 'kinda': 2630, 'knowledge': 2631, 'lackluster': 2632, 'laid': 2633, 'largely': 2634, 'liking': 2635, 'loss': 2636, 'lousy': 2637, 'mildly': 2638, 'minds': 2639, 'monsters': 2640, 'multiple': 2641, 'narration': 2642, 'naturally': 2643, 'offered': 2644, 'path': 2645, 'physically': 2646, 'player': 2647, 'portrays': 2648, 'print': 2649, 'proper': 2650, 'purely': 2651, 'quirky': 2652, 'rap': 2653, 'ready': 2654, 'realizes': 2655, 'redemption': 2656, 'remain': 2657, 'remembered': 2658, 'reporter': 2659, 'represents': 2660, 'revealed': 2661, 'saving': 2662, 'scenario': 2663, 'scream': 2664, 'seeking': 2665, 'serves': 2666, 'sexually': 2667, 'slap': 2668, 'slapstick': 2669, 'sleep': 2670, 'snakes': 2671, 'source': 2672, 'spell': 2673, 'structure': 2674, 'successfully': 2675, 'sucks': 2676, 'sudden': 2677, 'suffer': 2678, 'superbly': 2679, 'surrounded': 2680, 'target': 2681, 'tied': 2682, 'tongue': 2683, 'tradition': 2684, 'tribute': 2685, 'understood': 2686, 'veteran': 2687, 'virtually': 2688, 'visit': 2689, 'wedding': 2690, '1950': 2691, '1970': 2692, '1970s': 2693, '1983': 2694, '2005': 2695, '3rd': 2696, 'ABC': 2697, 'Actually': 2698, 'Amanda': 2699, 'April': 2700, 'Asian': 2701, 'Barbara': 2702, 'Based': 2703, 'Bernie': 2704, 'Blockbuster': 2705, 'Chaplin': 2706, 'Child': 2707, 'Clara': 2708, 'Cruel': 2709, 'Dan': 2710, \"Don't\": 2711, 'Dragon': 2712, 'Emma': 2713, 'Foster': 2714, 'Gene': 2715, 'Golden': 2716, 'Halloween': 2717, 'Hopkins': 2718, 'Hotel': 2719, 'III': 2720, 'Intentions': 2721, 'Joey': 2722, 'Julia': 2723, 'Kathryn': 2724, 'Kim': 2725, 'Kurosawa': 2726, 'Lady': 2727, 'Later': 2728, 'Life': 2729, 'Lily': 2730, 'Live': 2731, 'Lord': 2732, 'Lumet': 2733, 'MAN': 2734, 'Maggie': 2735, 'Matrix': 2736, 'Matt': 2737, 'Matthew': 2738, 'Melissa': 2739, 'Mitchell': 2740, 'Murder': 2741, 'Music': 2742, 'NO': 2743, 'Pacino': 2744, 'Paltrow': 2745, 'Patrick': 2746, 'Paxton': 2747, 'Picture': 2748, 'Pitch': 2749, 'Pitt': 2750, 'Plummer': 2751, 'Q': 2752, 'Ray': 2753, 'Rings': 2754, 'Rob': 2755, 'Sara': 2756, 'Sarne': 2757, 'Shirley': 2758, 'Spike': 2759, 'Stan': 2760, 'Stiller': 2761, 'Street': 2762, 'Such': 2763, 'Too': 2764, 'Valentine': 2765, 'Victor': 2766, 'Wild': 2767, 'Winchester': 2768, 'accidentally': 2769, 'adapted': 2770, 'advice': 2771, 'aka': 2772, 'alien': 2773, 'allowing': 2774, 'amazed': 2775, 'asking': 2776, 'asleep': 2777, 'ass': 2778, 'attracted': 2779, 'awards': 2780, 'awkward': 2781, 'behavior': 2782, 'birth': 2783, 'bore': 2784, 'brilliantly': 2785, 'buddy': 2786, 'calling': 2787, 'capable': 2788, 'captures': 2789, 'carefully': 2790, 'cares': 2791, 'causing': 2792, 'center': 2793, 'cheese': 2794, 'chilling': 2795, 'choose': 2796, 'clips': 2797, 'commit': 2798, 'continuity': 2799, 'contrast': 2800, 'covered': 2801, 'cultural': 2802, 'cuts': 2803, 'degree': 2804, 'depiction': 2805, 'destroy': 2806, 'destroys': 2807, 'develop': 2808, 'dinosaur': 2809, 'discuss': 2810, 'disgusting': 2811, 'dislike': 2812, 'dogs': 2813, 'energy': 2814, 'everywhere': 2815, 'evidence': 2816, 'evident': 2817, 'excitement': 2818, 'exist': 2819, 'existent': 2820, 'exists': 2821, 'facts': 2822, 'fame': 2823, 'flaw': 2824, 'frat': 2825, 'futuristic': 2826, 'glory': 2827, 'gon': 2828, 'graphic': 2829, 'greatly': 2830, 'gritty': 2831, 'hearing': 2832, 'heartwarming': 2833, 'heavily': 2834, 'hence': 2835, 'hits': 2836, 'holiday': 2837, 'horrific': 2838, 'identify': 2839, 'insulting': 2840, 'jaw': 2841, 'king': 2842, 'landscape': 2843, 'laughter': 2844, 'lower': 2845, 'majority': 2846, 'massive': 2847, 'master': 2848, 'mature': 2849, 'met': 2850, 'metal': 2851, 'mission': 2852, 'mixed': 2853, 'mob': 2854, 'mouse': 2855, 'movements': 2856, 'multi': 2857, 'murders': 2858, 'na': 2859, 'narrator': 2860, 'nephew': 2861, 'occurred': 2862, 'offering': 2863, 'ourselves': 2864, 'paper': 2865, 'par': 2866, 'partly': 2867, 'pays': 2868, 'philosophy': 2869, 'photographer': 2870, 'possibility': 2871, 'prefer': 2872, 'presentation': 2873, 'priest': 2874, 'proceedings': 2875, 'quotes': 2876, 'race': 2877, 'reach': 2878, 'remarkably': 2879, 'reminiscent': 2880, 'remote': 2881, 'rental': 2882, 'required': 2883, 'research': 2884, 'resolution': 2885, 'returned': 2886, 'revealing': 2887, 'reviewer': 2888, 'rifle': 2889, 'robot': 2890, 'romp': 2891, 'rushed': 2892, 'sacrifice': 2893, 'seat': 2894, 'seconds': 2895, 'sensitive': 2896, 'sexuality': 2897, 'significant': 2898, 'singer': 2899, 'skills': 2900, 'sleazy': 2901, 'sons': 2902, 'spite': 2903, 'spoken': 2904, 'strangely': 2905, 'strength': 2906, 'succeeds': 2907, 'summer': 2908, 'supernatural': 2909, 'surfing': 2910, 'survive': 2911, 'teacher': 2912, 'techniques': 2913, 'teenage': 2914, 'teenager': 2915, 'term': 2916, 'test': 2917, 'threatening': 2918, 'thrillers': 2919, 'timing': 2920, 'training': 2921, 'trapped': 2922, 'troubled': 2923, 'unlikely': 2924, 'upper': 2925, 'wanna': 2926, 'welcome': 2927, '#': 2928, '25': 2929, '90s': 2930, 'About': 2931, 'Age': 2932, 'Akshay': 2933, 'Al': 2934, 'Alfred': 2935, 'Alice': 2936, 'Along': 2937, 'Anchorman': 2938, 'Anna': 2939, 'Anne': 2940, 'Basically': 2941, 'Be': 2942, 'Belle': 2943, 'Berlin': 2944, 'Bob': 2945, 'Bronson': 2946, 'Bunny': 2947, 'Caprica': 2948, 'Carter': 2949, 'Cindy': 2950, 'Coburn': 2951, 'Damme': 2952, 'Dana': 2953, 'Dark': 2954, 'East': 2955, 'Eric': 2956, 'Fellini': 2957, 'Films': 2958, 'Fortunately': 2959, 'Francisco': 2960, 'Fulci': 2961, 'Gina': 2962, 'Granted': 2963, 'Greek': 2964, 'Gunga': 2965, 'Hanks': 2966, 'Hines': 2967, 'Kapoor': 2968, 'Khan': 2969, 'Kinnear': 2970, 'LOVE': 2971, 'La': 2972, 'Lamas': 2973, 'Leslie': 2974, 'Lion': 2975, 'Lou': 2976, 'Martian': 2977, 'Mexican': 2978, 'Michelle': 2979, 'Miller': 2980, 'Moore': 2981, 'Mrs.': 2982, 'Nathan': 2983, 'Nightmare': 2984, 'Oliver': 2985, 'Ollie': 2986, 'Preminger': 2987, 'Road': 2988, 'Robbins': 2989, 'Seriously': 2990, 'Show': 2991, 'Simmons': 2992, 'Steven': 2993, 'Summer': 2994, 'THAT': 2995, 'Unlike': 2996, 'Wayne': 2997, 'Wells': 2998, 'Whoopi': 2999, 'Your': 3000, 'advance': 3001, 'adventures': 3002, 'and/or': 3003, 'appalling': 3004, 'appearances': 3005, 'arm': 3006, 'arrived': 3007, 'artwork': 3008, 'atrocious': 3009, 'attached': 3010, 'attitude': 3011, 'b': 3012, 'base': 3013, 'beloved': 3014, 'below': 3015, 'bigger': 3016, 'birthday': 3017, 'blond': 3018, 'brave': 3019, 'briefly': 3020, 'brilliance': 3021, 'bringing': 3022, 'bus': 3023, 'businessman': 3024, 'carried': 3025, 'carries': 3026, 'charisma': 3027, 'chick': 3028, 'cliché': 3029, 'comedian': 3030, 'comparison': 3031, 'complain': 3032, 'component': 3033, 'conceived': 3034, 'conflict': 3035, 'contestants': 3036, 'contrary': 3037, 'contrived': 3038, 'corny': 3039, 'court': 3040, 'definite': 3041, 'delight': 3042, 'deranged': 3043, 'designs': 3044, 'desperately': 3045, 'display': 3046, 'distance': 3047, 'doll': 3048, 'driving': 3049, 'duty': 3050, 'environment': 3051, 'evening': 3052, 'examples': 3053, 'existence': 3054, 'exotic': 3055, 'expensive': 3056, 'explores': 3057, 'fabulous': 3058, 'factor': 3059, 'fictional': 3060, 'focused': 3061, 'friendly': 3062, 'gag': 3063, 'gangsters': 3064, 'glass': 3065, 'green': 3066, 'gripping': 3067, 'halfway': 3068, 'happiness': 3069, 'heaven': 3070, 'hill': 3071, 'ice': 3072, 'industrial': 3073, 'inept': 3074, 'insane': 3075, 'insult': 3076, 'learned': 3077, 'limited': 3078, 'locations': 3079, 'lovers': 3080, 'm': 3081, 'mainstream': 3082, 'manipulative': 3083, 'mansion': 3084, 'masterpieces': 3085, 'melodrama': 3086, 'menacing': 3087, 'mere': 3088, 'mid': 3089, 'mistakes': 3090, 'monkey': 3091, 'moon': 3092, 'nightmare': 3093, 'nose': 3094, 'obnoxious': 3095, 'occasion': 3096, 'oddly': 3097, 'officers': 3098, 'opened': 3099, 'ordinary': 3100, 'overrated': 3101, 'packed': 3102, 'passed': 3103, 'passing': 3104, 'perform': 3105, 'performing': 3106, 'persona': 3107, 'plots': 3108, 'position': 3109, 'precious': 3110, 'price': 3111, 'profession': 3112, 'properly': 3113, 'protect': 3114, 'provoking': 3115, 'rain': 3116, 'reaction': 3117, 'recognize': 3118, 'reference': 3119, 'regard': 3120, 'relate': 3121, 'relative': 3122, 'remarks': 3123, 'robber': 3124, 'rocks': 3125, 'rush': 3126, 'screaming': 3127, 'scripted': 3128, 'semi': 3129, 'send': 3130, 'shadow': 3131, 'shall': 3132, 'shape': 3133, 'shelf': 3134, 'shocked': 3135, 'shut': 3136, 'somebody': 3137, 'speed': 3138, 'spirited': 3139, 'spoilers': 3140, 'spoof': 3141, 'stated': 3142, 'status': 3143, 'stops': 3144, 'strictly': 3145, 'strikes': 3146, 'string': 3147, 'struggles': 3148, 'studios': 3149, 'surface': 3150, 'survivors': 3151, 'sympathetic': 3152, 'text': 3153, 'thank': 3154, 'theory': 3155, 'thus': 3156, 'torn': 3157, 'tracks': 3158, 'truck': 3159, 'unbelievably': 3160, 'underground': 3161, 'underrated': 3162, 'universe': 3163, 'unsettling': 3164, 'views': 3165, 'virgin': 3166, 'winner': 3167, 'worthwhile': 3168, '+': 3169, '11': 3170, '13': 3171, '1930s': 3172, '1971': 3173, '1974': 3174, '73': 3175, 'ANY': 3176, 'Act': 3177, 'Agatha': 3178, 'Alexander': 3179, 'Almost': 3180, 'Beast': 3181, 'Beatles': 3182, 'Beauty': 3183, 'Blue': 3184, 'Broken': 3185, 'C.': 3186, 'Cameron': 3187, 'Carrey': 3188, 'Cassidy': 3189, 'Cinderella': 3190, 'Cypher': 3191, 'Definitely': 3192, 'Diana': 3193, 'Diego': 3194, 'Dixon': 3195, 'Down': 3196, 'Downey': 3197, 'Edward': 3198, 'FBI': 3199, 'Four': 3200, 'Glenn': 3201, 'Govinda': 3202, 'Greg': 3203, 'Guevara': 3204, 'Hal': 3205, 'Hannah': 3206, 'Hardy': 3207, 'Highly': 3208, 'Hoffman': 3209, 'Honestly': 3210, 'Irwin': 3211, 'Janeway': 3212, 'Jedi': 3213, 'Jodie': 3214, 'Jon': 3215, 'Kate': 3216, 'Ken': 3217, 'Larry': 3218, 'Lena': 3219, 'Liu': 3220, 'Luckily': 3221, 'Major': 3222, 'Masterson': 3223, 'Matthau': 3224, 'Mraovich': 3225, 'Mystery': 3226, 'Nancy': 3227, 'Nevertheless': 3228, 'Niro': 3229, 'ONLY': 3230, 'Others': 3231, 'Pat': 3232, 'Peckinpah': 3233, 'Pete': 3234, 'Point': 3235, 'Psycho': 3236, 'Rating': 3237, 'Rita': 3238, 'Romero': 3239, 'Sentinel': 3240, 'Seuss': 3241, 'Shaw': 3242, 'Singleton': 3243, 'Someone': 3244, 'Speaking': 3245, 'Speedy': 3246, 'Sunday': 3247, 'Tarantino': 3248, 'Throughout': 3249, 'Tomb': 3250, 'Universal': 3251, 'Vacation': 3252, 'Vance': 3253, 'Verhoeven': 3254, 'Vidal': 3255, 'Virginia': 3256, 'Way': 3257, 'Wendy': 3258, 'Wesley': 3259, 'Whale': 3260, 'Whether': 3261, 'Whoville': 3262, 'Wilson': 3263, 'Without': 3264, 'Woman': 3265, 'Worth': 3266, 'abuse': 3267, 'access': 3268, 'according': 3269, 'account': 3270, 'advantage': 3271, 'affect': 3272, 'annoyed': 3273, 'arms': 3274, 'artificial': 3275, 'attempted': 3276, 'authentic': 3277, 'bargain': 3278, 'bat': 3279, 'battles': 3280, 'beast': 3281, 'bet': 3282, 'blind': 3283, 'bothered': 3284, 'bright': 3285, 'buff': 3286, 'buying': 3287, 'chaos': 3288, 'chase': 3289, 'cheek': 3290, 'claims': 3291, 'closer': 3292, 'con': 3293, 'contact': 3294, 'contained': 3295, 'conversation': 3296, 'convey': 3297, 'corner': 3298, 'correct': 3299, 'corrupt': 3300, 'cost': 3301, 'cracking': 3302, 'creativity': 3303, 'cross': 3304, 'cruel': 3305, 'crying': 3306, 'daring': 3307, 'decidedly': 3308, 'del': 3309, 'demon': 3310, 'depressing': 3311, 'description': 3312, 'directs': 3313, 'discover': 3314, 'doors': 3315, 'drags': 3316, 'driver': 3317, 'duo': 3318, 'eccentric': 3319, 'embarrassing': 3320, 'endure': 3321, 'enemies': 3322, 'enjoying': 3323, 'enjoyment': 3324, 'eventual': 3325, 'experiments': 3326, 'explosions': 3327, 'expression': 3328, 'extent': 3329, 'faced': 3330, 'facial': 3331, 'factory': 3332, 'fairy': 3333, 'farce': 3334, 'fate': 3335, 'favorites': 3336, 'fears': 3337, 'fool': 3338, 'frame': 3339, 'franchise': 3340, 'freedom': 3341, 'genuinely': 3342, 'glimpse': 3343, 'gruesome': 3344, 'haunted': 3345, 'hide': 3346, 'highlight': 3347, 'hire': 3348, 'hundreds': 3349, 'ideal': 3350, 'idiot': 3351, 'ignored': 3352, 'impress': 3353, 'incoherent': 3354, 'increasingly': 3355, 'inmates': 3356, 'insist': 3357, 'la': 3358, 'labor': 3359, 'learning': 3360, 'leg': 3361, 'lengthy': 3362, 'letting': 3363, 'lie': 3364, 'liners': 3365, 'listed': 3366, 'logical': 3367, 'loosely': 3368, 'lovable': 3369, 'ludicrous': 3370, 'mate': 3371, 'measure': 3372, 'meeting': 3373, 'mountain': 3374, 'mundane': 3375, 'neat': 3376, 'noise': 3377, 'occur': 3378, 'paced': 3379, 'painting': 3380, 'per': 3381, 'pity': 3382, 'poignant': 3383, 'pointed': 3384, 'popcorn': 3385, 'pot': 3386, 'press': 3387, 'prince': 3388, 'prison': 3389, 'private': 3390, 'promising': 3391, 'prostitute': 3392, 'push': 3393, 'rank': 3394, 'ratings': 3395, 'raw': 3396, 'react': 3397, 'reads': 3398, 'regular': 3399, 'relatively': 3400, 'relies': 3401, 'remaining': 3402, 'remind': 3403, 'rendition': 3404, 'replaced': 3405, 'representation': 3406, 'river': 3407, 'rules': 3408, 'screens': 3409, 'screenwriter': 3410, 'sentence': 3411, 'shoots': 3412, 'sides': 3413, 'sign': 3414, 'sings': 3415, 'smoke': 3416, 'sold': 3417, 'solve': 3418, 'speech': 3419, 'spiritual': 3420, 'stereotypical': 3421, 'stilted': 3422, 'suffered': 3423, 'surreal': 3424, 'sword': 3425, 'table': 3426, 'tea': 3427, 'teach': 3428, 'teaching': 3429, 'tedious': 3430, 'thankfully': 3431, 'theaters': 3432, 'thirty': 3433, 'thrills': 3434, 'throws': 3435, 'transition': 3436, 'treats': 3437, 'truths': 3438, 'ultra': 3439, 'unable': 3440, 'unconvincing': 3441, 'unintentionally': 3442, 'unrealistic': 3443, 'visually': 3444, 'voyage': 3445, 'wealthy': 3446, 'weekend': 3447, 'whenever': 3448, 'widowed': 3449, 'winds': 3450, 'wore': 3451, '~': 3452, '10/10': 3453, '1987': 3454, '1st': 3455, '>': 3456, 'BBC': 3457, 'BSG': 3458, 'Baby': 3459, 'Bell': 3460, 'Besides': 3461, 'Boll': 3462, 'Borg': 3463, 'Bourne': 3464, 'Boy': 3465, 'Branagh': 3466, 'Bud': 3467, 'Burton': 3468, 'Burtynsky': 3469, 'Canada': 3470, 'Cat': 3471, 'Catherine': 3472, 'Charlotte': 3473, 'Chase': 3474, 'Collette': 3475, 'Conrad': 3476, 'Days': 3477, 'DeNiro': 3478, 'Denzel': 3479, 'Der': 3480, 'Derek': 3481, 'Detroit': 3482, 'Donald': 3483, 'EVER': 3484, 'Either': 3485, 'Empire': 3486, 'End': 3487, 'Europeans': 3488, 'Forget': 3489, 'Funny': 3490, 'G': 3491, 'Give': 3492, 'Grade': 3493, 'Gundam': 3494, 'Guy': 3495, 'Hadley': 3496, 'Hall': 3497, 'Hamiltons': 3498, 'Hank': 3499, 'Harvey': 3500, 'Hawke': 3501, 'Heaven': 3502, 'Helen': 3503, 'Heston': 3504, 'Hudson': 3505, 'Hunter': 3506, 'Indeed': 3507, 'Inspector': 3508, 'Kali': 3509, 'Kay': 3510, 'Kid': 3511, 'Kidman': 3512, 'LA': 3513, 'Lost': 3514, 'Lynch': 3515, 'MOVIE': 3516, 'Mask': 3517, 'May': 3518, 'Meanwhile': 3519, 'Molly': 3520, 'Muslims': 3521, 'Naschy': 3522, 'Nicholas': 3523, 'Nicole': 3524, 'Office': 3525, 'Olivier': 3526, 'Page': 3527, 'Party': 3528, 'Pierce': 3529, 'Princess': 3530, 'Rather': 3531, 'Reiser': 3532, 'Sally': 3533, 'Scary': 3534, 'Sean': 3535, 'Skip': 3536, 'Soon': 3537, 'Space': 3538, 'Spielberg': 3539, 'Stooges': 3540, 'Straight': 3541, 'Tales': 3542, 'Tank': 3543, 'Tashan': 3544, 'Temple': 3545, 'Texas': 3546, 'Thanks': 3547, 'Turkish': 3548, 'Uma': 3549, 'Until': 3550, 'Uwe': 3551, 'Venice': 3552, 'Victoria': 3553, 'Vietnam': 3554, 'Voyager': 3555, 'Wayans': 3556, 'Wish': 3557, 'Worst': 3558, 'Zombie': 3559, 'adequate': 3560, 'aforementioned': 3561, 'aging': 3562, 'agreed': 3563, 'albeit': 3564, 'arrives': 3565, 'artsy': 3566, 'assassination': 3567, 'assuming': 3568, 'attacks': 3569, 'attempting': 3570, 'attract': 3571, 'bag': 3572, 'basement': 3573, 'basis': 3574, 'beats': 3575, 'beings': 3576, 'belief': 3577, 'believed': 3578, 'believing': 3579, 'belongs': 3580, 'bitch': 3581, 'blowing': 3582, 'bomb': 3583, 'bone': 3584, 'border': 3585, 'brains': 3586, 'breath': 3587, 'breathtaking': 3588, 'brutally': 3589, 'builds': 3590, 'bulk': 3591, 'burning': 3592, 'busy': 3593, 'butt': 3594, 'camcorder': 3595, 'cameos': 3596, 'capital': 3597, 'capturing': 3598, 'caused': 3599, 'cave': 3600, 'chair': 3601, 'changing': 3602, 'chased': 3603, 'chief': 3604, 'cinematographer': 3605, 'civilization': 3606, 'closest': 3607, 'coffee': 3608, 'combined': 3609, 'committed': 3610, 'concerns': 3611, 'consists': 3612, 'contemporary': 3613, 'core': 3614, 'countries': 3615, 'courage': 3616, 'cousin': 3617, 'crack': 3618, 'critic': 3619, 'crush': 3620, 'cultures': 3621, 'currently': 3622, 'd': 3623, 'daily': 3624, 'darkness': 3625, 'dealt': 3626, 'decision': 3627, 'defend': 3628, 'deleted': 3629, 'delivering': 3630, 'delivery': 3631, 'demonic': 3632, 'depicts': 3633, 'designed': 3634, 'devoted': 3635, 'directorial': 3636, 'discussion': 3637, 'divorce': 3638, 'documentaries': 3639, 'documents': 3640, 'dollar': 3641, 'dramas': 3642, 'drops': 3643, 'dude': 3644, 'dust': 3645, 'e.g.': 3646, 'eerie': 3647, 'elaborate': 3648, 'enduring': 3649, 'ensues': 3650, 'expert': 3651, 'explains': 3652, 'expressions': 3653, 'fallen': 3654, 'fashioned': 3655, 'fest': 3656, 'fifty': 3657, 'figures': 3658, 'financial': 3659, 'flashback': 3660, 'flies': 3661, 'fond': 3662, 'forth': 3663, 'foul': 3664, 'fourth': 3665, 'freak': 3666, 'function': 3667, 'gain': 3668, 'grace': 3669, 'grandfather': 3670, 'grasp': 3671, 'guests': 3672, 'guide': 3673, 'hall': 3674, 'hang': 3675, 'happily': 3676, 'hat': 3677, 'heat': 3678, 'heels': 3679, 'helping': 3680, 'hooked': 3681, 'hopefully': 3682, 'humble': 3683, 'humorous': 3684, 'imagined': 3685, 'implausible': 3686, 'initially': 3687, 'intellectual': 3688, 'interview': 3689, 'introduction': 3690, 'inventive': 3691, 'jobs': 3692, 'join': 3693, 'judge': 3694, 'jumps': 3695, 'jungle': 3696, 'kicking': 3697, 'kitchen': 3698, 'laws': 3699, 'lifted': 3700, 'listening': 3701, 'loneliness': 3702, 'loser': 3703, 'magical': 3704, 'marks': 3705, 'meat': 3706, 'melodramatic': 3707, 'metaphor': 3708, 'min': 3709, 'mirror': 3710, 'morality': 3711, 'mummy': 3712, 'nerves': 3713, 'nine': 3714, 'noble': 3715, 'nonetheless': 3716, 'nostalgic': 3717, 'noted': 3718, 'notorious': 3719, 'nuts': 3720, 'o': 3721, 'obsession': 3722, 'occasional': 3723, 'oil': 3724, 'online': 3725, 'outright': 3726, 'package': 3727, 'peoples': 3728, 'perverse': 3729, 'picking': 3730, 'plant': 3731, 'plastic': 3732, 'pleased': 3733, 'politically': 3734, 'pops': 3735, 'population': 3736, 'porno': 3737, 'pornographic': 3738, 'portray': 3739, 'pretending': 3740, 'prevent': 3741, 'primitive': 3742, 'program': 3743, 'projects': 3744, 'protagonists': 3745, 'proud': 3746, 'proving': 3747, 'pseudo': 3748, 'psychology': 3749, 'pulls': 3750, 'quote': 3751, 'raise': 3752, 'ranks': 3753, 'raving': 3754, 'recognized': 3755, 'refuses': 3756, 'relations': 3757, 'relevant': 3758, 'remotely': 3759, 'renting': 3760, 'repeatedly': 3761, 'reputation': 3762, 'rescue': 3763, 'respected': 3764, 'restored': 3765, 'resulting': 3766, 'retarded': 3767, 'revival': 3768, 'rural': 3769, 'secretary': 3770, 'segments': 3771, 'sends': 3772, 'shop': 3773, 'shorts': 3774, 'shower': 3775, 'slight': 3776, 'sorts': 3777, 'sport': 3778, 'steam': 3779, 'steel': 3780, 'steps': 3781, 'stolen': 3782, 'streets': 3783, 'stress': 3784, 'stretch': 3785, 'subsequent': 3786, 'suspenseful': 3787, 'swimming': 3788, 'sympathy': 3789, 'tank': 3790, 'teenagers': 3791, 'tend': 3792, 'terrifying': 3793, 'thru': 3794, 'till': 3795, 'titles': 3796, 'touches': 3797, 'toy': 3798, 'trailers': 3799, 'translated': 3800, 'trick': 3801, 'trio': 3802, 'trust': 3803, 'turtle': 3804, 'undoubtedly': 3805, 'uniform': 3806, 'unlikable': 3807, 'useless': 3808, 'vacation': 3809, 'walls': 3810, 'wealth': 3811, 'weapons': 3812, 'wears': 3813, 'whoever': 3814, 'wing': 3815, 'witch': 3816, 'worlds': 3817, 'worried': 3818, 'worry': 3819, 'wounded': 3820, 'writes': 3821, 'yeah': 3822, '18th': 3823, '1972': 3824, '2004': 3825, '2008': 3826, '3D': 3827, 'Actor': 3828, 'Amy': 3829, 'Ariel': 3830, 'Astaire': 3831, 'BUT': 3832, 'Bachman': 3833, 'Bait': 3834, 'Barker': 3835, 'Bates': 3836, 'Behind': 3837, 'Believe': 3838, 'Bette': 3839, 'Bond': 3840, 'Book': 3841, 'Brad': 3842, 'Brilliant': 3843, 'Brimmer': 3844, 'Buster': 3845, 'Capt': 3846, 'Carell': 3847, 'Carlisle': 3848, 'Carol': 3849, 'Case': 3850, 'Channel': 3851, 'Chevy': 3852, 'China': 3853, 'Chuck': 3854, 'Cole': 3855, 'Conan': 3856, 'Dad': 3857, 'Dalton': 3858, 'Danes': 3859, 'Darkness': 3860, 'Deliverance': 3861, 'Dennis': 3862, 'Die': 3863, 'Dogs': 3864, 'Dorothy': 3865, 'Doyle': 3866, 'Eddy': 3867, 'Elizabeth': 3868, 'Elmer': 3869, 'Euripides': 3870, 'Fairbanks': 3871, 'Fanning': 3872, 'Feel': 3873, 'Festival': 3874, 'Fi': 3875, 'Flavia': 3876, 'Freeman': 3877, 'Friday': 3878, 'Fu': 3879, 'Garbo': 3880, 'Garcia': 3881, 'Gazzara': 3882, 'Haim': 3883, 'Have': 3884, 'Hitchcock': 3885, 'Holly': 3886, 'Hood': 3887, 'Hooper': 3888, 'Hugh': 3889, 'Imagine': 3890, 'Impact': 3891, 'Indians': 3892, 'Ireland': 3893, 'Iris': 3894, 'Irish': 3895, 'Josh': 3896, 'Joyce': 3897, 'Judy': 3898, 'June': 3899, 'Keaton': 3900, 'Lane': 3901, 'Laurel': 3902, 'Law': 3903, 'Le': 3904, 'Leo': 3905, 'Luis': 3906, 'Lumière': 3907, 'MGM': 3908, 'Make': 3909, 'Master': 3910, 'Mel': 3911, 'Momsen': 3912, 'Mountain': 3913, 'Myers': 3914, 'NYC': 3915, 'Neil': 3916, 'Normally': 3917, 'Obviously': 3918, 'Off': 3919, 'Otherwise': 3920, 'Out': 3921, 'Palance': 3922, 'Penn': 3923, 'Perfect': 3924, 'Plot': 3925, 'Plus': 3926, 'Put': 3927, 'Revolution': 3928, 'Robinson': 3929, 'Rowlands': 3930, 'Salman': 3931, 'Sci': 3932, 'Service': 3933, 'Set': 3934, 'Seven': 3935, 'Shekhar': 3936, 'Snipes': 3937, 'Something': 3938, 'Sorry': 3939, 'South': 3940, 'Soviet': 3941, 'Stay': 3942, 'Sudden': 3943, 'Sullivan': 3944, 'Sundance': 3945, 'Sutherland': 3946, 'TMNT': 3947, 'Tara': 3948, 'Theatre': 3949, 'Thomas': 3950, 'Through': 3951, 'Thurman': 3952, 'Tiny': 3953, 'Todesking': 3954, 'Tokyo': 3955, 'Tommy': 3956, 'Toni': 3957, 'United': 3958, 'Vader': 3959, 'Veronica': 3960, 'Video': 3961, 'Visconti': 3962, 'WHAT': 3963, 'Warner': 3964, 'Warren': 3965, 'Watson': 3966, 'Whatever': 3967, 'Wonderful': 3968, 'abilities': 3969, 'absence': 3970, 'abused': 3971, 'adding': 3972, 'agenda': 3973, 'aimed': 3974, 'amazingly': 3975, 'angle': 3976, 'antics': 3977, 'atmospheric': 3978, 'ball': 3979, 'ballet': 3980, 'bang': 3981, 'beer': 3982, 'bin': 3983, 'blow': 3984, 'bond': 3985, 'boot': 3986, 'bound': 3987, 'boxing': 3988, 'breathing': 3989, 'bridge': 3990, 'bullet': 3991, 'bullets': 3992, 'burn': 3993, 'cared': 3994, 'caring': 3995, 'cartoons': 3996, 'cats': 3997, 'chases': 3998, 'checked': 3999, 'clad': 4000, 'claimed': 4001, 'cliche': 4002, 'clothing': 4003, 'clown': 4004, 'colour': 4005, 'competition': 4006, 'complaint': 4007, 'construction': 4008, 'continually': 4009, 'contract': 4010, 'controlled': 4011, 'controversial': 4012, 'conventional': 4013, 'convoluted': 4014, 'corpses': 4015, 'counting': 4016, 'creation': 4017, 'dating': 4018, 'deadly': 4019, 'deceased': 4020, 'deliberately': 4021, 'demand': 4022, 'desires': 4023, 'destruction': 4024, 'digital': 4025, 'dire': 4026, 'disease': 4027, 'disjointed': 4028, 'disliked': 4029, 'drew': 4030, 'easier': 4031, 'edit': 4032, 'eight': 4033, 'elderly': 4034, 'embarrassed': 4035, 'encounter': 4036, 'encounters': 4037, 'enemy': 4038, 'engaged': 4039, 'entry': 4040, 'erotic': 4041, 'errors': 4042, 'essence': 4043, 'et': 4044, 'evocative': 4045, 'excellently': 4046, 'exceptional': 4047, 'exploration': 4048, 'explosion': 4049, 'families': 4050, 'faster': 4051, 'fatale': 4052, 'femme': 4053, 'fifteen': 4054, 'fitting': 4055, 'flash': 4056, 'flight': 4057, 'flow': 4058, 'fooled': 4059, 'football': 4060, 'forest': 4061, 'forms': 4062, 'french': 4063, 'generated': 4064, 'glasses': 4065, 'golden': 4066, 'graphics': 4067, 'greatness': 4068, 'gross': 4069, 'guest': 4070, 'guitar': 4071, 'hail': 4072, 'handle': 4073, 'hearts': 4074, 'hint': 4075, 'hippie': 4076, 'hole': 4077, 'houses': 4078, 'ignorant': 4079, 'ignore': 4080, 'imagery': 4081, 'immensely': 4082, 'international': 4083, 'invasion': 4084, 'invention': 4085, 'irritating': 4086, 'isolated': 4087, 'kicked': 4088, 'lasted': 4089, 'legs': 4090, 'letter': 4091, 'load': 4092, 'lowest': 4093, 'lying': 4094, 'madness': 4095, 'magazine': 4096, 'maintain': 4097, 'mankind': 4098, 'mass': 4099, 'meaningless': 4100, 'mentally': 4101, 'miles': 4102, 'mill': 4103, 'mindless': 4104, 'mirrors': 4105, 'mode': 4106, 'monkeys': 4107, 'month': 4108, 'motivation': 4109, 'motives': 4110, 'national': 4111, 'neighbors': 4112, 'nervous': 4113, 'newcomer': 4114, 'newspaper': 4115, 'nowadays': 4116, 'objects': 4117, 'opposed': 4118, 'originality': 4119, 'overlooked': 4120, 'page': 4121, 'park': 4122, 'passes': 4123, 'paying': 4124, 'performs': 4125, 'picks': 4126, 'pitiful': 4127, 'placed': 4128, 'plague': 4129, 'planning': 4130, 'pleasant': 4131, 'pleasantly': 4132, 'plz': 4133, 'possibilities': 4134, 'preview': 4135, 'promised': 4136, 'providing': 4137, 'rats': 4138, 'realm': 4139, 'reasonably': 4140, 'recognition': 4141, 'records': 4142, 'register': 4143, 'regret': 4144, 'releases': 4145, 'remade': 4146, 'repeat': 4147, 'repetitive': 4148, 'replace': 4149, 'resemblance': 4150, 'resembles': 4151, 'response': 4152, 'retired': 4153, 'returning': 4154, 'ripped': 4155, 'rolled': 4156, 'rolling': 4157, 'rotten': 4158, 'rude': 4159, 'safety': 4160, 'satisfied': 4161, 'saves': 4162, 'scares': 4163, 'scientists': 4164, 'sentimental': 4165, 'separate': 4166, 'separated': 4167, 'serum': 4168, 'serve': 4169, 'shoe': 4170, 'shy': 4171, 'silver': 4172, 'sisters': 4173, 'sits': 4174, 'size': 4175, 'skill': 4176, 'skin': 4177, 'skit': 4178, 'slave': 4179, 'slightest': 4180, 'smiling': 4181, 'sophisticated': 4182, 'sounding': 4183, 'speaks': 4184, 'specific': 4185, 'spin': 4186, 'splatter': 4187, 'spoke': 4188, 'spooky': 4189, 'spots': 4190, 'staged': 4191, 'stayed': 4192, 'stereotype': 4193, 'stiff': 4194, 'stinker': 4195, 'stock': 4196, 'strengths': 4197, 'striking': 4198, 'stunned': 4199, 'suck': 4200, 'suffers': 4201, 'suggests': 4202, 'suitable': 4203, 'suitably': 4204, 'suited': 4205, 'sum': 4206, 'superficial': 4207, 'surrounding': 4208, 'suspects': 4209, 'swear': 4210, 'talked': 4211, 'teen': 4212, 'terror': 4213, 'thick': 4214, 'thoughtful': 4215, 'thrilling': 4216, 'throwing': 4217, 'thumbs': 4218, 'tooth': 4219, 'topic': 4220, 'tour': 4221, 'trial': 4222, 'tripe': 4223, 'trite': 4224, 'troops': 4225, 'turmoil': 4226, 'uber': 4227, 'uncle': 4228, 'unhappy': 4229, 'unseen': 4230, 'unwatchable': 4231, 'urban': 4232, 'useful': 4233, 'videos': 4234, 'von': 4235, 'wake': 4236, 'warn': 4237, 'warned': 4238, 'weekly': 4239, 'whale': 4240, 'wicked': 4241, 'wizard': 4242, 'wonders': 4243, 'worker': 4244, 'yesterday': 4245, '14': 4246, '1932': 4247, '1939': 4248, '1984': 4249, '1997': 4250, '95': 4251, 'AT': 4252, 'Academy': 4253, 'Actors': 4254, 'Africa': 4255, 'Agamemnon': 4256, 'Alas': 4257, 'Alison': 4258, 'Altman': 4259, 'Audrey': 4260, 'Award': 4261, 'Aztec': 4262, 'B.': 4263, 'Baker': 4264, 'Barbra': 4265, 'Bean': 4266, 'Beatty': 4267, 'Beverly': 4268, 'Bible': 4269, 'Blood': 4270, 'Bonham': 4271, 'Box': 4272, 'Bronte': 4273, 'Brooklyn': 4274, 'Bryan': 4275, 'CD': 4276, 'CG': 4277, 'CIA': 4278, 'Cacoyannis': 4279, 'Cain': 4280, 'Callahan': 4281, 'Carpenter': 4282, 'Cary': 4283, 'Cassel': 4284, 'Castle': 4285, 'Christie': 4286, 'Church': 4287, 'Cohen': 4288, 'Colin': 4289, 'Colonel': 4290, 'Cool': 4291, 'Corey': 4292, 'Could': 4293, 'Cox': 4294, 'Crazy': 4295, 'DAY': 4296, 'DO': 4297, 'Dani': 4298, 'Danish': 4299, 'Darren': 4300, 'December': 4301, 'Denver': 4302, 'Devil': 4303, 'Direction': 4304, 'Dr': 4305, 'Drama': 4306, 'Dream': 4307, 'Dumb': 4308, 'Dutch': 4309, 'Duvall': 4310, 'E.': 4311, 'Enter': 4312, 'Eye': 4313, 'Fast': 4314, 'Father': 4315, 'Fever': 4316, 'Fire': 4317, 'Five': 4318, 'Francis': 4319, 'Frosty': 4320, 'Fun': 4321, 'Game': 4322, 'Girls': 4323, 'Gore': 4324, 'Grace': 4325, 'Grendel': 4326, 'Grey': 4327, 'Grim': 4328, 'HUGE': 4329, 'Hendrix': 4330, 'Holmes': 4331, 'Hopper': 4332, 'Ice': 4333, 'Invasion': 4334, 'Iphigenia': 4335, 'Jeffrey': 4336, 'Jews': 4337, 'Kendall': 4338, 'Kipling': 4339, 'Kumar': 4340, 'Lance': 4341, 'Lawrence': 4342, 'Legend': 4343, 'Louis': 4344, 'MacDonald': 4345, 'Machine': 4346, 'Madeleine': 4347, 'Manhattan': 4348, 'Marvin': 4349, 'Massacre': 4350, 'Matador': 4351, 'Mermaid': 4352, 'Metal': 4353, 'Mind': 4354, 'Moby': 4355, 'Myrtle': 4356, 'Nana': 4357, 'Natali': 4358, 'Naturally': 4359, 'Note': 4360, 'ONE': 4361, 'Ogre': 4362, 'Oro': 4363, 'Orson': 4364, 'Oscars': 4365, 'Otto': 4366, 'Oz': 4367, 'Palma': 4368, 'Panic': 4369, 'Patty': 4370, 'Payne': 4371, 'Philip': 4372, 'Plan': 4373, 'Plenty': 4374, 'Poirot': 4375, 'Poor': 4376, 'Portugal': 4377, 'Powers': 4378, 'Queen': 4379, 'Quite': 4380, 'REAL': 4381, 'Rabbit': 4382, 'Reid': 4383, 'Rome': 4384, 'Rosenstrasse': 4385, 'S.': 4386, 'SNL': 4387, 'Sarah': 4388, 'Scoop': 4389, 'Scottish': 4390, 'Scrooge': 4391, 'Seen': 4392, 'Serbs': 4393, 'Sgt': 4394, 'Shaolin': 4395, 'Simply': 4396, 'Somehow': 4397, 'Sox': 4398, 'States': 4399, 'Strange': 4400, 'Strauss': 4401, 'Streep': 4402, 'Streets': 4403, 'Sunshine': 4404, 'Swedish': 4405, 'TCM': 4406, 'Terrible': 4407, 'Terry': 4408, 'Theron': 4409, 'Trotta': 4410, 'Tyson': 4411, 'Ultimately': 4412, 'Under': 4413, 'Upon': 4414, 'VERY': 4415, 'Vegas': 4416, 'Virgin': 4417, 'WORST': 4418, 'Wagner': 4419, 'Ward': 4420, 'Women': 4421, 'Would': 4422, 'Wrong': 4423, 'abandoned': 4424, 'absent': 4425, 'accepted': 4426, 'accompanied': 4427, 'ace': 4428, 'adolescent': 4429, 'adorable': 4430, 'advanced': 4431, 'affected': 4432, 'alas': 4433, 'alcohol': 4434, 'alleged': 4435, 'alright': 4436, 'alternative': 4437, 'ambiguous': 4438, 'amused': 4439, 'ants': 4440, 'applaud': 4441, 'approaching': 4442, 'appropriately': 4443, 'armed': 4444, 'arrogance': 4445, 'assigned': 4446, 'aunt': 4447, 'backdrop': 4448, 'banned': 4449, 'bare': 4450, 'barrel': 4451, 'bars': 4452, 'beach': 4453, 'bears': 4454, 'behave': 4455, 'biased': 4456, 'bird': 4457, 'blatant': 4458, 'blend': 4459, 'blockbuster': 4460, 'brand': 4461, 'breathe': 4462, 'broad': 4463, 'btw': 4464, 'buddies': 4465, 'butler': 4466, 'button': 4467, 'cab': 4468, 'cabin': 4469, 'cake': 4470, 'caliber': 4471, 'campus': 4472, 'cardboard': 4473, 'careful': 4474, 'caricature': 4475, 'challenges': 4476, 'channels': 4477, 'chapter': 4478, 'chicks': 4479, 'chills': 4480, 'choreographed': 4481, 'cinemas': 4482, 'cliff': 4483, 'closet': 4484, 'clue': 4485, 'clues': 4486, 'combine': 4487, 'commercials': 4488, 'complaining': 4489, 'complexity': 4490, 'complicated': 4491, 'composer': 4492, 'concern': 4493, 'concerning': 4494, 'confrontation': 4495, 'connect': 4496, 'connected': 4497, 'consequences': 4498, 'consistently': 4499, 'contain': 4500, 'copied': 4501, 'countless': 4502, 'countryside': 4503, 'counts': 4504, 'covers': 4505, 'crappy': 4506, 'creator': 4507, 'cried': 4508, 'crimes': 4509, 'criminals': 4510, 'crisis': 4511, 'crocodile': 4512, 'crucial': 4513, 'cup': 4514, 'curiosity': 4515, 'dancer': 4516, 'dances': 4517, 'danger': 4518, 'definition': 4519, 'definitive': 4520, 'describing': 4521, 'designer': 4522, 'destined': 4523, 'dignity': 4524, 'disc': 4525, 'discovery': 4526, 'disguised': 4527, 'distant': 4528, 'distinct': 4529, 'distract': 4530, 'drain': 4531, 'dreck': 4532, 'drink': 4533, 'elsewhere': 4534, 'emerges': 4535, 'empathy': 4536, 'emphasis': 4537, 'endlessly': 4538, 'enters': 4539, 'entitled': 4540, 'execution': 4541, 'executive': 4542, 'exercise': 4543, 'explicit': 4544, 'exposed': 4545, 'exquisite': 4546, 'faults': 4547, 'feminist': 4548, 'fetched': 4549, 'fields': 4550, 'fifties': 4551, 'filler': 4552, 'flashes': 4553, 'flashing': 4554, 'flavor': 4555, 'flawless': 4556, 'fluid': 4557, 'forbidden': 4558, 'forgettable': 4559, 'fortune': 4560, 'forty': 4561, 'frustrated': 4562, 'fu': 4563, 'gallery': 4564, 'gambling': 4565, 'gathering': 4566, 'goodness': 4567, 'grabs': 4568, 'grainy': 4569, 'grandmother': 4570, 'ha': 4571, 'harder': 4572, 'hateful': 4573, 'hates': 4574, 'heroic': 4575, 'hitchhiker': 4576, 'hitting': 4577, 'hollow': 4578, 'homage': 4579, 'honesty': 4580, 'horrid': 4581, 'huh': 4582, 'humanity': 4583, 'hundred': 4584, 'hunger': 4585, 'hyped': 4586, 'imaginable': 4587, 'imitation': 4588, 'importantly': 4589, 'inevitable': 4590, 'infamous': 4591, 'insignificant': 4592, 'intensity': 4593, 'intention': 4594, 'intentions': 4595, 'interaction': 4596, 'internet': 4597, 'introduces': 4598, 'invited': 4599, 'jacket': 4600, 'jail': 4601, 'killings': 4602, 'kinds': 4603, 'kung': 4604, 'lacked': 4605, 'landing': 4606, 'lesser': 4607, 'library': 4608, 'lifestyle': 4609, 'lip': 4610, 'lonely': 4611, 'loyal': 4612, 'mannerisms': 4613, 'marvelous': 4614, 'mates': 4615, 'meaningful': 4616, 'melting': 4617, 'menace': 4618, 'merits': 4619, 'messed': 4620, 'millionaire': 4621, 'miniseries': 4622, 'minister': 4623, 'minus': 4624, 'miscast': 4625, 'mixes': 4626, 'modest': 4627, 'montage': 4628, 'morally': 4629, 'murderer': 4630, 'naive': 4631, 'natured': 4632, 'naughty': 4633, 'neighborhood': 4634, 'notably': 4635, 'notch': 4636, 'notes': 4637, 'notion': 4638, 'offensive': 4639, 'orders': 4640, 'ought': 4641, 'overacting': 4642, 'paint': 4643, 'paints': 4644, 'partners': 4645, 'patterns': 4646, 'peak': 4647, 'pen': 4648, 'performed': 4649, 'performer': 4650, 'peril': 4651, 'permanent': 4652, 'persons': 4653, 'philosophical': 4654, 'photo': 4655, 'piano': 4656, 'playwright': 4657, 'poetry': 4658, 'pool': 4659, 'pray': 4660, 'precisely': 4661, 'preposterous': 4662, 'prequel': 4663, 'president': 4664, 'pretend': 4665, 'prime': 4666, 'princess': 4667, 'prisoner': 4668, 'pro': 4669, 'proceeds': 4670, 'produces': 4671, 'profound': 4672, 'programs': 4673, 'props': 4674, 'publicity': 4675, 'quarter': 4676, 'queen': 4677, 'quest': 4678, 'racist': 4679, 'rage': 4680, 'raising': 4681, 'randomly': 4682, 'raped': 4683, 'ratio': 4684, 'rave': 4685, 'ray': 4686, 'reaches': 4687, 'reaching': 4688, 'reactions': 4689, 'recording': 4690, 'recycled': 4691, 'redeem': 4692, 'refused': 4693, 'regime': 4694, 'relentlessly': 4695, 'represent': 4696, 'restaurant': 4697, 'revolutionary': 4698, 'revolves': 4699, 'rings': 4700, 'roommate': 4701, 'root': 4702, 'routine': 4703, 'rubber': 4704, 'ruins': 4705, 'runtime': 4706, 'ruthless': 4707, 'sale': 4708, 'scope': 4709, 'secrets': 4710, 'selfish': 4711, 'seventies': 4712, 'shaking': 4713, 'shaped': 4714, 'shares': 4715, 'shirt': 4716, 'shoulders': 4717, 'signed': 4718, 'sinister': 4719, 'smaller': 4720, 'souls': 4721, 'south': 4722, 'split': 4723, 'spoiled': 4724, 'stalker': 4725, 'stereotypes': 4726, 'stereotyping': 4727, 'stood': 4728, 'stopped': 4729, 'stopping': 4730, 'storytelling': 4731, 'strongest': 4732, 'struck': 4733, 'stunt': 4734, 'stupidity': 4735, 'suggested': 4736, 'sums': 4737, 'sun': 4738, 'survives': 4739, 'suspicious': 4740, 'sweat': 4741, 'symbolic': 4742, 'sync': 4743, 'tacky': 4744, 'tales': 4745, 'tame': 4746, 'tap': 4747, 'tender': 4748, 'tense': 4749, 'territory': 4750, 'testament': 4751, 'thoughts': 4752, 'thousands': 4753, 'threatened': 4754, 'ticket': 4755, 'timeless': 4756, 'tiny': 4757, 'tomatoes': 4758, 'tonight': 4759, 'trashy': 4760, 'tremendous': 4761, 'tremendously': 4762, 'trend': 4763, 'troubles': 4764, 'tune': 4765, 'turkey': 4766, 'ultimate': 4767, 'underlying': 4768, 'unexpectedly': 4769, 'unimaginative': 4770, 'unintentional': 4771, 'unlikeable': 4772, 'unpleasant': 4773, 'update': 4774, 'uplifting': 4775, 'user': 4776, 'vampires': 4777, 'vengeance': 4778, 'vicious': 4779, 'viewpoint': 4780, 'vocal': 4781, 'vulnerable': 4782, 'w': 4783, 'waited': 4784, 'wannabe': 4785, 'warmth': 4786, 'weakest': 4787, 'weapon': 4788, 'web': 4789, 'weight': 4790, 'west': 4791, 'wet': 4792, 'whodunit': 4793, 'wings': 4794, 'wisely': 4795, 'wishes': 4796, 'wondered': 4797, 'worthless': 4798, '---': 4799, '10-year': 4800, '17': 4801, '19': 4802, '1933': 4803, '1940': 4804, '1978': 4805, '1986': 4806, '1991': 4807, '1992': 4808, '20s': 4809, '28': 4810, '40-Year': 4811, '9/11': 4812, ':)': 4813, 'Absolutely': 4814, 'According': 4815, 'Action': 4816, 'Adelaide': 4817, 'Ah': 4818, 'AitO': 4819, 'Alicia': 4820, 'Alive': 4821, 'Alone': 4822, 'Anderson': 4823, 'Angels': 4824, 'Arjun': 4825, 'Ashley': 4826, 'Aside': 4827, 'Aspect': 4828, 'Austen': 4829, 'BAD': 4830, 'BTW': 4831, 'Bacon': 4832, 'Ballantine': 4833, 'Band': 4834, 'Barton': 4835, 'Bat': 4836, 'Beowulf': 4837, 'Beta': 4838, 'Biehn': 4839, 'Birth': 4840, 'Blaine': 4841, 'Blair': 4842, 'Blake': 4843, 'Blow': 4844, 'Bogdanovich': 4845, 'Bolton': 4846, 'Boogey': 4847, 'Boston': 4848, 'Boys': 4849, 'Brady': 4850, 'Brain': 4851, 'Brando': 4852, 'Bride': 4853, 'Budapest': 4854, 'Burgundy': 4855, 'Burroughs': 4856, 'Buscemi': 4857, 'Butch': 4858, 'Buttgereit': 4859, 'Bye': 4860, 'CBS': 4861, 'Cagney': 4862, 'Cal': 4863, 'Call': 4864, 'Candle': 4865, 'Candy': 4866, 'Cannes': 4867, 'Carla': 4868, 'Century': 4869, 'Chamber': 4870, 'Characters': 4871, 'Christians': 4872, 'Christina': 4873, 'Claire': 4874, 'Clooney': 4875, 'Coe': 4876, 'Colman': 4877, 'Corman': 4878, 'Creasy': 4879, 'Creature': 4880, 'Creek': 4881, 'Creep': 4882, 'Crocodile': 4883, 'Cruise': 4884, 'Cuban': 4885, 'Curse': 4886, 'Curtis': 4887, 'Cusack': 4888, 'DVDs': 4889, 'Daniel': 4890, 'Darth': 4891, 'Dawn': 4892, 'Dear': 4893, 'Delon': 4894, 'Dollar': 4895, 'Dreams': 4896, 'Dukakis': 4897, 'Duryea': 4898, 'Enjoy': 4899, 'Ernest': 4900, 'Ethan': 4901, 'FROM': 4902, 'Files': 4903, 'Fontaine': 4904, 'Fox': 4905, 'Franka': 4906, 'Frazetta': 4907, 'Further': 4908, 'Garfield': 4909, 'Germans': 4910, 'Gibson': 4911, 'Goes': 4912, 'Going': 4913, 'Goodbye': 4914, 'Got': 4915, 'Government': 4916, 'Green': 4917, 'Han': 4918, 'Hand': 4919, 'Hans': 4920, 'Hart': 4921, 'Head': 4922, 'Heart': 4923, 'Hello': 4924, 'Hindi': 4925, 'Hopefully': 4926, 'Horror': 4927, 'Hostel': 4928, 'Ian': 4929, 'Ingrid': 4930, 'Ira': 4931, 'Iraq': 4932, 'Irene': 4933, 'Israel': 4934, 'Jacket': 4935, 'Joker': 4936, 'Jonathan': 4937, 'Journey': 4938, 'Judson': 4939, 'K-9': 4940, 'Kaakha': 4941, 'Katie': 4942, 'Kazan': 4943, 'Keitel': 4944, 'Koyaanisqatsi': 4945, 'LAME': 4946, 'Lara': 4947, 'Las': 4948, 'Laurie': 4949, 'Leave': 4950, 'Left': 4951, 'Lemon': 4952, 'Lisa': 4953, 'Los': 4954, 'M.': 4955, 'MY': 4956, 'Maia': 4957, 'Mandy': 4958, 'Margaret': 4959, 'Maria': 4960, 'Mario': 4961, 'Marjorie': 4962, 'Marlon': 4963, 'Marshall': 4964, 'McLaglen': 4965, 'Mendes': 4966, 'Miles': 4967, 'Mills': 4968, 'Modine': 4969, 'Mol': 4970, 'Morris': 4971, 'Munchies': 4972, 'NY': 4973, 'Natalie': 4974, 'National': 4975, 'Nazis': 4976, 'Near': 4977, 'Needless': 4978, 'Nice': 4979, 'Nicholson': 4980, 'Nobody': 4981, 'Nolan': 4982, 'Norris': 4983, 'Ok': 4984, 'Osa': 4985, 'Our': 4986, 'Park': 4987, 'Phil': 4988, 'Phyllis': 4989, 'Pinjar': 4990, 'Poppins': 4991, 'Quentin': 4992, 'REALLY': 4993, 'Raider': 4994, 'Rain': 4995, 'Rambo': 4996, 'Randall': 4997, 'Raymond': 4998, 'Reality': 4999, 'Reeve': 5000, 'Rest': 5001, 'Reynolds': 5002, 'Ritchie': 5003, 'Ritter': 5004, 'Robertson': 5005, 'Rochester': 5006, 'Rohmer': 5007, 'Rooney': 5008, 'Rowan': 5009, 'Russo': 5010, 'Sabu': 5011, 'Samuel': 5012, 'Sandra': 5013, 'Sayori': 5014, 'School': 5015, 'Seeing': 5016, 'Several': 5017, 'Seymour': 5018, 'Shame': 5019, 'Shelley': 5020, 'Short': 5021, 'Sissy': 5022, 'Sister': 5023, 'Sloane': 5024, 'Slovik': 5025, 'Soldier': 5026, 'Sound': 5027, 'Spacey': 5028, 'Stanwyck': 5029, 'Stevens': 5030, 'Stole': 5031, 'Studio': 5032, 'Studios': 5033, 'Theodore': 5034, 'Thing': 5035, 'Tierney': 5036, 'Times': 5037, 'Timone': 5038, 'Tolkien': 5039, 'Tomatoes': 5040, 'Tomlinson': 5041, 'Toronto': 5042, 'Triad': 5043, 'Try': 5044, 'UK': 5045, 'USA': 5046, 'Unseen': 5047, 'Ursula': 5048, 'Vanessa': 5049, 'Von': 5050, 'Vonnegut': 5051, 'WB': 5052, 'WURB': 5053, 'WW2': 5054, 'Walsh': 5055, 'Weisz': 5056, 'Welch': 5057, 'Wing': 5058, 'Witch': 5059, 'Witches': 5060, 'Wizard': 5061, 'Y': 5062, 'Year': 5063, 'Yoda': 5064, 'Yugoslavia': 5065, 'Zack': 5066, 'absorbing': 5067, 'accepts': 5068, 'achievement': 5069, 'acquired': 5070, 'active': 5071, 'activities': 5072, 'additional': 5073, 'advantages': 5074, 'advertising': 5075, 'advise': 5076, 'aesthetic': 5077, 'afterwards': 5078, 'agrees': 5079, 'ai': 5080, 'allegory': 5081, 'alter': 5082, 'alternately': 5083, 'analysis': 5084, 'angels': 5085, 'anthology': 5086, 'anticipation': 5087, 'argue': 5088, 'argument': 5089, 'arrow': 5090, 'ashamed': 5091, 'assembly': 5092, 'asset': 5093, 'attraction': 5094, 'audition': 5095, 'automatically': 5096, 'awe': 5097, 'ax': 5098, 'backs': 5099, 'bath': 5100, 'bathroom': 5101, 'bedroom': 5102, 'belt': 5103, 'bill': 5104, 'binding': 5105, 'biographical': 5106, 'bitter': 5107, 'blew': 5108, 'bodyguard': 5109, 'bogus': 5110, 'boredom': 5111, 'boxer': 5112, 'breast': 5113, 'broke': 5114, 'bucks': 5115, 'buried': 5116, 'buys': 5117, 'captivating': 5118, 'card': 5119, 'caretaker': 5120, 'cases': 5121, 'celebrate': 5122, 'cell': 5123, 'celluloid': 5124, 'champion': 5125, 'cheated': 5126, 'cheating': 5127, 'childish': 5128, 'china': 5129, 'choosing': 5130, 'citizens': 5131, 'classical': 5132, 'cleaning': 5133, 'closely': 5134, 'clumsy': 5135, 'coffin': 5136, 'cohesive': 5137, 'combat': 5138, 'combining': 5139, 'commentaries': 5140, 'communicate': 5141, 'compassion': 5142, 'compelled': 5143, 'competent': 5144, 'completist': 5145, 'composed': 5146, 'condition': 5147, 'conditions': 5148, 'confidence': 5149, 'conniving': 5150, 'conspiracy': 5151, 'contempt': 5152, 'context': 5153, 'controls': 5154, 'correctness': 5155, 'crash': 5156, 'crashing': 5157, 'crazed': 5158, 'credible': 5159, 'creep': 5160, 'crippled': 5161, 'dare': 5162, 'darker': 5163, 'daughters': 5164, 'dazzling': 5165, 'debate': 5166, 'delighted': 5167, 'demonstrate': 5168, 'dentist': 5169, 'departure': 5170, 'depicting': 5171, 'deserving': 5172, 'destiny': 5173, 'destroying': 5174, 'developing': 5175, 'device': 5176, 'devoid': 5177, 'disappears': 5178, 'discrimination': 5179, 'discussing': 5180, 'diseases': 5181, 'disguises': 5182, 'disgusted': 5183, 'dismal': 5184, 'distracting': 5185, 'dozens': 5186, 'drag': 5187, 'dragged': 5188, 'dragging': 5189, 'dramatically': 5190, 'dressing': 5191, 'drives': 5192, 'dropped': 5193, 'drunk': 5194, 'drunken': 5195, 'duel': 5196, 'dvd': 5197, 'e': 5198, 'ear': 5199, 'ears': 5200, 'ease': 5201, 'eaten': 5202, 'embarks': 5203, 'empire': 5204, 'en': 5205, 'encourage': 5206, 'endearing': 5207, 'endeavor': 5208, 'endured': 5209, 'enlightened': 5210, 'ensemble': 5211, 'enthusiasm': 5212, 'equal': 5213, 'equivalent': 5214, 'escaped': 5215, 'escapes': 5216, 'escaping': 5217, 'essential': 5218, 'establish': 5219, 'establishment': 5220, 'estate': 5221, 'excess': 5222, 'executives': 5223, 'existed': 5224, 'exposition': 5225, 'exposure': 5226, 'express': 5227, 'fade': 5228, 'failing': 5229, 'fatal': 5230, 'feat': 5231, 'featured': 5232, 'feeding': 5233, 'festivals': 5234, 'fiancé': 5235, 'filling': 5236, 'finger': 5237, 'fired': 5238, 'fish': 5239, 'fishing': 5240, 'flair': 5241, 'flawed': 5242, 'floating': 5243, 'flock': 5244, 'focusing': 5245, 'footsteps': 5246, 'forcing': 5247, 'forgive': 5248, 'formed': 5249, 'freaky': 5250, 'gather': 5251, 'gathered': 5252, 'genres': 5253, 'ghosts': 5254, 'gift': 5255, 'gimmick': 5256, 'gloomy': 5257, 'gorilla': 5258, 'grab': 5259, 'gradually': 5260, 'granted': 5261, 'grief': 5262, 'grim': 5263, 'grotesque': 5264, 'grounds': 5265, 'groups': 5266, 'growth': 5267, 'guarantee': 5268, 'handing': 5269, 'hangs': 5270, 'haunting': 5271, 'heck': 5272, 'heights': 5273, 'helpless': 5274, 'highest': 5275, 'highlights': 5276, 'historic': 5277, 'ho': 5278, 'holy': 5279, 'homosexual': 5280, 'honor': 5281, 'hook': 5282, 'horrified': 5283, 'household': 5284, 'hugely': 5285, 'hunter': 5286, 'iconic': 5287, 'ideals': 5288, 'imaginative': 5289, 'immature': 5290, 'immigrant': 5291, 'improve': 5292, 'inane': 5293, 'incest': 5294, 'inclusion': 5295, 'indulgent': 5296, 'inferior': 5297, 'ingredients': 5298, 'inhabitants': 5299, 'innocence': 5300, 'ins': 5301, 'inspire': 5302, 'intact': 5303, 'integrity': 5304, 'intent': 5305, 'interests': 5306, 'intrigue': 5307, 'invisible': 5308, 'involvement': 5309, 'irrelevant': 5310, 'it`s': 5311, 'item': 5312, 'kidnap': 5313, 'kidnapped': 5314, 'kiss': 5315, 'lads': 5316, 'lay': 5317, 'legacy': 5318, 'lends': 5319, 'lessons': 5320, 'lifelong': 5321, 'lighter': 5322, 'limitations': 5323, 'lips': 5324, 'lists': 5325, 'lit': 5326, 'loathing': 5327, 'losers': 5328, 'maker': 5329, 'maniac': 5330, 'marathon': 5331, 'masses': 5332, 'matches': 5333, 'medicine': 5334, 'mentality': 5335, 'mentions': 5336, 'merit': 5337, 'messages': 5338, 'milk': 5339, 'millions': 5340, 'minority': 5341, 'mins': 5342, 'misses': 5343, 'mistaken': 5344, 'mixture': 5345, 'models': 5346, 'mountains': 5347, 'murderous': 5348, 'museum': 5349, 'musicians': 5350, 'mythical': 5351, 'n': 5352, 'natives': 5353, 'necessity': 5354, 'nevertheless': 5355, 'noises': 5356, 'norm': 5357, 'obsessive': 5358, 'occasions': 5359, 'opinions': 5360, 'ordered': 5361, 'origin': 5362, 'outdated': 5363, 'outlandish': 5364, 'outs': 5365, 'overcome': 5366, 'overwhelming': 5367, 'owners': 5368, 'papers': 5369, 'partition': 5370, 'passengers': 5371, 'penchant': 5372, 'pervasive': 5373, 'pet': 5374, 'photographed': 5375, 'photos': 5376, 'pitch': 5377, 'pivotal': 5378, 'platform': 5379, 'plight': 5380, 'poisonous': 5381, 'polished': 5382, 'positively': 5383, 'predecessor': 5384, 'presenting': 5385, 'preserved': 5386, 'priceless': 5387, 'products': 5388, 'professor': 5389, 'progress': 5390, 'pun': 5391, 'punch': 5392, 'purposely': 5393, 'purposes': 5394, 'quasi': 5395, 'questioning': 5396, 'racial': 5397, 'racism': 5398, 'rapes': 5399, 'realise': 5400, 'realization': 5401, 'reasonable': 5402, 'rebellion': 5403, 'receives': 5404, 'recognizable': 5405, 'recommendation': 5406, 'recorded': 5407, 'reduced': 5408, 'referred': 5409, 'refined': 5410, 'relatives': 5411, 'relaxed': 5412, 'reliable': 5413, 'remained': 5414, 'removed': 5415, 'repeating': 5416, 'replay': 5417, 'representing': 5418, 'respects': 5419, 'revelation': 5420, 'reversed': 5421, 'ridden': 5422, 'rides': 5423, 'riding': 5424, 'ringing': 5425, 'riot': 5426, 'ripping': 5427, 'riveting': 5428, 'rule': 5429, 'ruled': 5430, 'satirical': 5431, 'scientific': 5432, 'screened': 5433, 'scripts': 5434, 'security': 5435, 'seeming': 5436, 'senior': 5437, 'senseless': 5438, 'serials': 5439, 'servant': 5440, 'serving': 5441, 'shadows': 5442, 'shell': 5443, 'shifts': 5444, 'shine': 5445, 'ships': 5446, 'shoes': 5447, 'shoestring': 5448, 'shred': 5449, 'siblings': 5450, 'similarities': 5451, 'simplistic': 5452, 'skeptical': 5453, 'skits': 5454, 'sky': 5455, 'slick': 5456, 'slugs': 5457, 'smoking': 5458, 'snow': 5459, 'solo': 5460, 'sought': 5461, 'spare': 5462, 'spells': 5463, 'spending': 5464, 'splendid': 5465, 'square': 5466, 'staff': 5467, 'stalking': 5468, 'stealing': 5469, 'storm': 5470, 'stretched': 5471, 'stronger': 5472, 'stylized': 5473, 'subjected': 5474, 'subjects': 5475, 'subplot': 5476, 'subtleties': 5477, 'succeed': 5478, 'succession': 5479, 'suspend': 5480, 'suspension': 5481, 'swinging': 5482, 'synopsis': 5483, 'tactics': 5484, 'tad': 5485, 'task': 5486, 'teachers': 5487, 'technique': 5488, 'temple': 5489, 'terrified': 5490, 'terrorists': 5491, 'thousand': 5492, 'thrill': 5493, 'ties': 5494, 'token': 5495, 'toned': 5496, 'torture': 5497, 'toys': 5498, 'trademark': 5499, 'traditionally': 5500, 'tragedies': 5501, 'travels': 5502, 'tree': 5503, 'trees': 5504, 'tricks': 5505, 'trusted': 5506, 'tv': 5507, 'twins': 5508, 'underdeveloped': 5509, 'underdog': 5510, 'understandable': 5511, 'understated': 5512, 'unforgettable': 5513, 'universal': 5514, 'university': 5515, 'unoriginal': 5516, 'unsatisfying': 5517, 'urge': 5518, 'vaguely': 5519, 'venture': 5520, 'viewings': 5521, 'vs.': 5522, 'wandering': 5523, 'warning': 5524, 'warrant': 5525, 'wave': 5526, 'waves': 5527, 'westerns': 5528, 'whiny': 5529, 'wildly': 5530, 'wind': 5531, 'winners': 5532, 'winter': 5533, 'wishing': 5534, 'witches': 5535, 'witnessed': 5536, 'wrenching': 5537, 'wretched': 5538, 'yada': 5539, '\\x85': 5540, \"'S\": 5541, \"'The\": 5542, '16': 5543, '1936': 5544, '1943': 5545, '1944': 5546, '1946': 5547, '1947': 5548, '1950s': 5549, '1955': 5550, '1968': 5551, '1977': 5552, '2002': 5553, '2003': 5554, '20th': 5555, '21': 5556, '23': 5557, '24': 5558, '2nd': 5559, '3000': 5560, '35': 5561, '36th': 5562, '<': 5563, 'ANYTHING': 5564, 'ARE': 5565, 'AWAY': 5566, 'Abe': 5567, 'Abu': 5568, 'Ace': 5569, 'Affleck': 5570, 'Akira': 5571, 'Alvin': 5572, 'Amazing': 5573, 'Angel': 5574, 'Annie': 5575, 'Apart': 5576, 'Arab': 5577, 'Argonne': 5578, 'Artemisia': 5579, 'Arzenta': 5580, 'Atlantic': 5581, 'Audiard': 5582, 'Aunt': 5583, 'BAFTA': 5584, 'Babbage': 5585, 'Bachchan': 5586, 'Battlestar': 5587, 'Bear': 5588, 'Bears': 5589, 'Bedknobs': 5590, 'Bekmambetov': 5591, 'Bela': 5592, 'Better': 5593, 'Beyonce': 5594, 'Birdie': 5595, 'Body': 5596, 'Boggy': 5597, 'Bosnia': 5598, 'Bravo': 5599, 'Brazilian': 5600, 'Broomsticks': 5601, 'Busey': 5602, 'Ca': 5603, 'Caesar': 5604, 'Camera': 5605, 'Camp': 5606, 'Care': 5607, 'Carradine': 5608, 'Cassie': 5609, 'Certainly': 5610, 'Chandler': 5611, 'Character': 5612, 'Chavez': 5613, 'Chicago': 5614, 'Chloe': 5615, 'Christ': 5616, 'Christianity': 5617, 'Christy': 5618, 'Cinématographe': 5619, 'Cliff': 5620, 'Close': 5621, 'Club': 5622, 'Cold': 5623, 'Contrary': 5624, 'Costa': 5625, 'Craig': 5626, 'Curious': 5627, 'Cutter': 5628, 'D': 5629, 'Dafoe': 5630, 'Damon': 5631, 'Daniels': 5632, 'Deathtrap': 5633, 'Del': 5634, 'Detective': 5635, 'Dialogue': 5636, 'Dickens': 5637, 'Directed': 5638, 'Doris': 5639, 'Double': 5640, 'Ebert': 5641, 'Eden': 5642, 'Edgar': 5643, 'Edison': 5644, 'Elephant': 5645, 'Elm': 5646, 'Entertaining': 5647, 'Errol': 5648, 'Especially': 5649, 'Eve': 5650, 'Eyes': 5651, 'FX': 5652, 'Fairy': 5653, 'Field': 5654, 'Final': 5655, 'Foch': 5656, 'Food': 5657, 'Frankenstein': 5658, 'Fry': 5659, 'Frye': 5660, 'Gandolfini': 5661, 'General': 5662, 'Generally': 5663, 'Gere': 5664, 'Giallo': 5665, 'Giamatti': 5666, 'Giant': 5667, 'Girlfight': 5668, 'Given': 5669, 'Goddess': 5670, 'Godzilla': 5671, 'Gone': 5672, 'Gonzalez': 5673, 'Gracie': 5674, 'Greatest': 5675, 'Griswold': 5676, 'Grossman': 5677, 'Gun': 5678, 'Guys': 5679, 'Gwyneth': 5680, 'H.': 5681, 'HK': 5682, 'HOW': 5683, 'Hammer': 5684, 'Harris': 5685, 'Harrison': 5686, 'Hartley': 5687, 'Heat': 5688, 'Hero': 5689, 'Hills': 5690, 'Him': 5691, 'Holiday': 5692, 'Holy': 5693, 'Human': 5694, 'Hunt': 5695, 'Huston': 5696, 'I.': 5697, 'IV': 5698, 'J.': 5699, 'Jake': 5700, 'Jessica': 5701, 'Jesus': 5702, 'Jodorowsky': 5703, 'Johnsons': 5704, 'Juan': 5705, 'Judd': 5706, 'Judging': 5707, 'Juliette': 5708, 'July': 5709, 'Justin': 5710, 'Kane': 5711, 'Kennedy': 5712, 'Kennicut': 5713, 'Kill': 5714, 'LOST': 5715, 'LaBute': 5716, 'Lake': 5717, 'Lauren': 5718, 'Laurence': 5719, 'Lennon': 5720, 'Leno': 5721, 'Leonard': 5722, 'Lindsay': 5723, 'Lock': 5724, 'Locke': 5725, 'Longoria': 5726, 'Looking': 5727, 'Looney': 5728, 'Loren': 5729, 'Lorenzo': 5730, 'Lots': 5731, 'Lucas': 5732, 'Lucky': 5733, 'Lucy': 5734, 'Lukas': 5735, 'MELTING': 5736, 'METAMORPHOSIS': 5737, 'MUCH': 5738, 'MaChesney': 5739, 'Mad': 5740, 'Made': 5741, 'Marc': 5742, 'Marcel': 5743, 'March': 5744, 'Marie': 5745, 'Mars': 5746, 'Marx': 5747, 'Mathieu': 5748, 'Mattei': 5749, 'Maureen': 5750, 'Max': 5751, 'McBain': 5752, 'McGavin': 5753, 'McNally': 5754, 'Mecha': 5755, 'Melinda': 5756, 'Middle': 5757, 'Might': 5758, 'Miklos': 5759, 'Milligan': 5760, 'Modesty': 5761, 'Money': 5762, 'Moonwalker': 5763, 'Morbius': 5764, 'Mormon': 5765, 'NBC': 5766, 'NEVER': 5767, 'Naked': 5768, 'Name': 5769, 'Network': 5770, 'Nolte': 5771, 'Noonan': 5772, 'Nor': 5773, 'Norma': 5774, 'Northam': 5775, 'Novak': 5776, 'Nyqvist': 5777, \"O'Toole\": 5778, 'ON': 5779, 'OUT': 5780, 'Oates': 5781, 'Ocean': 5782, 'Opening': 5783, 'Opera': 5784, 'Orca': 5785, 'Overlook': 5786, 'Palme': 5787, 'Pamela': 5788, 'Pandey': 5789, 'Parker': 5790, 'Peralta': 5791, 'Perdition': 5792, 'Pet': 5793, 'Philadelphia': 5794, 'Philly': 5795, 'Pie': 5796, 'Pilger': 5797, 'Pixar': 5798, 'Planet': 5799, 'Play': 5800, 'Popular': 5801, 'Pretty': 5802, 'Price': 5803, 'Private': 5804, 'Problems': 5805, 'Razor': 5806, 'Real': 5807, 'Recommended': 5808, 'Remember': 5809, 'Renaissance': 5810, 'Rick': 5811, 'Roach': 5812, 'Rogers': 5813, 'Romance': 5814, 'SO': 5815, 'Sabrina': 5816, 'Save': 5817, 'Scarface': 5818, 'Scarlett': 5819, 'Schneider': 5820, 'Science': 5821, 'Screenplay': 5822, 'Season': 5823, 'Shin': 5824, 'Shock': 5825, 'Sir': 5826, 'Slater': 5827, 'Society': 5828, 'Sounds': 5829, 'Spinal': 5830, 'Square': 5831, 'Stock': 5832, 'Sue': 5833, 'Sullavan': 5834, 'Surely': 5835, 'Surprisingly': 5836, 'Sweet': 5837, 'Talk': 5838, 'Taxi': 5839, 'Technically': 5840, 'Templars': 5841, 'Terror': 5842, 'Theater': 5843, 'Think': 5844, 'Thompson': 5845, 'Tina': 5846, 'Tobe': 5847, 'Together': 5848, 'Tooth': 5849, 'Toro': 5850, 'Towers': 5851, 'Toy': 5852, 'Tressa': 5853, 'Truly': 5854, 'Tunes': 5855, 'Turner': 5856, 'Twice': 5857, 'Tyler': 5858, 'Uncle': 5859, 'Underneath': 5860, 'Urich': 5861, 'Val': 5862, 'Valerie': 5863, 'Vaughn': 5864, 'Vertigo': 5865, 'Vince': 5866, 'WHO': 5867, 'Wait': 5868, 'Wedding': 5869, 'Weissmuller': 5870, 'Wes': 5871, 'Whilst': 5872, 'Winters': 5873, 'Woods': 5874, 'Yep': 5875, 'Yokai': 5876, 'Z': 5877, 'Zane': 5878, 'Zimmer': 5879, 'aboard': 5880, 'abomination': 5881, 'abound': 5882, 'abruptly': 5883, 'absurdity': 5884, 'abysmal': 5885, 'acceptable': 5886, 'accomplished': 5887, 'accounts': 5888, 'adapt': 5889, 'adaptations': 5890, 'admire': 5891, 'admittedly': 5892, 'ae': 5893, 'affections': 5894, 'agony': 5895, 'alcoholism': 5896, 'ambitious': 5897, 'amusement': 5898, 'anticipated': 5899, 'ape': 5900, 'apocalyptic': 5901, 'appearing': 5902, 'appreciated': 5903, 'approached': 5904, 'aptly': 5905, 'arrive': 5906, 'article': 5907, 'artistically': 5908, 'assault': 5909, 'assignment': 5910, 'assistant': 5911, 'association': 5912, 'assumed': 5913, 'astounding': 5914, 'authority': 5915, 'auto': 5916, 'avoided': 5917, 'await': 5918, 'awarded': 5919, 'baked': 5920, 'banal': 5921, 'batman': 5922, 'beads': 5923, 'bearable': 5924, 'beard': 5925, 'beaten': 5926, 'beating': 5927, 'beers': 5928, 'begun': 5929, 'beliefs': 5930, 'believer': 5931, 'belong': 5932, 'benefit': 5933, 'bias': 5934, 'billing': 5935, 'blessed': 5936, 'blinded': 5937, 'boarding': 5938, 'bombed': 5939, 'borrowed': 5940, 'boxes': 5941, 'branch': 5942, 'brooding': 5943, 'brutality': 5944, 'calm': 5945, 'cameras': 5946, 'campaign': 5947, 'candle': 5948, 'candy': 5949, 'carrying': 5950, 'ceiling': 5951, 'centered': 5952, 'ceremony': 5953, 'challenging': 5954, 'characterization': 5955, 'cheaper': 5956, 'chess': 5957, 'chest': 5958, 'choir': 5959, 'choreographer': 5960, 'chuckle': 5961, 'cigarette': 5962, 'cities': 5963, 'claiming': 5964, 'clarity': 5965, 'cleverly': 5966, 'clueless': 5967, 'coast': 5968, 'coincidence': 5969, 'colleague': 5970, 'collective': 5971, 'colonial': 5972, 'colorful': 5973, 'colours': 5974, 'comfort': 5975, 'command': 5976, 'commander': 5977, 'commenting': 5978, 'communist': 5979, 'completists': 5980, 'computers': 5981, 'conceal': 5982, 'concentrate': 5983, 'concentration': 5984, 'conductor': 5985, 'confined': 5986, 'considerable': 5987, 'consistent': 5988, 'contents': 5989, 'contest': 5990, 'continued': 5991, 'contrasts': 5992, 'convenient': 5993, 'conviction': 5994, 'convincingly': 5995, 'cooking': 5996, 'corpse': 5997, 'correctly': 5998, 'craft': 5999, 'crawl': 6000, 'craziness': 6001, 'cream': 6002, 'criticism': 6003, 'critique': 6004, 'crowded': 6005, 'culminating': 6006, 'cure': 6007, 'cursed': 6008, 'cycle': 6009, 'damaged': 6010, 'darn': 6011, 'daytime': 6012, 'deciding': 6013, 'deeds': 6014, 'deepest': 6015, 'defeat': 6016, 'defense': 6017, 'defies': 6018, 'define': 6019, 'delicate': 6020, 'demonstrated': 6021, 'den': 6022, 'depths': 6023, 'describes': 6024, 'desired': 6025, 'detriment': 6026, 'devastated': 6027, 'devil': 6028, 'devilish': 6029, 'dictator': 6030, 'dinner': 6031, 'dirt': 6032, 'dirtiest': 6033, 'disappoint': 6034, 'discussed': 6035, 'disk': 6036, 'displayed': 6037, 'displays': 6038, 'distress': 6039, 'disturbed': 6040, 'dolls': 6041, 'domain': 6042, 'dominated': 6043, 'downhill': 6044, 'dreary': 6045, 'drivel': 6046, 'dropping': 6047, 'duds': 6048, 'dumbest': 6049, 'dysfunctional': 6050, 'eagerly': 6051, 'earnest': 6052, 'elephants': 6053, 'emerge': 6054, 'emergence': 6055, 'empathize': 6056, 'employer': 6057, 'employing': 6058, 'enigmatic': 6059, 'enormous': 6060, 'enormously': 6061, 'entries': 6062, 'epitomized': 6063, 'equipment': 6064, 'error': 6065, 'exaggerated': 6066, 'excellence': 6067, 'exchange': 6068, 'expedition': 6069, 'experimental': 6070, 'explaining': 6071, 'explode': 6072, 'exploited': 6073, 'extended': 6074, 'extraordinary': 6075, 'eyed': 6076, 'facility': 6077, 'facing': 6078, 'farther': 6079, 'fascinated': 6080, 'fated': 6081, 'favour': 6082, 'favourites': 6083, 'feeble': 6084, 'females': 6085, 'fiasco': 6086, 'fighter': 6087, 'fingers': 6088, 'fires': 6089, 'firing': 6090, 'firmly': 6091, 'flashy': 6092, 'flop': 6093, 'flowers': 6094, 'fodder': 6095, 'forgot': 6096, 'fragile': 6097, 'framed': 6098, 'fulfilling': 6099, 'gates': 6100, 'gender': 6101, 'generic': 6102, 'generous': 6103, 'gentle': 6104, 'gently': 6105, 'gleefully': 6106, 'goofy': 6107, 'grating': 6108, 'gray': 6109, 'greater': 6110, 'greedy': 6111, 'grip': 6112, 'guarded': 6113, 'gut': 6114, 'guts': 6115, 'habit': 6116, 'hammy': 6117, 'handicapped': 6118, 'haphazard': 6119, 'hapless': 6120, 'hardened': 6121, 'harm': 6122, 'harmless': 6123, 'headache': 6124, 'heading': 6125, 'health': 6126, 'heaping': 6127, 'heartfelt': 6128, 'heavenly': 6129, 'height': 6130, 'heightens': 6131, 'hiring': 6132, 'historically': 6133, 'hood': 6134, 'hopeless': 6135, 'hopelessly': 6136, 'horny': 6137, 'hostage': 6138, 'hostages': 6139, 'hunt': 6140, 'hunting': 6141, 'icon': 6142, 'icons': 6143, 'idiots': 6144, 'illogical': 6145, 'impending': 6146, 'improved': 6147, 'indifferent': 6148, 'individuals': 6149, 'inmate': 6150, 'insists': 6151, 'inspiring': 6152, 'instant': 6153, 'interactions': 6154, 'invented': 6155, 'investigation': 6156, 'ironic': 6157, 'islands': 6158, 'items': 6159, 'it´s': 6160, 'jazz': 6161, 'jerks': 6162, 'jolly': 6163, 'joyous': 6164, 'jumping': 6165, 'jumpy': 6166, 'juvenile': 6167, 'kibbutz': 6168, 'kiddie': 6169, 'kisses': 6170, 'knights': 6171, 'lab': 6172, 'lasting': 6173, 'laughably': 6174, 'layers': 6175, 'leap': 6176, 'letdown': 6177, 'letters': 6178, 'liberal': 6179, 'lifeless': 6180, 'likeable': 6181, 'limits': 6182, 'linked': 6183, 'listened': 6184, 'literal': 6185, 'literature': 6186, 'loads': 6187, 'locals': 6188, 'lol': 6189, 'maid': 6190, 'males': 6191, 'manor': 6192, 'masked': 6193, 'masks': 6194, 'masterful': 6195, 'mayhem': 6196, 'mega': 6197, 'mentioning': 6198, 'mercy': 6199, 'methods': 6200, 'mile': 6201, 'mimic': 6202, 'misunderstood': 6203, 'moody': 6204, 'moronic': 6205, 'motivations': 6206, 'musician': 6207, 'mysteries': 6208, 'mysteriously': 6209, 'myth': 6210, 'mythology': 6211, 'nails': 6212, 'nation': 6213, 'nations': 6214, 'nearby': 6215, 'neatly': 6216, 'neighbor': 6217, 'neo': 6218, 'net': 6219, 'network': 6220, 'newer': 6221, 'niece': 6222, 'nod': 6223, 'object': 6224, 'objective': 6225, 'operate': 6226, 'option': 6227, 'oriented': 6228, 'outfits': 6229, 'outing': 6230, 'outings': 6231, 'overdone': 6232, 'overlong': 6233, 'overlook': 6234, 'overt': 6235, 'pages': 6236, 'pairing': 6237, 'pale': 6238, 'palm': 6239, 'pan': 6240, 'panic': 6241, 'pans': 6242, 'parade': 6243, 'parent': 6244, 'participating': 6245, 'partnership': 6246, 'passionate': 6247, 'patience': 6248, 'pattern': 6249, 'phase': 6250, 'phenomenal': 6251, 'philosopher': 6252, 'physics': 6253, 'pilots': 6254, 'pitched': 6255, 'plausible': 6256, 'poem': 6257, 'portion': 6258, 'portions': 6259, 'possession': 6260, 'poster': 6261, 'potent': 6262, 'poverty': 6263, 'practical': 6264, 'practice': 6265, 'practices': 6266, 'prank': 6267, 'preachy': 6268, 'predictably': 6269, 'pregnant': 6270, 'pressure': 6271, 'pretends': 6272, 'producing': 6273, 'profoundly': 6274, 'proof': 6275, 'prop': 6276, 'psychic': 6277, 'psychotic': 6278, 'punches': 6279, 'purchased': 6280, 'purse': 6281, 'pursue': 6282, 'pushed': 6283, 'pushes': 6284, 'puzzle': 6285, 'quarters': 6286, 'quit': 6287, 'rabbit': 6288, 'ranging': 6289, 'rant': 6290, 'rapist': 6291, 'rapists': 6292, 'raunchy': 6293, 'reached': 6294, 'reel': 6295, 'reflect': 6296, 'reflects': 6297, 'regards': 6298, 'regularly': 6299, 'relax': 6300, 'releasing': 6301, 'relief': 6302, 'reluctant': 6303, 'repeats': 6304, 'replacing': 6305, 'resemble': 6306, 'respectable': 6307, 'restrictions': 6308, 'resulted': 6309, 'reverse': 6310, 'rid': 6311, 'rife': 6312, 'rips': 6313, 'risen': 6314, 'rises': 6315, 'robots': 6316, 'rookie': 6317, 'roommates': 6318, 'ropes': 6319, 'roughly': 6320, 'rounds': 6321, 'route': 6322, 'scantily': 6323, 'scathing': 6324, 'scattered': 6325, 'screwed': 6326, 'scripting': 6327, 'secure': 6328, 'seeks': 6329, 'selection': 6330, 'selling': 6331, 'senses': 6332, 'sensible': 6333, 'settings': 6334, 'setup': 6335, 'severe': 6336, 'sewer': 6337, 'shoddy': 6338, 'shootings': 6339, 'shopping': 6340, 'showdown': 6341, 'sickness': 6342, 'sidekick': 6343, 'sidewalk': 6344, 'signature': 6345, 'silence': 6346, 'sincerely': 6347, 'sinking': 6348, 'slaps': 6349, 'slice': 6350, 'sloppy': 6351, 'sly': 6352, 'smell': 6353, 'smooth': 6354, 'societal': 6355, 'softcore': 6356, 'software': 6357, 'solely': 6358, 'sour': 6359, 'sparkling': 6360, 'sparks': 6361, 'specifically': 6362, 'speeches': 6363, 'spies': 6364, 'spotted': 6365, 'spray': 6366, 'stabbed': 6367, 'stabbing': 6368, 'stairs': 6369, 'starters': 6370, 'stays': 6371, 'sticking': 6372, 'stole': 6373, 'stone': 6374, 'straightforward': 6375, 'strangers': 6376, 'strike': 6377, 'strip': 6378, 'stumbles': 6379, 'subtlety': 6380, 'suggestion': 6381, 'superhero': 6382, 'superiors': 6383, 'supported': 6384, 'survived': 6385, 'suspicion': 6386, 'tables': 6387, 'taped': 6388, 'temper': 6389, 'temperament': 6390, 'tendency': 6391, 'tenth': 6392, 'terrorist': 6393, 'testimony': 6394, 'tests': 6395, 'thinner': 6396, 'threat': 6397, 'threw': 6398, 'tight': 6399, 'tons': 6400, 'toss': 6401, 'tossed': 6402, 'trained': 6403, 'transfer': 6404, 'transferred': 6405, 'treating': 6406, 'tunnel': 6407, 'twin': 6408, 'ugliest': 6409, 'un': 6410, 'unattractive': 6411, 'unaware': 6412, 'unbearable': 6413, 'undeniably': 6414, 'underneath': 6415, 'understatement': 6416, 'undertones': 6417, 'unfair': 6418, 'unfolds': 6419, 'uniformly': 6420, 'unsung': 6421, 'unsuspecting': 6422, 'valuable': 6423, 'vapid': 6424, 'vast': 6425, 'vein': 6426, 'vice': 6427, 'visiting': 6428, 'vivid': 6429, 'volume': 6430, 'wakes': 6431, 'wander': 6432, 'warns': 6433, 'wartime': 6434, 'wastes': 6435, 'waters': 6436, 'weaknesses': 6437, 'widely': 6438, 'widow': 6439, 'wig': 6440, 'wildlife': 6441, 'wins': 6442, 'witnesses': 6443, 'worn': 6444, 'wrapped': 6445, 'wrathful': 6446, 'yells': 6447, 'youngest': 6448, 'yours': 6449, '\\t': 6450, \"'em\": 6451, '......': 6452, '.......': 6453, '0': 6454, '01': 6455, '1/10': 6456, '180': 6457, '1912': 6458, '1920': 6459, '1927': 6460, '1930': 6461, '1942': 6462, '1948': 6463, '1954': 6464, '1957': 6465, '1966': 6466, '1973': 6467, '1982': 6468, '1985': 6469, '1993': 6470, '1994': 6471, '1996': 6472, '1999': 6473, '19th': 6474, '2/10': 6475, '4/10': 6476, '45': 6477, '49': 6478, '50s': 6479, '54': 6480, '71': 6481, '96': 6482, ':-)': 6483, 'ANGEL': 6484, 'AVOID': 6485, 'Additionally': 6486, 'Agent': 6487, 'Aileen': 6488, 'Airplane': 6489, 'Alain': 6490, 'Alekos': 6491, 'Alexandra': 6492, 'Alien': 6493, 'Aliens': 6494, 'Allied': 6495, 'Alois': 6496, 'Always': 6497, 'Am': 6498, 'Andrew': 6499, 'Angela': 6500, 'Angeles': 6501, 'Anil': 6502, 'Anime': 6503, 'Anti': 6504, 'Anton': 6505, 'Anyhow': 6506, 'Aoki': 6507, 'Apprentice': 6508, 'Archer': 6509, 'Arctic': 6510, 'Arnold': 6511, 'Art': 6512, 'Atoz': 6513, 'Attenborough': 6514, 'BORING': 6515, 'Bach': 6516, 'Bam': 6517, 'Barnes': 6518, 'Basil': 6519, 'Bava': 6520, 'Beautiful': 6521, 'Benson': 6522, 'Bergman': 6523, 'Berkeley': 6524, 'Beyond': 6525, 'Bloom': 6526, 'Bo': 6527, 'Bohlen': 6528, 'Borlenghi': 6529, 'Bosnian': 6530, 'Bottom': 6531, 'Boyle': 6532, 'Brazil': 6533, 'Brenda': 6534, 'Brett': 6535, 'Brody': 6536, 'Brother': 6537, 'Burns': 6538, 'Busby': 6539, 'Buses': 6540, 'Buy': 6541, 'Bynes': 6542, 'CAN': 6543, 'Cable': 6544, 'Came': 6545, 'Carface': 6546, 'Casablanca': 6547, 'Casanova': 6548, 'Castro': 6549, 'Charlton': 6550, 'Check': 6551, 'Chief': 6552, 'Christine': 6553, 'Chronicles': 6554, 'Civil': 6555, 'Cleese': 6556, 'Clifford': 6557, 'Co': 6558, 'Code': 6559, 'Colagrande': 6560, 'Collora': 6561, 'Commander': 6562, 'Conductor': 6563, 'Conduit': 6564, 'Congeniality': 6565, 'Cooper': 6566, 'Cop': 6567, 'Cowboy': 6568, 'Crime': 6569, 'Criminal': 6570, 'Cromwell': 6571, 'Crook': 6572, 'Crypt': 6573, 'Cuba': 6574, 'Culkin': 6575, 'Curtiz': 6576, 'Cut': 6577, 'DARK': 6578, 'DEMONS': 6579, 'Dance': 6580, 'Dangerously': 6581, 'Darlene': 6582, 'Dawson': 6583, 'Delirious': 6584, 'Desi': 6585, 'Dickory': 6586, 'DinoCroc': 6587, 'Dock': 6588, \"Dodes'ka\": 6589, 'Dodge': 6590, 'Domino': 6591, 'Donna': 6592, 'Drake': 6593, 'Dreamworks': 6594, 'Drunken': 6595, 'Dull': 6596, 'Dunne': 6597, 'Dwight': 6598, 'Dyke': 6599, 'Dylan': 6600, 'EVERYTHING': 6601, 'Early': 6602, 'Eastern': 6603, 'Ebay': 6604, 'El': 6605, 'Elia': 6606, 'Elliot': 6607, 'Ellis': 6608, 'Emily': 6609, 'Emperor': 6610, 'Enforcer': 6611, 'Esther': 6612, 'Eugene': 6613, 'Evening': 6614, 'Evidently': 6615, 'Except': 6616, 'F': 6617, 'FILM': 6618, 'FIRE': 6619, 'FOREST': 6620, 'Fair': 6621, 'Famous': 6622, 'Fans': 6623, 'Fantastic': 6624, 'Far': 6625, 'Farm': 6626, 'Fate': 6627, 'Fay': 6628, 'Fear': 6629, 'Filmed': 6630, 'Finch': 6631, 'Finney': 6632, 'Flight': 6633, 'Flora': 6634, 'Folk': 6635, 'Force': 6636, 'Fort': 6637, 'Furthermore': 6638, 'Future': 6639, 'GO': 6640, 'GREAT': 6641, 'Games': 6642, 'Garam': 6643, 'Garden': 6644, 'Garland': 6645, 'Garth': 6646, 'Gavras': 6647, 'Gay': 6648, 'Gena': 6649, 'Georges': 6650, 'Ghost': 6651, 'Gielgud': 6652, 'Ginger': 6653, 'Glass': 6654, 'Godfather': 6655, 'Gods': 6656, 'Gold': 6657, 'Goldsworthy': 6658, 'Goodfellas': 6659, 'Gotham': 6660, 'Grave': 6661, 'Grayson': 6662, 'Greece': 6663, 'Greedy': 6664, 'Griffith': 6665, 'Ground': 6666, 'Guard': 6667, 'Ha': 6668, 'Hale': 6669, 'Half': 6670, 'Hallmark': 6671, 'Happened': 6672, 'Hat': 6673, 'Hawaii': 6674, 'Hector': 6675, 'Hepburn': 6676, 'Herbie': 6677, 'Herman': 6678, 'Hickory': 6679, 'Hilton': 6680, 'Hiltz': 6681, 'Hirsch': 6682, 'Hmm': 6683, 'Ho': 6684, 'Honest': 6685, 'Hook': 6686, 'Houston': 6687, \"I'd\": 6688, 'INCREDIBLE': 6689, 'Iago': 6690, 'Incredible': 6691, 'Interesting': 6692, 'Interestingly': 6693, 'International': 6694, 'Iron': 6695, 'Ironically': 6696, 'Isabel': 6697, 'Ja': 6698, 'Jafa': 6699, 'Jannings': 6700, 'Jaws': 6701, \"Je'Taime\": 6702, 'Jennie': 6703, 'Johansson': 6704, 'Jude': 6705, 'Juhi': 6706, 'Julie': 6707, 'Karl': 6708, 'Kaye': 6709, 'Kazakos': 6710, 'Keller': 6711, 'Kenneth': 6712, 'Kingdom': 6713, 'Kirstie': 6714, 'Kitchen': 6715, 'Klara': 6716, 'Knots': 6717, 'Knox': 6718, 'Korman': 6719, 'Kramer': 6720, 'Krell': 6721, 'Krishna': 6722, 'Kristel': 6723, \"L'Engle\": 6724, 'L.': 6725, 'L.A.': 6726, 'LINE': 6727, 'Laboratory': 6728, 'Lamberto': 6729, 'Lando': 6730, 'Leary': 6731, 'Lemmon': 6732, 'Lester': 6733, 'Lex': 6734, 'Liam': 6735, 'Lifetime': 6736, 'Likewise': 6737, 'List': 6738, 'Lolita': 6739, 'Loved': 6740, 'Lucci': 6741, 'Lucio': 6742, 'Lugosi': 6743, 'Luzhin': 6744, 'MANY': 6745, 'Mac': 6746, 'Machi': 6747, 'Magical': 6748, 'Magnum': 6749, 'Makes': 6750, 'Maniac': 6751, 'Mannu': 6752, 'Marilyn': 6753, 'Marxist': 6754, 'Mas': 6755, 'Masala': 6756, 'Mazovia': 6757, 'Melody': 6758, 'Meyer': 6759, 'Miami': 6760, 'Mickey': 6761, 'Midler': 6762, 'Minnelli': 6763, 'Mira': 6764, 'Mission': 6765, 'Misty': 6766, 'Miyazaki': 6767, 'NEED': 6768, 'NOTE': 6769, 'Nada': 6770, 'Nandini': 6771, 'Natica': 6772, 'Native': 6773, 'Ned': 6774, 'Nelson': 6775, 'Neo': 6776, 'Newman': 6777, 'Nicely': 6778, 'Nichole': 6779, 'Nights': 6780, 'Nina': 6781, 'Niven': 6782, 'Noble': 6783, 'Noll': 6784, 'Non': 6785, 'Nora': 6786, 'Notorious': 6787, 'November': 6788, 'Number': 6789, \"O'Brien\": 6790, \"O'Sullivan\": 6791, 'Oak': 6792, 'Odysseus': 6793, 'Often': 6794, 'Olympia': 6795, 'Olympic': 6796, 'Original': 6797, 'Ozzy': 6798, 'PG-13': 6799, 'PLEASE': 6800, 'Pallbearer': 6801, 'Papas': 6802, 'Paraguay': 6803, 'Paresh': 6804, 'Partying': 6805, 'Pathetic': 6806, 'Paulo': 6807, 'Peace': 6808, 'Peggy': 6809, 'Perkins': 6810, 'Phillips': 6811, 'Pink': 6812, 'Playboy': 6813, 'Playing': 6814, 'Polynesian': 6815, 'Portman': 6816, 'Postman': 6817, 'Power': 6818, 'Pressburger': 6819, 'Priyadarshan': 6820, 'Producers': 6821, 'Pumbaa': 6822, 'Quaid': 6823, 'REVIEW': 6824, 'Raggedy': 6825, 'Ramones': 6826, 'Randy': 6827, 'Rani': 6828, 'Raquel': 6829, 'Rated': 6830, 'Rathbone': 6831, 'Resident': 6832, 'Revenge': 6833, 'Richardson': 6834, 'Ridge': 6835, 'Right': 6836, 'Ringwald': 6837, 'Rises': 6838, 'Robby': 6839, 'Robot': 6840, 'Robson': 6841, 'Rodriguez': 6842, 'Ronald': 6843, 'Ross': 6844, 'Rothrock': 6845, 'Rules': 6846, 'Russia': 6847, 'SF': 6848, 'SOME': 6849, 'Saif': 6850, 'Salgueiro': 6851, 'Satan': 6852, 'Saving': 6853, 'Savini': 6854, 'Say': 6855, 'Schmid': 6856, 'Scream': 6857, 'Seattle': 6858, 'Secondly': 6859, 'Segal': 6860, 'Selma': 6861, 'Serb': 6862, 'Serbia': 6863, 'Series': 6864, 'Shakti': 6865, 'Shannon': 6866, 'Shapiro': 6867, 'Sheen': 6868, 'Shemp': 6869, 'Shepard': 6870, 'Shepherd': 6871, 'Sheriff': 6872, 'Sherman': 6873, 'Shikoku': 6874, 'Shot': 6875, 'Shue': 6876, 'Siegel': 6877, 'Simpsons': 6878, 'Small': 6879, 'Smiling': 6880, 'Smooth': 6881, 'Son': 6882, 'Sondra': 6883, 'Sorvino': 6884, 'Sr': 6885, 'Stagecoach': 6886, 'Stallion': 6887, 'Starship': 6888, 'State': 6889, 'Steele': 6890, 'Stettner': 6891, 'Stuff': 6892, 'Sun': 6893, 'Super': 6894, 'Superman': 6895, 'Suraj': 6896, 'Susan': 6897, 'Suzanne': 6898, 'Sylvester': 6899, 'Syndrome': 6900, 'T&A': 6901, 'TIME': 6902, 'TR': 6903, 'TRASH': 6904, 'TRUE': 6905, 'Taking': 6906, 'Talos': 6907, 'Tap': 6908, 'Taste': 6909, 'Team': 6910, 'Terminator': 6911, 'Terri': 6912, 'Thaw': 6913, 'Therefore': 6914, 'Thinking': 6915, 'Thornton': 6916, 'Tigerland': 6917, 'Today': 6918, 'Todd': 6919, 'Tomei': 6920, 'Torrence': 6921, 'Town': 6922, 'Trier': 6923, 'Troopers': 6924, 'Tucci': 6925, 'Turturro': 6926, 'Tuvok': 6927, 'Twin': 6928, 'U.S.A.': 6929, 'Ulises': 6930, 'Union': 6931, 'Unknown': 6932, 'Urmila': 6933, 'Ustinov': 6934, 'Usually': 6935, 'Vanilla': 6936, 'Venus': 6937, 'Vermont': 6938, 'Victorian': 6939, 'Vincent': 6940, 'Vivian': 6941, 'Voight': 6942, 'WAY': 6943, 'Waco': 6944, 'Weber': 6945, 'Weekend': 6946, 'Were': 6947, 'Werewolf': 6948, 'Widmark': 6949, 'Wilder': 6950, 'Winkler': 6951, 'Word': 6952, 'Words': 6953, 'Worse': 6954, 'Writer': 6955, 'Yakitate': 6956, 'Zabriskie': 6957, 'Zealand': 6958, 'Zombies': 6959, 'abstract': 6960, 'abusing': 6961, 'acceptance': 6962, 'accessible': 6963, 'acclaim': 6964, 'accompanying': 6965, 'accomplice': 6966, 'achieved': 6967, 'achieves': 6968, 'achieving': 6969, 'acknowledge': 6970, 'actuality': 6971, 'adaption': 6972, 'admirable': 6973, 'admits': 6974, 'adopted': 6975, 'advances': 6976, 'advert': 6977, 'advised': 6978, 'affairs': 6979, 'afterward': 6980, 'agents': 6981, 'ah': 6982, 'aid': 6983, 'airport': 6984, 'al': 6985, 'album': 6986, 'aliens': 6987, 'ally': 6988, 'alternate': 6989, 'amaze': 6990, 'ample': 6991, 'analyzed': 6992, 'animations': 6993, 'anniversary': 6994, 'annoy': 6995, 'annoyingly': 6996, 'anxiety': 6997, 'anxious': 6998, 'apologies': 6999, 'arch': 7000, 'architecture': 7001, 'areas': 7002, 'arises': 7003, 'armor': 7004, 'arranged': 7005, 'arrest': 7006, 'arriving': 7007, 'arrogant': 7008, 'arty': 7009, 'assailants': 7010, 'associated': 7011, 'associates': 7012, 'astonishing': 7013, 'atop': 7014, 'attackers': 7015, 'attend': 7016, 'attorney': 7017, 'avenge': 7018, 'awake': 7019, 'awakening': 7020, 'awry': 7021, 'babes': 7022, 'babies': 7023, 'backgrounds': 7024, 'backwoods': 7025, 'backyard': 7026, 'balls': 7027, 'banality': 7028, 'banana': 7029, 'bands': 7030, 'bashing': 7031, 'basketball': 7032, 'bathing': 7033, 'bear': 7034, 'befriends': 7035, 'begs': 7036, 'behalf': 7037, 'behold': 7038, 'beneath': 7039, 'beside': 7040, 'bible': 7041, 'bike': 7042, 'bio': 7043, 'biography': 7044, 'bite': 7045, 'bites': 7046, 'biting': 7047, 'bitten': 7048, 'bla': 7049, 'blackmailed': 7050, 'block': 7051, 'blockbusters': 7052, 'blooded': 7053, 'blows': 7054, 'blurred': 7055, 'boards': 7056, 'boasts': 7057, 'boots': 7058, 'borrows': 7059, 'bosses': 7060, 'bouncing': 7061, 'boyish': 7062, 'brainer': 7063, 'breakup': 7064, 'brides': 7065, 'brim': 7066, 'buck': 7067, 'budgets': 7068, 'buffs': 7069, 'burst': 7070, 'butch': 7071, 'butchered': 7072, 'calculating': 7073, 'cam': 7074, 'cancer': 7075, 'candidate': 7076, 'cannibal': 7077, 'capitalist': 7078, 'cards': 7079, 'careers': 7080, 'caricatures': 7081, 'casually': 7082, 'catches': 7083, 'catchy': 7084, 'celebration': 7085, 'cellar': 7086, 'centers': 7087, 'centred': 7088, 'cents': 7089, 'characterisation': 7090, 'charitable': 7091, 'charms': 7092, 'chat': 7093, 'cheer': 7094, 'cheered': 7095, 'chew': 7096, 'chops': 7097, 'chorus': 7098, 'chuckles': 7099, 'cinematographic': 7100, 'circuit': 7101, 'clarify': 7102, 'classes': 7103, 'claustrophobic': 7104, 'cliched': 7105, 'client': 7106, 'climatic': 7107, 'clinical': 7108, 'clouds': 7109, 'coach': 7110, 'combines': 7111, 'comedians': 7112, 'comfortable': 7113, 'commanding': 7114, 'commentators': 7115, 'communicating': 7116, 'comrades': 7117, 'concepts': 7118, 'concert': 7119, 'conclude': 7120, 'condemned': 7121, 'confesses': 7122, 'confident': 7123, 'conflicts': 7124, 'conscience': 7125, 'consist': 7126, 'constructed': 7127, 'continuation': 7128, 'continuously': 7129, 'contractor': 7130, 'conveniently': 7131, 'conversations': 7132, 'convict': 7133, 'copying': 7134, 'corners': 7135, 'counterpart': 7136, 'coup': 7137, 'coupled': 7138, 'courtroom': 7139, 'cracks': 7140, 'crashes': 7141, 'creations': 7142, 'creators': 7143, 'credentials': 7144, 'crisp': 7145, 'croc': 7146, 'curse': 7147, 'cutesy': 7148, 'cynical': 7149, 'damsel': 7150, 'dared': 7151, 'darkest': 7152, 'darkly': 7153, 'deed': 7154, 'deemed': 7155, 'defending': 7156, 'defends': 7157, 'defy': 7158, 'delusional': 7159, 'demented': 7160, 'demographic': 7161, 'depict': 7162, 'der': 7163, 'derivative': 7164, 'des': 7165, 'despised': 7166, 'detailed': 7167, 'detectives': 7168, 'determined': 7169, 'devotion': 7170, 'dialogs': 7171, 'diamonds': 7172, 'differ': 7173, 'dig': 7174, 'dimensionally': 7175, 'dinosaurs': 7176, 'directions': 7177, 'disastrous': 7178, 'disgust': 7179, 'distinguished': 7180, 'distraction': 7181, 'distributed': 7182, 'distribution': 7183, 'distributor': 7184, 'diversity': 7185, 'dizzying': 7186, 'domestic': 7187, 'dominate': 7188, 'drawing': 7189, 'draws': 7190, 'drenched': 7191, 'dress': 7192, 'dresses': 7193, 'drones': 7194, 'drums': 7195, 'dynamics': 7196, 'echoes': 7197, 'edgy': 7198, 'edition': 7199, 'education': 7200, 'educational': 7201, 'egg': 7202, 'elegant': 7203, 'elevate': 7204, 'elevator': 7205, 'embrace': 7206, 'emperor': 7207, 'employ': 7208, 'employees': 7209, 'enacted': 7210, 'encouraging': 7211, 'engine': 7212, 'engrossing': 7213, 'enigma': 7214, 'ensue': 7215, 'enter': 7216, 'entices': 7217, 'entranced': 7218, 'eponymous': 7219, 'examined': 7220, 'exceptionally': 7221, 'exceptions': 7222, 'excessive': 7223, 'excessively': 7224, 'excursion': 7225, 'existing': 7226, 'expectation': 7227, 'experiment': 7228, 'expertly': 7229, 'exploding': 7230, 'exploiting': 7231, 'explore': 7232, 'exploring': 7233, 'exquisitely': 7234, 'extensive': 7235, 'fabric': 7236, 'fanatic': 7237, 'fascist': 7238, 'fates': 7239, 'fathers': 7240, 'fathom': 7241, 'faux': 7242, 'fiddle': 7243, 'fighters': 7244, 'filmmaking': 7245, 'filmography': 7246, 'filters': 7247, 'filthy': 7248, 'financed': 7249, 'firefighter': 7250, 'fleeing': 7251, 'flirtatious': 7252, 'flirting': 7253, 'flowing': 7254, 'foggy': 7255, 'foil': 7256, 'followers': 7257, 'fools': 7258, 'forgiven': 7259, 'formal': 7260, 'foster': 7261, 'fought': 7262, 'fox': 7263, 'framework': 7264, 'framing': 7265, 'fraud': 7266, 'frequent': 7267, 'frequently': 7268, 'frustrating': 7269, 'funnier': 7270, 'fuzzy': 7271, 'gaming': 7272, 'gangsta': 7273, 'garage': 7274, 'garden': 7275, 'gems': 7276, 'generate': 7277, 'genitalia': 7278, 'gesture': 7279, 'girlfriends': 7280, 'gladly': 7281, 'glimpses': 7282, 'global': 7283, 'goal': 7284, 'goals': 7285, 'goer': 7286, 'goods': 7287, 'gooey': 7288, 'goose': 7289, 'grass': 7290, 'grate': 7291, 'grateful': 7292, 'grey': 7293, 'grizzled': 7294, 'groan': 7295, 'guidance': 7296, 'guise': 7297, 'haired': 7298, 'halt': 7299, 'ham': 7300, 'hardcore': 7301, 'havoc': 7302, 'heartily': 7303, 'heel': 7304, 'heist': 7305, 'helmed': 7306, 'helmet': 7307, 'henchmen': 7308, 'herein': 7309, 'hers': 7310, 'hid': 7311, 'hideous': 7312, 'hints': 7313, 'hodge': 7314, 'homeless': 7315, 'hooker': 7316, 'hop': 7317, 'horrendously': 7318, 'horrors': 7319, 'host': 7320, 'hottest': 7321, 'hum': 7322, 'humiliated': 7323, 'iceberg': 7324, 'idealistic': 7325, 'idealized': 7326, 'imagines': 7327, 'immense': 7328, 'immortal': 7329, 'impressively': 7330, 'inaccurate': 7331, 'incident': 7332, 'inclined': 7333, 'incompetent': 7334, 'incomprehensible': 7335, 'inconsequential': 7336, 'inconsistent': 7337, 'increase': 7338, 'inducing': 7339, 'infant': 7340, 'infidelity': 7341, 'influences': 7342, 'inhabited': 7343, 'inherently': 7344, 'insanity': 7345, 'insect': 7346, 'installments': 7347, 'intelligently': 7348, 'intents': 7349, 'investigate': 7350, 'invites': 7351, 'involve': 7352, \"isn't\": 7353, 'jealous': 7354, 'jerking': 7355, 'joined': 7356, 'joins': 7357, 'judged': 7358, 'judgment': 7359, 'justified': 7360, 'keen': 7361, 'keys': 7362, 'kicks': 7363, 'kidnapping': 7364, 'label': 7365, 'lake': 7366, 'landed': 7367, 'lane': 7368, 'larger': 7369, 'launched': 7370, 'lazy': 7371, 'leather': 7372, 'legends': 7373, 'legitimate': 7374, 'lens': 7375, 'lesson': 7376, 'levity': 7377, 'lifetime': 7378, 'lift': 7379, 'lighthearted': 7380, 'likeness': 7381, 'limit': 7382, 'liner': 7383, 'literary': 7384, 'lobby': 7385, 'locales': 7386, 'lone': 7387, 'longest': 7388, 'lush': 7389, 'lust': 7390, 'madly': 7391, 'mall': 7392, 'management': 7393, 'manager': 7394, 'manipulation': 7395, 'manuscript': 7396, 'marijuana': 7397, 'marketed': 7398, 'marketing': 7399, 'massacre': 7400, 'matching': 7401, 'math': 7402, 'maturity': 7403, 'maze': 7404, 'meal': 7405, 'meek': 7406, 'mercilessly': 7407, 'mesmerized': 7408, 'messing': 7409, 'messy': 7410, 'mild': 7411, 'mime': 7412, 'mindset': 7413, 'minimal': 7414, 'minimum': 7415, 'misinformation': 7416, 'missions': 7417, 'mobile': 7418, 'mobsters': 7419, 'momentarily': 7420, 'monk': 7421, 'monologue': 7422, 'morons': 7423, 'mouthed': 7424, 'mouths': 7425, 'murky': 7426, 'muted': 7427, 'myopic': 7428, 'naming': 7429, 'narcissistic': 7430, 'narrated': 7431, 'nearest': 7432, 'needing': 7433, 'needless': 7434, 'neglected': 7435, 'networks': 7436, 'neurotic': 7437, 'newly': 7438, 'nightclub': 7439, 'nightmarish': 7440, 'nomination': 7441, 'nonexistent': 7442, 'noticeably': 7443, 'noting': 7444, 'notions': 7445, 'novels': 7446, 'novice': 7447, 'nuclear': 7448, 'obscure': 7449, 'observations': 7450, 'observed': 7451, 'occurs': 7452, 'ocean': 7453, 'offend': 7454, 'offs': 7455, 'ominous': 7456, 'onstage': 7457, 'openly': 7458, 'operation': 7459, 'optimistic': 7460, 'orchestral': 7461, 'organ': 7462, 'organized': 7463, 'orphan': 7464, 'outlaw': 7465, 'outrageous': 7466, 'outrageously': 7467, 'overbearing': 7468, 'owe': 7469, 'pack': 7470, 'packs': 7471, 'pad': 7472, 'painted': 7473, 'pal': 7474, 'pants': 7475, 'parallels': 7476, 'paranoia': 7477, 'participants': 7478, 'participate': 7479, 'parties': 7480, 'partying': 7481, 'patient': 7482, 'pedestrian': 7483, 'penis': 7484, 'percentage': 7485, 'perception': 7486, 'photograph': 7487, 'photographers': 7488, 'phrase': 7489, 'physicality': 7490, 'picky': 7491, 'pig': 7492, 'pin': 7493, 'plantation': 7494, 'pleas': 7495, 'plotting': 7496, 'podge': 7497, 'poetic': 7498, 'policeman': 7499, 'policemen': 7500, 'pollution': 7501, 'popping': 7502, 'populated': 7503, 'poses': 7504, 'possesses': 7505, 'posted': 7506, 'praised': 7507, 'prayer': 7508, 'praying': 7509, 'precise': 7510, 'predict': 7511, 'preferred': 7512, 'prefers': 7513, 'prehistoric': 7514, 'prepare': 7515, 'presume': 7516, 'previews': 7517, 'primary': 7518, 'principals': 7519, 'principles': 7520, 'prints': 7521, 'prisoners': 7522, 'prize': 7523, 'proceeded': 7524, 'prolific': 7525, 'prologue': 7526, 'prom': 7527, 'promises': 7528, 'promote': 7529, 'proportions': 7530, 'prostitutes': 7531, 'psychologist': 7532, 'psychopaths': 7533, 'published': 7534, 'pulling': 7535, 'punished': 7536, 'pupils': 7537, 'puppy': 7538, 'pursuit': 7539, 'quietly': 7540, 'randomness': 7541, 'ranges': 7542, 'raves': 7543, 'ravishing': 7544, 'reader': 7545, 'readily': 7546, 'realised': 7547, 'realistically': 7548, 'realizing': 7549, 'reasoning': 7550, 'rebels': 7551, 'receiving': 7552, 'reception': 7553, 'recreated': 7554, 'recurring': 7555, 'redo': 7556, 'redundant': 7557, 'refers': 7558, 'reflected': 7559, 'reflection': 7560, 'refusing': 7561, 'relation': 7562, 'remakes': 7563, 'remembers': 7564, 'removes': 7565, 'rendering': 7566, 'report': 7567, 'require': 7568, 'rescued': 7569, 'reserved': 7570, 'resist': 7571, 'respective': 7572, 'respond': 7573, 'responsibility': 7574, 'restrained': 7575, 'resume': 7576, 'reviewing': 7577, 'revolving': 7578, 'rewards': 7579, 'rewind': 7580, 'rewrite': 7581, 'rhymes': 7582, 'ridicule': 7583, 'ringer': 7584, 'ritual': 7585, 'rival': 7586, 'roads': 7587, 'robbing': 7588, 'rocked': 7589, 'rockets': 7590, 'rolls': 7591, 'roof': 7592, 'roots': 7593, 'rough': 7594, 'row': 7595, 'rugged': 7596, 'ruining': 7597, 'ruler': 7598, 'saboturs': 7599, 'sacrificed': 7600, 'sadness': 7601, 'saloon': 7602, 'sappy': 7603, 'sardonic': 7604, 'satanic': 7605, 'satisfaction': 7606, 'satisfy': 7607, 'savage': 7608, 'scariest': 7609, 'scaring': 7610, 'scratched': 7611, 'screams': 7612, 'scriptwriters': 7613, 'secretly': 7614, 'segal': 7615, 'seldom': 7616, 'selected': 7617, 'sells': 7618, 'semen': 7619, 'sending': 7620, 'sensational': 7621, 'sensibility': 7622, 'sentimentality': 7623, 'severely': 7624, 'sexes': 7625, 'shabby': 7626, 'shake': 7627, 'shared': 7628, 'sharing': 7629, 'shark': 7630, 'shelves': 7631, 'shift': 7632, 'shorter': 7633, 'shortly': 7634, 'shoulder': 7635, 'shoved': 7636, 'showcase': 7637, 'showcases': 7638, 'shrill': 7639, 'sided': 7640, 'siege': 7641, 'significantly': 7642, 'signs': 7643, 'sincere': 7644, 'sincerity': 7645, 'singers': 7646, 'sixties': 7647, 'sizes': 7648, 'sketch': 7649, 'skinny': 7650, 'slapped': 7651, 'sleepwalking': 7652, 'slimy': 7653, 'slows': 7654, 'smirking': 7655, 'smitten': 7656, 'smug': 7657, 'snare': 7658, 'sneak': 7659, 'soaked': 7660, 'sole': 7661, 'sorely': 7662, 'soulless': 7663, 'soviet': 7664, 'spawned': 7665, 'species': 7666, 'speck': 7667, 'spine': 7668, 'spirits': 7669, 'spouse': 7670, 'stages': 7671, 'stale': 7672, 'stalwart': 7673, 'standout': 7674, 'staple': 7675, 'staring': 7676, 'stark': 7677, 'startling': 7678, 'statements': 7679, 'states': 7680, 'staying': 7681, 'steady': 7682, 'steeped': 7683, 'stellar': 7684, 'stepped': 7685, 'stereotyped': 7686, 'stink': 7687, 'stirring': 7688, 'stoned': 7689, 'strict': 7690, 'stunningly': 7691, 'stupidest': 7692, 'stupidly': 7693, 'subplots': 7694, 'subway': 7695, 'succeeded': 7696, 'suckers': 7697, 'suits': 7698, 'summed': 7699, 'sung': 7700, 'sunk': 7701, 'sunset': 7702, 'surgery': 7703, 'surviving': 7704, 'suspicions': 7705, 'sustained': 7706, 'swallow': 7707, 'sweeping': 7708, 'swept': 7709, 'swing': 7710, 'symbol': 7711, 'sympathize': 7712, 'tacked': 7713, 'tag': 7714, 'tail': 7715, 'tails': 7716, 'talentless': 7717, 'talkie': 7718, 'tall': 7719, 'tapes': 7720, 'tasks': 7721, 'tasteless': 7722, 'teams': 7723, 'techno': 7724, 'teddy': 7725, 'tenderness': 7726, 'tends': 7727, 'terminates': 7728, 'terribly': 7729, 'terrorized': 7730, 'textbook': 7731, 'thief': 7732, 'thirst': 7733, 'tho': 7734, 'thugs': 7735, 'tie': 7736, 'tiresome': 7737, 'tits': 7738, 'tomb': 7739, 'ton': 7740, 'tops': 7741, 'tormented': 7742, 'torturing': 7743, 'tower': 7744, 'trade': 7745, 'trading': 7746, 'traffic': 7747, 'translate': 7748, 'translation': 7749, 'transparent': 7750, 'trauma': 7751, 'traveling': 7752, 'traveller': 7753, 'treasure': 7754, 'tribe': 7755, 'tricked': 7756, 'trippy': 7757, 'triumph': 7758, 'troop': 7759, 'turgid': 7760, 'twelve': 7761, 'tyranny': 7762, 'unabashed': 7763, 'unarmed': 7764, 'uncertain': 7765, 'uncertainty': 7766, 'unclear': 7767, 'uncomfortable': 7768, 'undead': 7769, 'understands': 7770, 'underworld': 7771, 'uneducated': 7772, 'uneven': 7773, 'unfamiliar': 7774, 'unfold': 7775, 'unfolding': 7776, 'unhinged': 7777, 'uninhibited': 7778, 'uninspired': 7779, 'uninspiring': 7780, 'unravel': 7781, 'unreal': 7782, 'unsure': 7783, 'unusually': 7784, 'urgency': 7785, 'utilize': 7786, 'vehicles': 7787, 'vengeful': 7788, 'verbal': 7789, 'victory': 7790, 'vile': 7791, 'virtual': 7792, 'visible': 7793, 'visibly': 7794, 'visions': 7795, 'visited': 7796, 'visits': 7797, 'voiceover': 7798, 'wacky': 7799, 'warden': 7800, 'warfare': 7801, 'warming': 7802, 'warrior': 7803, 'watches': 7804, 'weaker': 7805, 'weary': 7806, 'website': 7807, 'welcomed': 7808, 'wherever': 7809, 'whining': 7810, 'widescreen': 7811, 'wisdom': 7812, 'wished': 7813, 'withstand': 7814, 'worldly': 7815, 'wounds': 7816, 'wrestling': 7817, 'yard': 7818, 'yelling': 7819, 'yellow': 7820, 'zany': 7821, '-Black': 7822, '-Sr': 7823, '.The': 7824, '10,000': 7825, '10.I': 7826, '13th': 7827, '14-year': 7828, '140': 7829, '150': 7830, '18': 7831, '1902': 7832, '1940s': 7833, '1945': 7834, '1949': 7835, '1953': 7836, '1960': 7837, '1963': 7838, '1964': 7839, '1979': 7840, '1989': 7841, '1990s': 7842, '1998': 7843, '232': 7844, '27': 7845, '3-D': 7846, '30s': 7847, '34': 7848, '40-year': 7849, '40s': 7850, '44': 7851, '4th': 7852, '5.8': 7853, '5This': 7854, \"60's\": 7855, '600': 7856, '64': 7857, '75': 7858, '7th': 7859, '82': 7860, '85': 7861, '86': 7862, '99.9': 7863, '99p': 7864, ';)': 7865, '=': 7866, 'A&E': 7867, 'A.': 7868, 'AGAIN': 7869, 'ANNE': 7870, 'AOD': 7871, 'Aag': 7872, 'Absolute': 7873, 'Achilleas': 7874, 'Achilles': 7875, 'Admittedly': 7876, 'Adrian': 7877, 'Adrianne': 7878, 'Ages': 7879, 'Agrawal': 7880, 'Ahmad': 7881, 'Ajay': 7882, 'Alec': 7883, 'Alfredo': 7884, 'Alibi': 7885, 'Alley': 7886, 'Allison': 7887, 'Already': 7888, 'Alright': 7889, 'Amitabh': 7890, 'Among': 7891, 'Amrita': 7892, 'Anakin': 7893, 'Anchors': 7894, 'Animal': 7895, 'Anisio': 7896, 'Annis': 7897, 'Answer': 7898, 'Antony': 7899, 'Arlington': 7900, 'Arms': 7901, 'Aro': 7902, 'Ashford': 7903, 'Asia': 7904, 'Asin': 7905, 'Astor': 7906, 'Athens': 7907, 'Atlanta': 7908, 'Atlantis': 7909, 'Attack': 7910, 'Attic': 7911, 'Austin': 7912, 'Authorized': 7913, 'Awards': 7914, 'Away': 7915, 'BARBRA': 7916, 'BE': 7917, 'BRECKINRIDGE': 7918, 'Baghdad': 7919, 'Balan': 7920, 'Barrels': 7921, 'Basra': 7922, 'Battle': 7923, 'Battlefield': 7924, 'Bauer': 7925, 'Bay': 7926, 'Beat': 7927, 'Beatle': 7928, 'Beautifully': 7929, 'Beckett': 7930, 'Berenger': 7931, 'Berkowitz': 7932, 'Bernard': 7933, 'Betty': 7934, 'Bigelow': 7935, 'Billie': 7936, 'Blade': 7937, 'Blaise': 7938, 'Blind': 7939, 'Bloch': 7940, 'Blunt': 7941, 'Bogart': 7942, 'Bogus': 7943, 'Bolivia': 7944, 'Bonaparte': 7945, 'Boogie': 7946, 'Boogyman': 7947, 'Booth': 7948, 'Borga': 7949, 'Braveheart': 7950, 'Breed': 7951, 'Bridges': 7952, 'Britney': 7953, 'Broinowski': 7954, 'Brooks': 7955, 'Bros': 7956, 'Buaku': 7957, 'Buddy': 7958, 'Buffalo': 7959, 'Bullock': 7960, 'Bunch': 7961, 'Bunuel': 7962, 'Business': 7963, 'C': 7964, 'C.S.': 7965, 'CEO': 7966, 'CHORUS': 7967, 'CQ': 7968, 'Calamai': 7969, 'Campbell': 7970, 'Cannavale': 7971, 'Cannon': 7972, 'Canutt': 7973, 'Captivity': 7974, 'Caron': 7975, 'Carrie': 7976, 'Casting': 7977, 'Catholic': 7978, 'Caught': 7979, 'Cecil': 7980, 'Celeste': 7981, 'Central': 7982, 'Cesar': 7983, 'Chabrol': 7984, 'Chasing': 7985, 'Chawla': 7986, 'Cherie': 7987, 'Cherry': 7988, 'Children': 7989, 'Ciannelli': 7990, 'Ciaran': 7991, 'Class': 7992, 'Classic': 7993, 'Claude': 7994, 'Clearly': 7995, 'Clichés': 7996, 'Clive': 7997, 'Clockwork': 7998, 'Coach': 7999, 'Cohn': 8000, 'Col': 8001, 'Collection': 8002, 'Coltrane': 8003, 'Columbine': 8004, 'Coming': 8005, 'Communism': 8006, 'Communist': 8007, 'Completely': 8008, 'Computer': 8009, 'Congo': 8010, 'Connelly': 8011, 'Connor': 8012, 'Considering': 8013, 'Conte': 8014, 'Content': 8015, 'Corbett': 8016, 'Corporation': 8017, 'Corridors': 8018, 'Cort': 8019, 'Count': 8020, 'Court': 8021, 'Cousins': 8022, 'Cramer': 8023, 'Craven': 8024, 'Cream': 8025, 'Crispin': 8026, 'Cristina': 8027, 'Cross': 8028, 'Crowe': 8029, 'Cruz': 8030, 'Crystal': 8031, 'Cuckoo': 8032, 'Culp': 8033, 'Cult': 8034, 'Curley': 8035, 'Curly': 8036, 'Cynthia': 8037, 'D.': 8038, 'D.W.': 8039, 'DANIEL': 8040, \"DON'T\": 8041, 'DRACULA': 8042, 'DVD.It': 8043, 'Dakota': 8044, 'Dallas': 8045, 'Damsel': 8046, 'Dandy': 8047, 'Dangerous': 8048, 'Darcy': 8049, 'Daria': 8050, 'Darius': 8051, 'Davidson': 8052, 'Davies': 8053, 'Debra': 8054, 'Deceiver': 8055, 'Dee': 8056, 'Deed': 8057, 'Deepti': 8058, 'Demonicus': 8059, 'Denmark': 8060, 'Des': 8061, 'Detmers': 8062, 'Devos': 8063, 'Dhoom': 8064, 'Diamond': 8065, 'Diane': 8066, 'Diehl': 8067, 'DirecTV': 8068, 'Directors': 8069, 'Doc': 8070, 'Dog': 8071, 'Doing': 8072, 'Dominion': 8073, 'Done': 8074, 'Dorado': 8075, 'Dreyfuss': 8076, 'Drum': 8077, 'Dunst': 8078, 'Duprez': 8079, 'Dyan': 8080, 'ENJOY': 8081, 'Earl': 8082, 'Earp': 8083, 'Eidos': 8084, 'Eisenstein': 8085, 'Eleonora': 8086, 'Eli': 8087, 'Elton': 8088, 'Emmy': 8089, 'Enchanted': 8090, 'Ends': 8091, 'Engine': 8092, 'Englund': 8093, 'Essentially': 8094, 'Evangelical': 8095, 'Evangelion': 8096, 'Evelyn': 8097, 'Everett': 8098, 'Eves': 8099, 'Eyre': 8100, 'FIRST': 8101, 'FUN': 8102, 'Falls': 8103, 'Family': 8104, 'Fantasy': 8105, 'Farrah': 8106, 'Fat': 8107, 'Fawcett': 8108, 'Ferrari': 8109, 'Few': 8110, 'Fifi': 8111, 'Fighter': 8112, 'Fighting': 8113, 'Firgens': 8114, 'Fisher': 8115, 'Fitzpatrick': 8116, 'Florida': 8117, 'Fool': 8118, 'Forbidden': 8119, 'Fordist': 8120, 'Francesca': 8121, 'Frankly': 8122, 'Frazier': 8123, 'Freaks': 8124, 'Free': 8125, 'Fricker': 8126, 'Friends': 8127, 'Fumiya': 8128, 'GIRL': 8129, 'GRINCH': 8130, 'Gammera': 8131, 'Gandhi': 8132, 'Gar': 8133, 'Gator': 8134, 'Gawi': 8135, 'Geeks': 8136, 'Geico': 8137, 'Geisel': 8138, 'Gentleman': 8139, 'Getting': 8140, 'Giada': 8141, 'Girotti': 8142, 'Gladiator': 8143, 'Godard': 8144, 'Goddesses': 8145, 'Gojitmal': 8146, 'Gokbakar': 8147, 'Goldblum': 8148, 'Goodrich': 8149, 'Goring': 8150, 'Gothic': 8151, 'Grable': 8152, 'Graham': 8153, 'Grand': 8154, 'Greetings': 8155, 'Gretchen': 8156, 'Griswolds': 8157, 'Guess': 8158, 'Guiness': 8159, 'Gung': 8160, 'Gus': 8161, 'Gérard': 8162, 'H.G.': 8163, 'HAHK': 8164, 'HAS': 8165, 'HAUNTING': 8166, 'HELL': 8167, 'HF': 8168, 'HIGH': 8169, 'HUAC': 8170, 'Hag': 8171, 'Haggerty': 8172, 'Hamburg': 8173, 'Hamill': 8174, 'Hamlet': 8175, 'Happily': 8176, 'Happy': 8177, 'Harold': 8178, 'Has': 8179, 'Hats': 8180, 'Hawks': 8181, 'Hayes': 8182, 'Hayworth': 8183, 'Hebrew': 8184, 'Heck': 8185, 'Hera': 8186, 'Hilarious': 8187, 'Hinds': 8188, 'Hindu': 8189, 'Hingle': 8190, 'Hole': 8191, 'Holland': 8192, 'Horse': 8193, 'Hot': 8194, 'Hugo': 8195, 'Huh': 8196, 'Hungama': 8197, 'Hurt': 8198, \"I'll\": 8199, 'IF': 8200, 'IMAX': 8201, 'IMHO': 8202, 'Ichi': 8203, 'Idol': 8204, 'Il': 8205, 'Ilona': 8206, 'Imperial': 8207, 'Independent': 8208, 'Initially': 8209, 'Iran': 8210, 'Irby': 8211, 'Islamic': 8212, 'Isle': 8213, 'Ivy': 8214, 'Jackman': 8215, 'Janeane': 8216, 'Je': 8217, 'Jenny': 8218, 'Joel': 8219, 'Jonestown': 8220, 'Jose': 8221, 'Jr': 8222, 'Junior': 8223, 'KEEP': 8224, 'Kael': 8225, 'Kalifornia': 8226, 'Karas': 8227, 'Karate': 8228, 'Kathy': 8229, 'Keeler': 8230, 'Keep': 8231, 'Keith': 8232, 'Kelso': 8233, 'Kennel': 8234, 'Kids': 8235, 'Kilmer': 8236, 'Knight': 8237, 'Knightley': 8238, 'Know': 8239, 'Knowles': 8240, 'Knows': 8241, 'Korda': 8242, 'Kosovo': 8243, 'Kristen': 8244, 'Krueger': 8245, 'Kung': 8246, \"L'Age\": 8247, 'LADY': 8248, 'LEWIS': 8249, 'LIFE': 8250, 'LL': 8251, 'LMN': 8252, 'LOT': 8253, 'Labyrinth': 8254, 'Ladder': 8255, 'Lagoon': 8256, 'Lamour': 8257, 'Lana': 8258, 'Lansbury': 8259, 'Lassick': 8260, 'Latino': 8261, 'Laughed': 8262, 'Lazerov': 8263, 'Lean': 8264, 'Leftist': 8265, 'Legion': 8266, 'Leia': 8267, 'Leigh': 8268, 'Leon': 8269, 'Leona': 8270, 'Leonardo': 8271, 'Les': 8272, 'Leung': 8273, 'Levin': 8274, 'Levitt': 8275, 'Lil': 8276, 'Lin': 8277, 'Linda': 8278, 'Lions': 8279, 'Liverpool': 8280, 'Loaded': 8281, 'Lohan': 8282, 'Lois': 8283, 'Lola': 8284, 'Lommel': 8285, 'Looks': 8286, 'Loose': 8287, 'Lovecraft': 8288, 'Lovely': 8289, 'Lowe': 8290, 'Lt': 8291, 'Lumiere': 8292, 'Lustig': 8293, 'M&M': 8294, 'MJH': 8295, 'MORE': 8296, 'MSTie': 8297, 'MTV': 8298, 'MUST': 8299, 'MYRA': 8300, 'Maa': 8301, 'Macy': 8302, 'Madonna': 8303, 'Madsen': 8304, 'Mae': 8305, 'Maes': 8306, 'Mafia': 8307, 'Malone': 8308, 'Manchu': 8309, 'Manoj': 8310, 'Manos': 8311, 'Margret': 8312, 'Mariette': 8313, 'Marine': 8314, 'Marion': 8315, 'Marisa': 8316, 'Marry': 8317, 'Martians': 8318, 'Martinez': 8319, 'Mason': 8320, 'Masterpiece': 8321, 'Maude': 8322, 'Mayor': 8323, 'McCartney': 8324, 'McConaughey': 8325, 'McDermott': 8326, 'McDowell': 8327, 'Meadows': 8328, 'Medeiros': 8329, 'Media': 8330, 'Medved': 8331, 'Melting': 8332, 'Melton': 8333, 'Melvyn': 8334, 'Menzies': 8335, 'Meredith': 8336, 'Meryl': 8337, 'Michaels': 8338, 'Michèle': 8339, 'Mighty': 8340, 'Mile': 8341, 'Milhalovitch': 8342, 'Million': 8343, 'Mine': 8344, 'Mirror': 8345, 'Misrepresented': 8346, 'Mitzi': 8347, 'Modern': 8348, 'Mom': 8349, 'Monica': 8350, 'Monkeys': 8351, 'Monster': 8352, 'Monsters': 8353, 'Montana': 8354, 'Monty': 8355, 'Moody': 8356, 'Moreover': 8357, 'Moretti': 8358, 'Morgana': 8359, 'Morita': 8360, 'Morton': 8361, 'Moslem': 8362, 'Mostly': 8363, 'Mouse': 8364, 'Mt.': 8365, 'Mundae': 8366, 'Muppets': 8367, 'NAME': 8368, 'NIGHT': 8369, 'NIGHTMARE': 8370, 'NOTHING': 8371, 'Nabokov': 8372, 'Nam': 8373, 'Napton': 8374, 'Narnia': 8375, 'Nation': 8376, 'Nature': 8377, 'Nearly': 8378, 'Nekromantik': 8379, 'Nest': 8380, 'Nielsen': 8381, 'Nonetheless': 8382, 'Nudity': 8383, 'Numbers': 8384, 'Nunsploitation': 8385, \"O'Hara\": 8386, \"O'Neill\": 8387, 'OGRE': 8388, 'Ohio': 8389, 'Orange': 8390, 'Orlando': 8391, 'Osbourne': 8392, 'Outstanding': 8393, 'Owen': 8394, 'P.': 8395, 'PBS': 8396, 'PC': 8397, 'Pack': 8398, 'Pakistan': 8399, 'Palette': 8400, 'Paper': 8401, 'Parador': 8402, 'Parks': 8403, 'Parsons': 8404, 'Pataki': 8405, 'Patti': 8406, 'Pauline': 8407, 'Peaks': 8408, 'Peebles': 8409, 'Peet': 8410, 'Penthouse': 8411, 'Person': 8412, 'Peru': 8413, 'Peyton': 8414, 'Pfeiffer': 8415, 'Pharaoh': 8416, 'Pheri': 8417, 'Philippe': 8418, 'Philo': 8419, 'Photography': 8420, 'Pia': 8421, 'Piedras': 8422, 'Place': 8423, 'Plane': 8424, 'Po': 8425, 'Poe': 8426, 'Pole': 8427, 'Pollack': 8428, 'Polly': 8429, 'Portuguese': 8430, 'Posey': 8431, 'Post': 8432, 'Potente': 8433, 'Prague': 8434, 'Presque': 8435, 'Primo': 8436, 'Priya': 8437, 'Producer': 8438, 'Production': 8439, 'Professional': 8440, 'Project': 8441, 'Public': 8442, 'Pumba': 8443, 'Pure': 8444, 'Quartier': 8445, 'R.C.': 8446, 'ROCK': 8447, 'Rachael': 8448, 'Radha': 8449, 'Raising': 8450, 'Ralph': 8451, 'Ralphie': 8452, 'Ramon': 8453, 'Ramtha': 8454, 'Randolph': 8455, 'Raoul': 8456, 'Rats': 8457, 'Rea': 8458, 'Reading': 8459, 'Reason': 8460, 'Redfield': 8461, 'Redgrave': 8462, 'Redmon': 8463, 'Reese': 8464, 'Regarding': 8465, 'Reginald': 8466, 'Reign': 8467, 'Reno': 8468, 'Renoir': 8469, 'Rice': 8470, 'Rich': 8471, 'Ricky': 8472, 'Rien': 8473, 'Riget': 8474, 'River': 8475, 'Robbie': 8476, 'Roberts': 8477, 'Rocky': 8478, 'Roll': 8479, 'Rookie': 8480, 'Root': 8481, 'Rosario': 8482, 'Rosemary': 8483, 'Rourke': 8484, 'Royal': 8485, 'Rozsa': 8486, 'Ruby': 8487, 'Running': 8488, 'S&M': 8489, 'STARS': 8490, 'STDVD': 8491, 'Saint': 8492, 'Same': 8493, 'Sand': 8494, 'Sandro': 8495, 'Sandy': 8496, 'Sarandon': 8497, 'Saved': 8498, 'Scheider': 8499, 'Schizophreniac': 8500, 'Schrader': 8501, 'Scotland': 8502, 'Script': 8503, 'Sea': 8504, 'Sebastian': 8505, 'Sedgwick': 8506, 'Semitism': 8507, 'Senator': 8508, 'September': 8509, 'Serbian': 8510, 'Sergio': 8511, 'Serrano': 8512, 'Sex': 8513, 'Shahid': 8514, 'Shalub': 8515, 'Shan': 8516, 'Shanghai': 8517, 'Shark': 8518, 'Sharpe': 8519, 'Shiner': 8520, 'Shinjuku': 8521, 'Shoot': 8522, 'Shooter': 8523, 'Shrek': 8524, 'Shriek': 8525, 'Sidewalk': 8526, 'Simba': 8527, 'Singing': 8528, 'Sisters': 8529, 'Sith': 8530, 'Sixth': 8531, 'Skywalker': 8532, 'Slavoj': 8533, 'Smoking': 8534, 'Snakes': 8535, 'Snatch': 8536, 'Soapdish': 8537, 'Social': 8538, 'Sohail': 8539, 'Solo': 8540, 'Song': 8541, 'Sophia': 8542, 'Sophie': 8543, 'Sopranos': 8544, 'Sortie': 8545, 'Soso': 8546, 'Soup': 8547, 'Southern': 8548, 'Spend': 8549, 'Spoiler': 8550, 'Springer': 8551, 'St.': 8552, 'Stage': 8553, 'Stalker': 8554, 'Starring': 8555, 'Statham': 8556, 'Stefan': 8557, 'Steinmann': 8558, 'Stephanie': 8559, 'Stifler': 8560, 'Stuart': 8561, 'Stubby': 8562, 'Stupid': 8563, 'Style': 8564, 'Sugiyama': 8565, 'Superb': 8566, 'Superior': 8567, 'Supposedly': 8568, 'Surprise': 8569, 'Swanson': 8570, 'Sydney': 8571, 'Sykes': 8572, 'Sylvia': 8573, 'Syriana': 8574, 'Så': 8575, \"T'Aime\": 8576, 'T.': 8577, 'THEN': 8578, 'Tacones': 8579, 'Takashi': 8580, 'Talosians': 8581, 'Tamil': 8582, 'Targets': 8583, 'Te': 8584, 'Tear': 8585, 'Technicolor': 8586, 'Teddy': 8587, 'Telemundo': 8588, 'Television': 8589, 'Thai': 8590, 'Thankfully': 8591, 'Thief': 8592, 'Third': 8593, 'Till': 8594, 'Tilly': 8595, 'Timon': 8596, 'Timothy': 8597, 'Tolbukhin': 8598, 'Tomba': 8599, 'Total': 8600, 'Traci': 8601, 'Travolta': 8602, 'Tree': 8603, 'Tribeca': 8604, 'Trilogy': 8605, 'Trivia': 8606, 'Turkey': 8607, 'Turn': 8608, 'Turns': 8609, 'Twain': 8610, 'Tyrannous': 8611, 'U.S': 8612, 'UP': 8613, 'UTTER': 8614, 'Ugly': 8615, 'Uh': 8616, 'Ultimatum': 8617, 'Underground': 8618, 'Universe': 8619, 'Unless': 8620, 'Upper': 8621, 'Usines': 8622, 'Utterly': 8623, 'Valco': 8624, 'Valley': 8625, 'Vampires': 8626, 'Vancouver': 8627, 'Vanity': 8628, 'Vargas': 8629, 'Viet': 8630, 'Vijay': 8631, 'Vinnie': 8632, 'Visitor': 8633, 'Viva': 8634, 'Vivah': 8635, 'WANT': 8636, 'WAR': 8637, 'WARNING': 8638, 'WASTE': 8639, 'WATCH': 8640, 'WEEKEND': 8641, 'WILL': 8642, 'WITH': 8643, 'WTC': 8644, 'WTF': 8645, 'WWF': 8646, 'Walker': 8647, 'Wallace': 8648, 'Wallach': 8649, 'Walt': 8650, 'Waqt': 8651, 'Warden': 8652, 'Warhols': 8653, 'Warp': 8654, 'Watterman': 8655, 'Weak': 8656, 'Weismuller': 8657, 'Werner': 8658, 'Westerners': 8659, 'Whereas': 8660, 'Whipped': 8661, 'Whirlpool': 8662, 'Whoever': 8663, 'Wildside': 8664, 'Willaim': 8665, 'Willard': 8666, 'Willie': 8667, 'Willis': 8668, 'Wind': 8669, 'Winger': 8670, 'Witherspoon': 8671, 'Wong': 8672, 'Woo': 8673, 'Wrinkle': 8674, 'YES': 8675, 'YOUR': 8676, 'Yeah': 8677, 'Yoakum': 8678, 'YouTube': 8679, 'Zach': 8680, 'Zadora': 8681, 'Zano': 8682, 'Zelinas': 8683, 'Zinn': 8684, 'Zodiac': 8685, 'abducted': 8686, 'absorbed': 8687, 'abusive': 8688, 'academy': 8689, 'accepting': 8690, 'accidental': 8691, 'accidents': 8692, 'accolades': 8693, 'accomplish': 8694, 'accomplishment': 8695, 'accuracy': 8696, 'accurately': 8697, 'acknowledged': 8698, 'addicted': 8699, 'address': 8700, 'administration': 8701, 'admired': 8702, 'admiring': 8703, 'admission': 8704, 'adoration': 8705, 'adore': 8706, 'adroit': 8707, 'adversary': 8708, 'adverse': 8709, 'advertisement': 8710, 'aerial': 8711, 'affection': 8712, 'affects': 8713, 'afford': 8714, 'afterthought': 8715, 'aggressive': 8716, 'agreement': 8717, 'aiming': 8718, 'akin': 8719, 'albums': 8720, 'alert': 8721, 'alienation': 8722, 'allure': 8723, 'alluring': 8724, 'altered': 8725, 'altering': 8726, 'amid': 8727, 'analyze': 8728, 'ancestors': 8729, 'anew': 8730, 'announce': 8731, 'answered': 8732, 'anytime': 8733, 'anyways': 8734, 'appalled': 8735, 'appliances': 8736, 'apply': 8737, 'appreciation': 8738, 'arcs': 8739, 'arguing': 8740, 'arguments': 8741, 'array': 8742, 'arrested': 8743, 'arrival': 8744, 'ashes': 8745, 'assaults': 8746, 'assemble': 8747, 'asserts': 8748, 'assist': 8749, 'assortment': 8750, 'assumptions': 8751, 'assured': 8752, 'astronaut': 8753, 'astronauts': 8754, 'ate': 8755, 'atrocities': 8756, 'attacker': 8757, 'attendant': 8758, 'attending': 8759, 'attitudes': 8760, 'auditioned': 8761, 'austere': 8762, 'authorities': 8763, 'avoids': 8764, 'awakes': 8765, 'awestruck': 8766, 'awhile': 8767, 'backstory': 8768, 'backwards': 8769, 'badass': 8770, 'balances': 8771, 'ballroom': 8772, 'bangs': 8773, 'bankrupt': 8774, 'banter': 8775, 'barn': 8776, 'bashed': 8777, 'bathtub': 8778, 'battlefield': 8779, 'beforehand': 8780, 'befriended': 8781, 'behaviour': 8782, 'believers': 8783, 'belly': 8784, 'belonged': 8785, 'bending': 8786, 'benefits': 8787, 'bestseller': 8788, 'betrayed': 8789, 'beware': 8790, 'bicycle': 8791, 'biker': 8792, 'billion': 8793, 'biographies': 8794, 'birds': 8795, 'birthplace': 8796, 'bitchy': 8797, 'bitterness': 8798, 'bittersweet': 8799, 'blackmail': 8800, 'blank': 8801, 'blaring': 8802, 'blast': 8803, 'bleak': 8804, 'bleed': 8805, 'blends': 8806, 'blondes': 8807, 'bloodbath': 8808, 'boardroom': 8809, 'bold': 8810, 'bomber': 8811, 'bombs': 8812, 'boost': 8813, 'botched': 8814, 'bothering': 8815, 'bottle': 8816, 'bout': 8817, 'brainless': 8818, 'bravado': 8819, 'breakdown': 8820, 'breakdowns': 8821, 'breasts': 8822, 'bred': 8823, 'breed': 8824, 'brink': 8825, 'brushed': 8826, 'buildings': 8827, 'bull': 8828, 'bullies': 8829, 'bumbling': 8830, 'bumps': 8831, 'burnt': 8832, 'bursts': 8833, 'bust': 8834, 'buzz': 8835, 'cage': 8836, 'camaraderie': 8837, 'camps': 8838, 'cannibalistic': 8839, 'capers': 8840, 'capitalism': 8841, 'capitol': 8842, 'captains': 8843, 'captivated': 8844, 'cargo': 8845, 'catching': 8846, 'categories': 8847, 'catwalk': 8848, 'cautionary': 8849, 'caverns': 8850, 'celebrated': 8851, 'celebrity': 8852, 'centuries': 8853, 'cgi': 8854, 'chains': 8855, 'chances': 8856, 'chaotic': 8857, 'characteristics': 8858, 'characterizations': 8859, 'charges': 8860, 'charmed': 8861, 'charts': 8862, 'chauvinist': 8863, 'cheapest': 8864, 'cheaply': 8865, 'checking': 8866, 'cheers': 8867, 'chested': 8868, 'chock': 8869, 'chopped': 8870, 'choppy': 8871, 'chronicles': 8872, 'circulation': 8873, 'circus': 8874, 'civil': 8875, 'civilian': 8876, 'civilians': 8877, 'civilized': 8878, 'clash': 8879, 'classified': 8880, 'clawing': 8881, 'cleaned': 8882, 'cliffs': 8883, 'clip': 8884, 'closed': 8885, 'closeup': 8886, 'closeups': 8887, 'clunky': 8888, 'coasts': 8889, 'coaxes': 8890, 'cocky': 8891, 'coherence': 8892, 'collapsed': 8893, 'collect': 8894, 'colonel': 8895, 'colossal': 8896, 'com': 8897, 'comatose': 8898, 'comedienne': 8899, 'commands': 8900, 'commenter': 8901, 'committee': 8902, 'communication': 8903, 'companion': 8904, 'comparing': 8905, 'complement': 8906, 'completed': 8907, 'complexities': 8908, 'complimented': 8909, 'composition': 8910, 'compositions': 8911, 'comprehensive': 8912, 'comprised': 8913, 'concentrated': 8914, 'concentrating': 8915, 'concrete': 8916, 'condensed': 8917, 'condescending': 8918, 'conflicted': 8919, 'connections': 8920, 'conquer': 8921, 'conquest': 8922, 'consequence': 8923, 'consequently': 8924, 'considerably': 8925, 'conspicuous': 8926, 'constraints': 8927, 'contemplate': 8928, 'continual': 8929, 'contributed': 8930, 'contribution': 8931, 'controlling': 8932, 'convictions': 8933, 'convinces': 8934, 'cook': 8935, 'cooks': 8936, 'cope': 8937, 'copies': 8938, 'corporate': 8939, 'corruption': 8940, 'costar': 8941, 'costuming': 8942, 'counter': 8943, 'courageous': 8944, 'coverage': 8945, 'cowardly': 8946, 'crafts': 8947, 'credited': 8948, 'creepier': 8949, 'cries': 8950, 'criminally': 8951, 'cringe': 8952, 'crisper': 8953, 'criteria': 8954, 'criticizing': 8955, 'crowds': 8956, 'crud': 8957, 'cruelty': 8958, 'cunning': 8959, 'curtain': 8960, 'customer': 8961, 'customers': 8962, 'cyborg': 8963, 'cynicism': 8964, 'da': 8965, 'dam': 8966, 'dash': 8967, 'dashing': 8968, 'deaf': 8969, 'debacle': 8970, 'deceit': 8971, 'decimated': 8972, 'declared': 8973, 'declining': 8974, 'decorations': 8975, 'dedicated': 8976, 'dedication': 8977, 'deer': 8978, 'defined': 8979, 'definitively': 8980, 'deformed': 8981, 'defunct': 8982, 'defying': 8983, 'delete': 8984, 'delicious': 8985, 'deliciously': 8986, 'delightfully': 8987, 'demeaning': 8988, 'demise': 8989, 'demonstrating': 8990, 'demonstration': 8991, 'denied': 8992, 'denouement': 8993, 'departed': 8994, 'depends': 8995, 'depictions': 8996, 'depraved': 8997, 'depravity': 8998, 'depressed': 8999, 'descendant': 9000, 'deserted': 9001, 'despair': 9002, 'destination': 9003, 'detachment': 9004, 'deterred': 9005, 'detract': 9006, 'devastating': 9007, 'devastation': 9008, 'developments': 9009, 'develops': 9010, 'devout': 9011, 'dialoge': 9012, 'dialogues': 9013, 'differs': 9014, 'difficulty': 9015, 'dipping': 9016, 'disappear': 9017, 'disappearance': 9018, 'disappeared': 9019, 'disasters': 9020, 'discovering': 9021, 'disgruntled': 9022, 'dish': 9023, 'disorder': 9024, 'disposition': 9025, 'dissect': 9026, 'disservice': 9027, 'distasteful': 9028, 'distinctive': 9029, 'diverse': 9030, 'diversion': 9031, 'divided': 9032, 'divinely': 9033, 'diving': 9034, 'doc': 9035, 'don´t': 9036, 'dorm': 9037, 'dose': 9038, 'doses': 9039, 'downward': 9040, 'dragon': 9041, 'dramatisations': 9042, 'drawl': 9043, 'dread': 9044, 'dreaded': 9045, 'dreaming': 9046, 'dreamy': 9047, 'dregs': 9048, 'drift': 9049, 'droppingly': 9050, 'drowning': 9051, 'dub': 9052, 'duh': 9053, 'dumped': 9054, 'dung': 9055, 'dunno': 9056, 'dutifully': 9057, 'dwelling': 9058, 'dye': 9059, 'dystopian': 9060, 'eager': 9061, 'earn': 9062, 'earned': 9063, 'economic': 9064, 'economy': 9065, 'edged': 9066, 'edges': 9067, 'edging': 9068, 'editor': 9069, 'educated': 9070, 'eeeb': 9071, 'efficient': 9072, 'eighties': 9073, 'eldest': 9074, 'elections': 9075, 'elegance': 9076, 'elegantly': 9077, 'elevates': 9078, 'elicit': 9079, 'eliminated': 9080, 'embarrass': 9081, 'embarrassment': 9082, 'emerged': 9083, 'emerging': 9084, 'empathise': 9085, 'emphasize': 9086, 'employed': 9087, 'enchanting': 9088, 'endorsement': 9089, 'engage': 9090, 'engages': 9091, 'english': 9092, 'enhance': 9093, 'enhanced': 9094, 'enhances': 9095, 'enjoyably': 9096, 'enjoys': 9097, 'enlist': 9098, 'enlistment': 9099, 'enraged': 9100, 'enterprise': 9101, 'entertainer': 9102, 'entertains': 9103, 'entrance': 9104, 'equation': 9105, 'erm': 9106, 'erotica': 9107, 'escorted': 9108, 'esoteric': 9109, 'espionage': 9110, 'esquire': 9111, 'establishing': 9112, 'esteem': 9113, 'esteemed': 9114, 'estranged': 9115, 'ethnic': 9116, 'evaluation': 9117, 'evoking': 9118, 'evolved': 9119, 'exaggeration': 9120, 'exclusive': 9121, 'excuses': 9122, 'exec': 9123, 'exhausting': 9124, 'expenses': 9125, 'experts': 9126, 'exploits': 9127, 'explosive': 9128, 'export': 9129, 'expresses': 9130, 'extortion': 9131, 'extracts': 9132, 'eyeballs': 9133, 'fades': 9134, 'failings': 9135, 'failures': 9136, 'familial': 9137, 'fanfare': 9138, 'fascination': 9139, 'fashions': 9140, 'fateful': 9141, 'favours': 9142, 'fearless': 9143, 'fed': 9144, 'fictionalized': 9145, 'file': 9146, 'finishing': 9147, 'firm': 9148, 'fist': 9149, 'fisted': 9150, 'fists': 9151, 'flamboyant': 9152, 'flee': 9153, 'fling': 9154, 'flip': 9155, 'floats': 9156, 'flourished': 9157, 'flower': 9158, 'flows': 9159, 'fluff': 9160, 'fluke': 9161, 'fog': 9162, 'foisted': 9163, 'folk': 9164, 'fondly': 9165, 'forbid': 9166, 'foreboding': 9167, 'forewarned': 9168, 'forgetting': 9169, 'forgivable': 9170, 'formulaic': 9171, 'forum': 9172, 'forwarding': 9173, 'foundation': 9174, 'fourteen': 9175, 'frames': 9176, 'freaks': 9177, 'freshman': 9178, 'freshness': 9179, 'fright': 9180, 'fringe': 9181, 'frontal': 9182, 'froth': 9183, 'fumbling': 9184, 'functions': 9185, 'fundamentally': 9186, 'funds': 9187, 'funeral': 9188, 'furious': 9189, 'furniture': 9190, 'fuss': 9191, 'gaping': 9192, 'garb': 9193, 'gasp': 9194, 'geeks': 9195, 'genial': 9196, 'germs': 9197, 'gestures': 9198, 'giants': 9199, 'gifts': 9200, 'gladiator': 9201, 'glamor': 9202, 'glamorous': 9203, 'glance': 9204, 'gloss': 9205, 'glowing': 9206, 'glows': 9207, 'goers': 9208, 'goggle': 9209, 'goon': 9210, 'goons': 9211, 'goth': 9212, 'grabbed': 9213, 'graced': 9214, 'gracefully': 9215, 'grant': 9216, 'gratifying': 9217, 'graves': 9218, 'graveyard': 9219, 'gravity': 9220, 'greed': 9221, 'grin': 9222, 'groovy': 9223, 'grossness': 9224, 'grows': 9225, 'grudge': 9226, 'gruff': 9227, 'grunts': 9228, 'guaranteed': 9229, 'guard': 9230, 'guided': 9231, 'gullible': 9232, 'gushing': 9233, 'habits': 9234, 'hackneyed': 9235, 'hairy': 9236, 'handicap': 9237, 'handling': 9238, 'hardship': 9239, 'hardships': 9240, 'hardware': 9241, 'harrowing': 9242, 'hatred': 9243, 'haunt': 9244, 'heartbreaking': 9245, 'heir': 9246, 'helicopter': 9247, 'helmets': 9248, 'herd': 9249, 'heroism': 9250, 'herrings': 9251, 'heyday': 9252, 'hilarity': 9253, 'hillbilly': 9254, 'hilt': 9255, 'himmelen': 9256, 'hinted': 9257, 'historians': 9258, 'hitman': 9259, 'hokey': 9260, 'hollywood': 9261, 'homely': 9262, 'homes': 9263, 'homicidal': 9264, 'homo': 9265, 'honored': 9266, 'hoops': 9267, 'horrendous': 9268, 'housewives': 9269, 'hug': 9270, 'humourless': 9271, 'humping': 9272, 'hungry': 9273, 'hunky': 9274, 'hunters': 9275, 'hurriedly': 9276, 'hurts': 9277, 'hybrid': 9278, 'hypocritical': 9279, 'hysterically': 9280, 'icy': 9281, 'idealism': 9282, 'identified': 9283, 'ignorance': 9284, 'ignores': 9285, 'illness': 9286, 'ills': 9287, 'illuminate': 9288, 'illusion': 9289, 'illustrates': 9290, 'imaginary': 9291, 'imaginations': 9292, 'imitated': 9293, 'immigration': 9294, 'immorality': 9295, 'impacts': 9296, 'implausibility': 9297, 'implication': 9298, 'implies': 9299, 'importance': 9300, 'impresses': 9301, 'improvement': 9302, 'improvise': 9303, 'inappropriate': 9304, 'inbred': 9305, 'incarnation': 9306, 'incestuous': 9307, 'incidental': 9308, 'incidents': 9309, 'incompetence': 9310, 'incorrect': 9311, 'independence': 9312, 'indication': 9313, 'indications': 9314, 'indulging': 9315, 'ineffective': 9316, 'inert': 9317, 'infatuation': 9318, 'infested': 9319, 'info': 9320, 'infomercials': 9321, 'informative': 9322, 'informed': 9323, 'ingenious': 9324, 'inhabits': 9325, 'inherited': 9326, 'injects': 9327, 'injured': 9328, 'innuendo': 9329, 'inoffensive': 9330, 'insipid': 9331, 'inspirational': 9332, 'instalment': 9333, 'instances': 9334, 'institution': 9335, 'instrumental': 9336, 'insults': 9337, 'intellectually': 9338, 'intend': 9339, 'intending': 9340, 'intensely': 9341, 'interact': 9342, 'interacted': 9343, 'interpreted': 9344, 'intertwined': 9345, 'interwoven': 9346, 'intestines': 9347, 'intro': 9348, 'invade': 9349, 'invent': 9350, 'inventing': 9351, 'invisibility': 9352, 'invitation': 9353, 'invulnerable': 9354, 'iron': 9355, 'islanders': 9356, 'jarring': 9357, 'jeep': 9358, 'jerky': 9359, 'jock': 9360, 'judging': 9361, 'jury': 9362, 'justifiably': 9363, 'kidding': 9364, 'kidnappings': 9365, 'kidnaps': 9366, 'kilter': 9367, 'kinky': 9368, 'kitsch': 9369, 'knees': 9370, 'knocks': 9371, 'kooky': 9372, 'kudos': 9373, 'l': 9374, 'labeled': 9375, 'lacklustre': 9376, 'lands': 9377, 'lap': 9378, 'lapses': 9379, 'largest': 9380, 'launch': 9381, 'launching': 9382, 'lavish': 9383, 'laying': 9384, 'league': 9385, 'legion': 9386, 'lejanos': 9387, 'lent': 9388, 'liberties': 9389, 'librarian': 9390, 'lick': 9391, 'lifeboat': 9392, 'lightning': 9393, 'link': 9394, 'lion': 9395, 'liquor': 9396, 'listless': 9397, 'loaded': 9398, 'loathsome': 9399, 'locale': 9400, 'locate': 9401, 'located': 9402, 'locks': 9403, 'longing': 9404, 'looses': 9405, 'loot': 9406, 'lucid': 9407, 'lullaby': 9408, 'lunatic': 9409, 'lunch': 9410, 'lure': 9411, 'lurid': 9412, 'lurking': 9413, 'lurks': 9414, 'macho': 9415, 'madman': 9416, 'maggots': 9417, 'magically': 9418, 'mags': 9419, 'maiden': 9420, 'maintained': 9421, 'maintaining': 9422, 'mania': 9423, 'manic': 9424, 'manifestation': 9425, 'manipulating': 9426, 'manly': 9427, 'marked': 9428, 'marquee': 9429, 'marvels': 9430, 'masculinity': 9431, 'masterfully': 9432, 'masters': 9433, 'matched': 9434, 'materials': 9435, 'mating': 9436, 'meandering': 9437, 'mechanic': 9438, 'mechanical': 9439, 'medals': 9440, 'medical': 9441, 'medium': 9442, 'medley': 9443, 'memoirs': 9444, 'memorized': 9445, 'mentor': 9446, 'mercenary': 9447, 'mesmerizing': 9448, 'metaphors': 9449, 'mexican': 9450, 'midget': 9451, 'midst': 9452, 'mining': 9453, 'miracle': 9454, 'miserable': 9455, 'misery': 9456, 'misguided': 9457, 'mishaps': 9458, 'misogynistic': 9459, 'misplaced': 9460, 'misty': 9461, 'mixing': 9462, 'mock': 9463, 'mocking': 9464, 'modesty': 9465, 'monarchs': 9466, 'monstrous': 9467, 'montages': 9468, 'morals': 9469, 'morbid': 9470, 'motifs': 9471, 'motionless': 9472, 'motions': 9473, 'motive': 9474, 'mourning': 9475, 'multiply': 9476, 'muscle': 9477, 'mustache': 9478, 'mutated': 9479, 'mutilated': 9480, 'mythological': 9481, 'nailed': 9482, 'nap': 9483, 'narrow': 9484, 'narrowly': 9485, 'nationalism': 9486, 'naturalistic': 9487, 'navy': 9488, 'nay': 9489, 'necrophilia': 9490, 'negatively': 9491, 'nemesis': 9492, 'nerds': 9493, 'nicer': 9494, 'nifty': 9495, 'nightclubs': 9496, 'nightmares': 9497, 'nods': 9498, 'noisy': 9499, 'nominations': 9500, 'nostalgia': 9501, 'notwithstanding': 9502, 'nuances': 9503, 'nurse': 9504, 'nut': 9505, 'nutshell': 9506, 'oblivion': 9507, 'obscene': 9508, 'obscurity': 9509, 'observer': 9510, 'obtain': 9511, 'offenders': 9512, 'offset': 9513, 'olds': 9514, 'oozes': 9515, 'operates': 9516, 'oppression': 9517, 'oppressive': 9518, 'opus': 9519, 'ordeal': 9520, 'organs': 9521, 'originated': 9522, 'origins': 9523, 'outbursts': 9524, 'outcast': 9525, 'outdoor': 9526, 'outdoors': 9527, 'outer': 9528, 'outset': 9529, 'overblown': 9530, 'overriding': 9531, 'overs': 9532, 'overthrow': 9533, 'overweight': 9534, 'overwrought': 9535, 'pains': 9536, 'paintings': 9537, 'pals': 9538, 'panicking': 9539, 'parricide': 9540, 'passable': 9541, 'pat': 9542, 'patented': 9543, 'patients': 9544, 'patriot': 9545, 'patrons': 9546, 'pawn': 9547, 'payoff': 9548, 'peers': 9549, 'pencil': 9550, 'penned': 9551, 'perfected': 9552, 'perish': 9553, 'phones': 9554, 'phony': 9555, 'pigs': 9556, 'pimp': 9557, 'pinnacle': 9558, 'pizza': 9559, 'placement': 9560, 'planned': 9561, 'plastered': 9562, 'playboy': 9563, 'plunges': 9564, 'pocket': 9565, 'pointing': 9566, 'poison': 9567, 'poker': 9568, 'poking': 9569, 'politician': 9570, 'polluting': 9571, 'pond': 9572, 'popped': 9573, 'popularity': 9574, 'porch': 9575, 'pornography': 9576, 'pose': 9577, 'posed': 9578, 'positions': 9579, 'possess': 9580, 'possessed': 9581, 'potentially': 9582, 'potion': 9583, 'pouring': 9584, 'powder': 9585, 'practicing': 9586, 'prancing': 9587, 'prayed': 9588, 'predator': 9589, 'preparing': 9590, 'preschool': 9591, 'pressed': 9592, 'presumably': 9593, 'pretense': 9594, 'prevail': 9595, 'prevents': 9596, 'prey': 9597, 'probe': 9598, 'proclaimed': 9599, 'productive': 9600, 'profanity': 9601, 'professionals': 9602, 'programming': 9603, 'progresses': 9604, 'prompted': 9605, 'promptly': 9606, 'prone': 9607, 'proofs': 9608, 'propel': 9609, 'prophecy': 9610, 'prophetic': 9611, 'pros': 9612, 'protective': 9613, 'protest': 9614, 'protested': 9615, 'protesting': 9616, 'provocative': 9617, 'psyche': 9618, 'psychedelic': 9619, 'psychiatric': 9620, 'psychiatrist': 9621, 'psychopath': 9622, 'psychopathic': 9623, 'pub': 9624, 'publish': 9625, 'publisher': 9626, 'pulpy': 9627, 'punishment': 9628, 'puns': 9629, 'puppets': 9630, 'purchase': 9631, 'purchasing': 9632, 'purple': 9633, 'pursuits': 9634, 'putrid': 9635, 'puzzled': 9636, 'rabid': 9637, 'rack': 9638, 'raft': 9639, 'railroad': 9640, 'raises': 9641, 'rambling': 9642, 'rang': 9643, 'ransom': 9644, 'rapport': 9645, 'rates': 9646, 'raven': 9647, 'reacts': 9648, 'recapture': 9649, 'reckon': 9650, 'recover': 9651, 'reels': 9652, 'refer': 9653, 'reform': 9654, 'refuse': 9655, 'regained': 9656, 'regardless': 9657, 'regretted': 9658, 'rehearsal': 9659, 'rehearsing': 9660, 'reign': 9661, 'rejects': 9662, 'religions': 9663, 'reluctance': 9664, 'rely': 9665, 'relying': 9666, 'remembering': 9667, 'remove': 9668, 'rendered': 9669, 'rents': 9670, 'repair': 9671, 'reports': 9672, 'repressed': 9673, 'rescues': 9674, 'researcher': 9675, 'researchers': 9676, 'resembling': 9677, 'reserves': 9678, 'resort': 9679, 'resorting': 9680, 'resources': 9681, 'restless': 9682, 'rests': 9683, 'retreat': 9684, 'revelations': 9685, 'revelatory': 9686, 'revolutionized': 9687, 'rice': 9688, 'riches': 9689, 'richly': 9690, 'ridicules': 9691, 'righteousness': 9692, 'rightful': 9693, 'rightly': 9694, 'ripe': 9695, 'rivalry': 9696, 'rob': 9697, 'robbed': 9698, 'rocket': 9699, 'rocky': 9700, 'roller': 9701, 'romances': 9702, 'romanticized': 9703, 'rooted': 9704, 'rose': 9705, 'rounded': 9706, 'royal': 9707, 'rub': 9708, 'rulers': 9709, 'ruling': 9710, 'runaway': 9711, 'sacrifices': 9712, 'saga': 9713, 'sailor': 9714, 'sales': 9715, 'sanity': 9716, 'sap': 9717, 'sarcasm': 9718, 'satisfies': 9719, 'saxophone': 9720, 'scarcely': 9721, 'scat': 9722, 'scenarios': 9723, 'scenic': 9724, 'schedule': 9725, 'scheme': 9726, 'scheming': 9727, 'schizophrenic': 9728, 'schlock': 9729, 'schoolgirl': 9730, 'scifi': 9731, 'scored': 9732, 'scores': 9733, 'scowl': 9734, 'scratch': 9735, 'scratching': 9736, 'screenwriters': 9737, 'screwball': 9738, 'screws': 9739, 'scumbags': 9740, 'seamlessly': 9741, 'seats': 9742, 'secondary': 9743, 'seductive': 9744, 'seized': 9745, 'semblance': 9746, 'sensation': 9747, 'sensual': 9748, 'sentiment': 9749, 'session': 9750, 'settle': 9751, 'seventh': 9752, 'sh*t': 9753, 'shades': 9754, 'shaken': 9755, 'shaky': 9756, 'shambles': 9757, 'shattered': 9758, 'shaved': 9759, 'shaves': 9760, 'shaving': 9761, 'shed': 9762, 'shooter': 9763, 'shootouts': 9764, 'shortcomings': 9765, 'shout': 9766, 'shouts': 9767, 'shovel': 9768, 'shuttle': 9769, 'sic': 9770, 'sickening': 9771, 'sidekicks': 9772, 'sights': 9773, 'silliness': 9774, 'similarly': 9775, 'simplest': 9776, 'sin': 9777, 'sink': 9778, 'sinks': 9779, 'sirens': 9780, 'skeletons': 9781, 'sketches': 9782, 'skilled': 9783, 'slamming': 9784, 'slashers': 9785, 'slaughter': 9786, 'sleeping': 9787, 'sleeve': 9788, 'slide': 9789, 'slot': 9790, 'slum': 9791, 'slut': 9792, 'smarmy': 9793, 'smarter': 9794, 'smoked': 9795, 'snappy': 9796, 'sniper': 9797, 'soccer': 9798, 'socially': 9799, 'sociopath': 9800, 'solution': 9801, 'solved': 9802, 'som': 9803, 'sooner': 9804, 'sophistication': 9805, 'sophomoric': 9806, 'sorcery': 9807, 'sordid': 9808, 'sorrowful': 9809, 'southern': 9810, 'span': 9811, 'spark': 9812, 'sparring': 9813, 'spectacle': 9814, 'spectacularly': 9815, 'speechless': 9816, 'spider': 9817, 'spinal': 9818, 'spinster': 9819, 'spiraling': 9820, 'spoiling': 9821, 'sponsored': 9822, 'spook': 9823, 'spread': 9824, 'spree': 9825, 'spring': 9826, 'sprinkled': 9827, 'spy': 9828, 'spying': 9829, 'squished': 9830, 'staging': 9831, 'stained': 9832, 'stake': 9833, 'standouts': 9834, 'stare': 9835, 'startled': 9836, 'stash': 9837, 'stating': 9838, 'steadily': 9839, 'steaming': 9840, 'sterile': 9841, 'steroids': 9842, 'sticks': 9843, 'stoic': 9844, 'stoicism': 9845, 'storyboard': 9846, 'strained': 9847, 'strains': 9848, 'strangest': 9849, 'stray': 9850, 'streak': 9851, 'stride': 9852, 'strips': 9853, 'stroke': 9854, 'stuffed': 9855, 'stumbled': 9856, 'stunk': 9857, 'stylistic': 9858, 'submitted': 9859, 'substantial': 9860, 'substitute': 9861, 'subtly': 9862, 'suburban': 9863, 'suffice': 9864, 'sugar': 9865, 'sunny': 9866, 'supportive': 9867, 'supreme': 9868, 'surfer': 9869, 'surfers': 9870, 'surpasses': 9871, 'suspended': 9872, 'suspiciously': 9873, 'swallowed': 9874, 'swift': 9875, 'switch': 9876, 'switched': 9877, 'switches': 9878, 'swords': 9879, 'symbolism': 9880, 'symphony': 9881, 'syndrome': 9882, 'synonymous': 9883, 'systems': 9884, 't.v': 9885, 'taboo': 9886, 'taboos': 9887, 'tackle': 9888, 'tactical': 9889, 'tainted': 9890, 'tamed': 9891, 'tastefully': 9892, 'taught': 9893, 'tax': 9894, 'taxi': 9895, 'tearjerker': 9896, 'technically': 9897, 'tended': 9898, 'tendencies': 9899, 'tensions': 9900, 'terminology': 9901, 'terrain': 9902, 'terrors': 9903, 'testing': 9904, 'thankful': 9905, 'thefts': 9906, 'theirs': 9907, 'thematic': 9908, 'thereby': 9909, 'thereof': 9910, 'thread': 9911, 'threads': 9912, 'thrust': 9913, 'tier': 9914, 'tightly': 9915, 'tip': 9916, 'tire': 9917, 'toes': 9918, 'toilet': 9919, 'tolerate': 9920, 'toll': 9921, 'tomato': 9922, 'topics': 9923, 'touched': 9924, 'tourists': 9925, 'tow': 9926, 'tracking': 9927, 'transference': 9928, 'transformed': 9929, 'transforms': 9930, 'transport': 9931, 'trapeze': 9932, 'treasures': 9933, 'treaty': 9934, 'trenches': 9935, 'trials': 9936, 'triangle': 9937, 'tribulations': 9938, 'triple': 9939, 'trips': 9940, 'troupe': 9941, 'trudge': 9942, 'tub': 9943, 'tunes': 9944, 'turd': 9945, 'typically': 9946, 'um': 9947, 'umpteen': 9948, 'uncanny': 9949, 'uncredited': 9950, 'underbelly': 9951, 'underlines': 9952, 'undermined': 9953, 'understandably': 9954, 'underused': 9955, 'underwhelmed': 9956, 'underwhelming': 9957, 'undeserving': 9958, 'unfairly': 9959, 'unintelligent': 9960, 'unity': 9961, 'universities': 9962, 'unknowns': 9963, 'unleashes': 9964, 'unlucky': 9965, 'unorthodox': 9966, 'unprecedented': 9967, 'unpredictable': 9968, 'unthinkable': 9969, 'untimely': 9970, 'unused': 9971, 'unwarranted': 9972, 'unwillingness': 9973, 'updated': 9974, 'urging': 9975, 'uttering': 9976, 'vacant': 9977, 'vague': 9978, 'valley': 9979, 'vanity': 9980, 'variation': 9981, 'varied': 9982, 'ventures': 9983, 'verbally': 9984, 'versa': 9985, 'versatile': 9986, 'versatility': 9987, 'vibe': 9988, 'videotaped': 9989, 'vigilante': 9990, 'villa': 9991, 'villagers': 9992, 'villainy': 9993, 'vintage': 9994, 'virulent': 9995, 'visceral': 9996, 'voodoo': 9997, 'vulgar': 9998, 'vulgarity': 9999, 'waitress': 10000, 'wee': 10001, 'weirdest': 10002, 'welcomes': 10003, 'wept': 10004, 'wheel': 10005, 'whimsical': 10006, 'whimsy': 10007, 'whip': 10008, 'wholly': 10009, 'whore': 10010, 'wider': 10011, 'wielding': 10012, 'wiser': 10013, 'witnessing': 10014, 'womanizing': 10015, 'woven': 10016, 'wow': 10017, 'wrap': 10018, 'wraps': 10019, 'wrecks': 10020, 'writhing': 10021, 'wrongly': 10022, 'y': 10023, 'yadda': 10024, 'yapping': 10025, 'yawn': 10026, 'yea': 10027, 'yell': 10028, 'yo': 10029, 'yup': 10030, 'zone': 10031, '£': 10032})\n"
     ]
    }
   ],
   "source": [
    "#initialize glove embeddings\n",
    "TEXT.build_vocab(train_data,min_freq=3,vectors = \"glove.6B.100d\")  \n",
    "LABEL.build_vocab(train_data)\n",
    "\n",
    "#No. of unique tokens in text\n",
    "print(\"Size of TEXT vocabulary:\",len(TEXT.vocab))\n",
    "\n",
    "#No. of unique tokens in label\n",
    "print(\"Size of LABEL vocabulary:\",len(LABEL.vocab))\n",
    "\n",
    "#Commonly used words\n",
    "print(TEXT.vocab.freqs.most_common(10))  \n",
    "\n",
    "#Word dictionary\n",
    "print(TEXT.vocab.stoi)   "
   ]
  },
  {
   "cell_type": "markdown",
   "metadata": {
    "id": "GbRHqCH43OzQ"
   },
   "source": [
    "Now we will prepare batches for training the model. BucketIterator forms the batches in such a way that a minimum amount of padding is required."
   ]
  },
  {
   "cell_type": "code",
   "execution_count": 258,
   "metadata": {
    "id": "kafXW2veU2Ds"
   },
   "outputs": [],
   "source": [
    "#check whether cuda is available\n",
    "device = torch.device('cuda' if torch.cuda.is_available() else 'cpu')  \n",
    "\n",
    "#set batch size\n",
    "BATCH_SIZE = 64\n",
    "\n",
    "#Load an iterator\n",
    "train_iterator, valid_iterator = data.BucketIterator.splits(\n",
    "    (train_data, valid_data), \n",
    "    batch_size = BATCH_SIZE,\n",
    "    sort_key = lambda x: len(x.text),\n",
    "    sort_within_batch=True,\n",
    "    device = device)"
   ]
  },
  {
   "cell_type": "markdown",
   "metadata": {
    "id": "hsdFeyQt3Sxs"
   },
   "source": [
    "# Model Architecture\n",
    "\n",
    "It is now time to define the architecture to solve the binary classification problem\n",
    "\n",
    "I have defined 2 functions here: init as well as forward. Let me explain the use case of both of these functions-\n",
    "\n",
    "1. Init: Whenever an instance of a class is created, init function is automatically invoked. Hence, it is called as a constructor. The arguments passed to the class are initialized by the constructor.We will define all the layers that we will be using in the model\n",
    "\n",
    "2. Forward: Forward function defines the forward pass of the inputs.\n",
    "\n",
    "Different layers used for building the architecture and their parameters-\n",
    "\n",
    "Embedding layer,\n",
    "LSTM,\n",
    "input_size ,\n",
    "hidden_size ,\n",
    "num_layers, \n",
    "batch_firs,\n",
    "dropout,\n",
    "Default,\n",
    "bidirection,\n",
    "\n",
    "Linear Layer: parameters here are described below:\n",
    "\n",
    "in_features : No. of input features\n",
    "\n",
    "out_features: No. of hidden nodes\n",
    "\n",
    "Pack Padding: pack padding is used to define the dynamic recurrent neural network. Without pack padding, the padding inputs are also processed by the RNN and returns the hidden state of the padded element."
   ]
  },
  {
   "cell_type": "code",
   "execution_count": 259,
   "metadata": {
    "id": "NvLZglq7yaqf"
   },
   "outputs": [],
   "source": [
    "import torch.nn as nn\n",
    "\n",
    "class classifier(nn.Module):\n",
    "    \n",
    "    #define all the layers used in model\n",
    "    def __init__(self, vocab_size, embedding_dim, hidden_dim, output_dim, n_layers, \n",
    "                 bidirectional, dropout):\n",
    "        \n",
    "        #Constructor\n",
    "        super().__init__()          \n",
    "        \n",
    "        #embedding layer\n",
    "        self.embedding = nn.Embedding(vocab_size, embedding_dim)\n",
    "        \n",
    "        #lstm layer\n",
    "        self.lstm = nn.LSTM(embedding_dim, \n",
    "                           hidden_dim, \n",
    "                           num_layers=n_layers, \n",
    "                           bidirectional=bidirectional, \n",
    "                           dropout=dropout,\n",
    "                           batch_first=True)\n",
    "        \n",
    "        #dense layer\n",
    "        self.fc = nn.Linear(hidden_dim * 2, output_dim)\n",
    "        \n",
    "        #activation function\n",
    "        self.act = nn.Sigmoid()\n",
    "        \n",
    "    def forward(self, text, text_lengths):\n",
    "        \n",
    "        #text = [batch size,sent_length]\n",
    "        embedded = self.embedding(text)\n",
    "        #embedded = [batch size, sent_len, emb dim]\n",
    "      \n",
    "        #packed sequence\n",
    "        packed_embedded = nn.utils.rnn.pack_padded_sequence(embedded, text_lengths,batch_first=True)\n",
    "        \n",
    "        packed_output, (hidden, cell) = self.lstm(packed_embedded)\n",
    "        #hidden = [batch size, num layers * num directions,hid dim]\n",
    "        #cell = [batch size, num layers * num directions,hid dim]\n",
    "        \n",
    "        #concat the final forward and backward hidden state\n",
    "        hidden = torch.cat((hidden[-2,:,:], hidden[-1,:,:]), dim = 1)\n",
    "                \n",
    "        #hidden = [batch size, hid dim * num directions]\n",
    "        dense_outputs=self.fc(hidden)\n",
    "\n",
    "        #Final activation function\n",
    "        outputs=self.act(dense_outputs)\n",
    "        \n",
    "        return outputs"
   ]
  },
  {
   "cell_type": "markdown",
   "metadata": {
    "id": "mJHICFwL4p4m"
   },
   "source": [
    "The next step would be to define the hyperparameters and instantiate the model. Here is the code block for the same:"
   ]
  },
  {
   "cell_type": "code",
   "execution_count": 260,
   "metadata": {
    "id": "37GdlFCUyauW"
   },
   "outputs": [],
   "source": [
    "#define hyperparameters\n",
    "size_of_vocab = len(TEXT.vocab)\n",
    "embedding_dim = 100\n",
    "num_hidden_nodes = 32\n",
    "num_output_nodes = 1\n",
    "num_layers = 2\n",
    "bidirection = True\n",
    "dropout = 0.2\n",
    "\n",
    "#instantiate the model\n",
    "model = classifier(size_of_vocab, embedding_dim, num_hidden_nodes,num_output_nodes, num_layers, \n",
    "                   bidirectional = True, dropout = dropout)"
   ]
  },
  {
   "cell_type": "markdown",
   "metadata": {
    "id": "jclBfq6j41mL"
   },
   "source": [
    "Looking at the model summary and initialize the embedding layer with the pretrained embeddings"
   ]
  },
  {
   "cell_type": "code",
   "execution_count": 261,
   "metadata": {
    "colab": {
     "base_uri": "https://localhost:8080/"
    },
    "id": "KDIEef31yax9",
    "outputId": "c8b8a133-d416-43c3-83d5-89d072aad161"
   },
   "outputs": [
    {
     "name": "stdout",
     "output_type": "stream",
     "text": [
      "classifier(\n",
      "  (embedding): Embedding(10033, 100)\n",
      "  (lstm): LSTM(100, 32, num_layers=2, batch_first=True, dropout=0.2, bidirectional=True)\n",
      "  (fc): Linear(in_features=64, out_features=1, bias=True)\n",
      "  (act): Sigmoid()\n",
      ")\n",
      "The model has 1,062,757 trainable parameters\n",
      "torch.Size([10033, 100])\n"
     ]
    }
   ],
   "source": [
    "#architecture\n",
    "print(model)\n",
    "\n",
    "#No. of trianable parameters\n",
    "def count_parameters(model):\n",
    "    return sum(p.numel() for p in model.parameters() if p.requires_grad)\n",
    "    \n",
    "print(f'The model has {count_parameters(model):,} trainable parameters')\n",
    "\n",
    "#Initialize the pretrained embedding\n",
    "pretrained_embeddings = TEXT.vocab.vectors\n",
    "model.embedding.weight.data.copy_(pretrained_embeddings)\n",
    "\n",
    "print(pretrained_embeddings.shape)"
   ]
  },
  {
   "cell_type": "markdown",
   "metadata": {
    "id": "IGzzzQUt44Xd"
   },
   "source": [
    "Defining the optimizer, loss and metric for the model:"
   ]
  },
  {
   "cell_type": "code",
   "execution_count": 262,
   "metadata": {
    "id": "hBRPZs9eya1H"
   },
   "outputs": [],
   "source": [
    "import torch.optim as optim\n",
    "\n",
    "#define optimizer and loss\n",
    "optimizer = optim.Adam(model.parameters())\n",
    "criterion = nn.BCELoss()\n",
    "\n",
    "#define metric\n",
    "def binary_accuracy(preds, y):\n",
    "    #round predictions to the closest integer\n",
    "    rounded_preds = torch.round(preds)\n",
    "    \n",
    "    correct = (rounded_preds == y).float() \n",
    "    acc = correct.sum() / len(correct)\n",
    "    return acc\n",
    "    \n",
    "#push to cuda if available\n",
    "model = model.to(device)\n",
    "criterion = criterion.to(device)"
   ]
  },
  {
   "cell_type": "markdown",
   "metadata": {
    "id": "-KdvXiUa49mz"
   },
   "source": [
    "There are 2 phases while building the model:\n",
    "\n",
    "Training phase: model.train() sets the model on the training phase and activates the dropout layers.\n",
    "\n",
    "\n",
    "Inference phase: model.eval() sets the model on the evaluation phase and deactivates the dropout layers.\n",
    "Here is the code block to define a function for training the model"
   ]
  },
  {
   "cell_type": "code",
   "execution_count": 263,
   "metadata": {
    "id": "Ht5ywTApya4H"
   },
   "outputs": [],
   "source": [
    "def train(model, iterator, optimizer, criterion):\n",
    "    \n",
    "    #initialize every epoch \n",
    "    epoch_loss = 0\n",
    "    epoch_acc = 0\n",
    "    \n",
    "    #set the model in training phase\n",
    "    model.train()  \n",
    "    \n",
    "    for batch in iterator:\n",
    "        \n",
    "        #resets the gradients after every batch\n",
    "        optimizer.zero_grad()   \n",
    "        \n",
    "        #retrieve text and no. of words\n",
    "        text, text_lengths = batch.text   \n",
    "        \n",
    "        #convert to 1D tensor\n",
    "        predictions = model(text, text_lengths).squeeze()  \n",
    "        \n",
    "        #compute the loss\n",
    "        loss = criterion(predictions, batch.label)        \n",
    "        \n",
    "        #compute the binary accuracy\n",
    "        acc = binary_accuracy(predictions, batch.label)   \n",
    "        \n",
    "        #backpropage the loss and compute the gradients\n",
    "        loss.backward()       \n",
    "        \n",
    "        #update the weights\n",
    "        optimizer.step()      \n",
    "        \n",
    "        #loss and accuracy\n",
    "        epoch_loss += loss.item()  \n",
    "        epoch_acc += acc.item()    \n",
    "        \n",
    "    return epoch_loss / len(iterator), epoch_acc / len(iterator)"
   ]
  },
  {
   "cell_type": "markdown",
   "metadata": {
    "id": "XkFkdvIQ5D3D"
   },
   "source": [
    "So we have a function to train the model, but we will also need a function to evaluate the mode."
   ]
  },
  {
   "cell_type": "code",
   "execution_count": 264,
   "metadata": {
    "id": "TASKNBVAya9I"
   },
   "outputs": [],
   "source": [
    "def evaluate(model, iterator, criterion):\n",
    "    \n",
    "    #initialize every epoch\n",
    "    epoch_loss = 0\n",
    "    epoch_acc = 0\n",
    "\n",
    "    #deactivating dropout layers\n",
    "    model.eval()\n",
    "    \n",
    "    #deactivates autograd\n",
    "    with torch.no_grad():\n",
    "    \n",
    "        for batch in iterator:\n",
    "        \n",
    "            #retrieve text and no. of words\n",
    "            text, text_lengths = batch.text\n",
    "            \n",
    "            #convert to 1d tensor\n",
    "            predictions = model(text, text_lengths).squeeze()\n",
    "            \n",
    "            #compute loss and accuracy\n",
    "            loss = criterion(predictions, batch.label)\n",
    "            acc = binary_accuracy(predictions, batch.label)\n",
    "            \n",
    "            #keep track of loss and accuracy\n",
    "            epoch_loss += loss.item()\n",
    "            epoch_acc += acc.item()\n",
    "        \n",
    "    return epoch_loss / len(iterator), epoch_acc / len(iterator)"
   ]
  },
  {
   "cell_type": "markdown",
   "metadata": {
    "id": "2C8dkf_L5VS8"
   },
   "source": [
    "we will train the model for a certain number of epochs and save the best model every epoch."
   ]
  },
  {
   "cell_type": "code",
   "execution_count": 265,
   "metadata": {
    "colab": {
     "base_uri": "https://localhost:8080/"
    },
    "id": "-4PotdjZ0bSO",
    "outputId": "d2435102-68a8-46bf-d204-b9a40579f29b"
   },
   "outputs": [
    {
     "name": "stdout",
     "output_type": "stream",
     "text": [
      "\tTrain Loss: 0.693 | Train Acc: 52.07%\n",
      "\t Val. Loss: 0.690 |  Val. Acc: 55.52%\n",
      "\tTrain Loss: 0.683 | Train Acc: 61.44%\n",
      "\t Val. Loss: 0.682 |  Val. Acc: 53.44%\n",
      "\tTrain Loss: 0.636 | Train Acc: 65.69%\n",
      "\t Val. Loss: 0.636 |  Val. Acc: 64.17%\n",
      "\tTrain Loss: 0.502 | Train Acc: 76.14%\n",
      "\t Val. Loss: 0.844 |  Val. Acc: 58.85%\n",
      "\tTrain Loss: 0.507 | Train Acc: 75.63%\n",
      "\t Val. Loss: 0.626 |  Val. Acc: 64.38%\n"
     ]
    }
   ],
   "source": [
    "N_EPOCHS = 5\n",
    "best_valid_loss = float('inf')\n",
    "\n",
    "for epoch in range(N_EPOCHS):\n",
    "     \n",
    "    #train the model\n",
    "    train_loss, train_acc = train(model, train_iterator, optimizer, criterion)\n",
    "    \n",
    "    #evaluate the model\n",
    "    valid_loss, valid_acc = evaluate(model, valid_iterator, criterion)\n",
    "    \n",
    "    #save the best model\n",
    "    if valid_loss < best_valid_loss:\n",
    "        best_valid_loss = valid_loss\n",
    "        torch.save(model.state_dict(), 'saved_weights.pt')\n",
    "    \n",
    "    print(f'\\tTrain Loss: {train_loss:.3f} | Train Acc: {train_acc*100:.2f}%')\n",
    "    print(f'\\t Val. Loss: {valid_loss:.3f} |  Val. Acc: {valid_acc*100:.2f}%')"
   ]
  },
  {
   "cell_type": "markdown",
   "metadata": {
    "id": "Oebq9e0n5hws"
   },
   "source": [
    "Loading the best model and define the inference function  that accepts the user defined input and make predictions"
   ]
  },
  {
   "cell_type": "code",
   "execution_count": 266,
   "metadata": {
    "id": "WI6h5Np90bVE"
   },
   "outputs": [],
   "source": [
    "#load weights\n",
    "path='/content/saved_weights.pt'\n",
    "model.load_state_dict(torch.load(path));\n",
    "model.eval();\n",
    "\n",
    "#inference \n",
    "import spacy\n",
    "nlp = spacy.load('en')\n",
    "\n",
    "def predict(model, sentence):\n",
    "    tokenized = [tok.text for tok in nlp.tokenizer(sentence)]  #tokenize the sentence \n",
    "    indexed = [TEXT.vocab.stoi[t] for t in tokenized]          #convert to integer sequence\n",
    "    length = [len(indexed)]                                    #compute no. of words\n",
    "    tensor = torch.LongTensor(indexed).to(device)              #convert to tensor\n",
    "    tensor = tensor.unsqueeze(1).T                             #reshape in form of batch,no. of words\n",
    "    length_tensor = torch.LongTensor(length)                   #convert to tensor\n",
    "    prediction = model(tensor, length_tensor)                  #prediction \n",
    "    return prediction.item()                          "
   ]
  },
  {
   "cell_type": "markdown",
   "metadata": {
    "id": "JOuFMpYB5pj0"
   },
   "source": [
    "Let us use this model to make predictions for few questions:"
   ]
  },
  {
   "cell_type": "code",
   "execution_count": 267,
   "metadata": {
    "colab": {
     "base_uri": "https://localhost:8080/"
    },
    "id": "LQlem6g90bb5",
    "outputId": "cf9d6059-e857-4626-ce06-03b36ecbb6f4"
   },
   "outputs": [
    {
     "data": {
      "text/plain": [
       "0.5651946067810059"
      ]
     },
     "execution_count": 267,
     "metadata": {
      "tags": []
     },
     "output_type": "execute_result"
    }
   ],
   "source": [
    "#make predictions\n",
    "predict(model, \"Hollywood North is an euphemism from the movie industry as they went to Canada to make movies because of tax breaks and cheaper costs in a civilized city like Toronto, in this case, later in Vancouver. Peter O'Brian, the director, probably saw a lot of the invaders from California that this movie seems to be the right way to deal with the arriving personalities trying to capitalize on the economics that Canada presented.Needless to say, Moon Lantern, the successful novel written by a Canadian author is turned into Flight to Bogota, which has nothing to do with the original film. A great egotistical has-been, Michael Baytes, who is obsessed with what is happening in Iran, is offered the lead part, which turns to be a disaster.The film seems to be saying that too many cooks have spoiled the broth, which seems to be the case with the ultimate product, which is saved by its producer, Bobby Myers. With the help of Sandy Ryan, who has been around making a documentary of the film being shot in Toronto, parts of the film are transformed into a cohesive movie at last.The filming process is hilarious, and the acting, in general, is good.Hollywood North is an euphemism from the movie industry as they went to Canada to make movies because of tax breaks and cheaper costs in a civilized city like Toronto, in this case, later in Vancouver.\")\n",
    "\n"
   ]
  },
  {
   "cell_type": "code",
   "execution_count": 268,
   "metadata": {
    "colab": {
     "base_uri": "https://localhost:8080/"
    },
    "id": "mJR4O7ZD0bcy",
    "outputId": "d918a8f7-37d2-4461-dda6-831ba89ed80f"
   },
   "outputs": [
    {
     "data": {
      "text/plain": [
       "0.8946316242218018"
      ]
     },
     "execution_count": 268,
     "metadata": {
      "tags": []
     },
     "output_type": "execute_result"
    }
   ],
   "source": [
    "#make predictions\n",
    "predict(model, \"Fantastically putrid. I don't mean to imply above that only a few people should avoid Doc Savage. Almost every demographic group would be bored by this trivial, TV-movie-quality production. It's a little like the 60's Batman TV series, except it's not funny. Even accidentally. You're better off taking a nap.Fantastically putrid.\")"
   ]
  },
  {
   "cell_type": "code",
   "execution_count": 269,
   "metadata": {
    "colab": {
     "base_uri": "https://localhost:8080/"
    },
    "id": "N7OMxADz0bf3",
    "outputId": "f041ecc7-4ef0-42cd-bb11-5ad5590befbe"
   },
   "outputs": [
    {
     "data": {
      "text/plain": [
       "0.8833414316177368"
      ]
     },
     "execution_count": 269,
     "metadata": {
      "tags": []
     },
     "output_type": "execute_result"
    }
   ],
   "source": [
    "#make predictions\n",
    "predict(model, \"First of all, I was expecting Caged Heat to be along the same lines as Ilsa, The Wicked Warden. Boy, was I wrong! In no way is this film 70s exploitation, chix in chains, or women in prison. Sure, the plot consists of a bunch of women in prison, who wear street clothes btw (quite comical), but NOTHING happens.There aren't strong rivalries, no one tries to seduce the warden or doctor in order to try and escape, and no inmates make out. There are 2 shower scenes, that I suspect is just recycled footage, but no fights breaks out / no one is seduced here - or anywhere for that matter! Aside from the lack of plot, unconvincing, unsympathetic, and flat characters, a couple of inmates that do manage to escape actually return to the prison in order to free their fellow inmates??!!PUH-LEASE, the movie should have just ended off with the escapees riding off into the sunset...as opposed to letting this mess continue!I feel scammed.First of all, I was expecting Caged Heat to be along the same lines as Ilsa, The Wicked Warden.\")"
   ]
  },
  {
   "cell_type": "code",
   "execution_count": 270,
   "metadata": {
    "colab": {
     "base_uri": "https://localhost:8080/"
    },
    "id": "yozN-I3C0biW",
    "outputId": "e62c6969-2f86-4274-f81f-15475eb7350f"
   },
   "outputs": [
    {
     "data": {
      "text/plain": [
       "0.2392205446958542"
      ]
     },
     "execution_count": 270,
     "metadata": {
      "tags": []
     },
     "output_type": "execute_result"
    }
   ],
   "source": [
    "#make predictions\n",
    "predict(model, \"I thought this movie was fantastic. It was hilarious. Kinda reminded me of Spinal Tap. This is a must see for any fan of 70's rock. (I hope me and my friends aren't like that in twenty years!)Bill Nighy gives an excellent performance as the off kilter lead singer trying to recapture that old spirit,Stephen Rea fits perfectly into the movie as the glue trying to hold the band together, but not succeeding well.If you love music, and were ever in a band, this movie is definitely for you. You won't regret seeing this movie. I know I don't. Even my family found it funny, and that's saying something.I thought this movie was fantastic.\")"
   ]
  },
  {
   "cell_type": "code",
   "execution_count": null,
   "metadata": {
    "id": "8TgGmR_LybDt"
   },
   "outputs": [],
   "source": [
    "#Source\n",
    "\n",
    "Build Your First Text Classification model using PyTorch (Analytics Vidhya)\n",
    "https://www.kaggle.com/columbine/pytorch-sentiment-analysis\n",
    "https://colab.research.google.com/github/bentrevett/pytorch-sentiment-analysis/blob/master/1%20-%20Simple%20Sentiment%20Analysis.ipynb#scrollTo=wago_1cFtl1I\n",
    "https://sofiadutta.github.io/datascience-ipynbs/pytorch/Sentiment-Analysis-using-PyTorch.html\n",
    "https://captum.ai/tutorials/IMDB_TorchText_Interpret\n",
    "https://dzlab.github.io/dltips/en/pytorch/torchtext-datasets/"
   ]
  },
  {
   "cell_type": "code",
   "execution_count": null,
   "metadata": {
    "id": "EwulfOtNU2Gs"
   },
   "outputs": [],
   "source": []
  }
 ],
 "metadata": {
  "colab": {
   "name": "TEXT_ANALYTICS_PROBLEM 1_Using_DEEP_LEARNING_PYTORCH(3).ipynb",
   "provenance": []
  },
  "kernelspec": {
   "display_name": "Python 3",
   "language": "python",
   "name": "python3"
  },
  "language_info": {
   "codemirror_mode": {
    "name": "ipython",
    "version": 3
   },
   "file_extension": ".py",
   "mimetype": "text/x-python",
   "name": "python",
   "nbconvert_exporter": "python",
   "pygments_lexer": "ipython3",
   "version": "3.8.3"
  }
 },
 "nbformat": 4,
 "nbformat_minor": 1
}
